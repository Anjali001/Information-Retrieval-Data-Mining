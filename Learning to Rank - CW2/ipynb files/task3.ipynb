{
  "nbformat": 4,
  "nbformat_minor": 0,
  "metadata": {
    "colab": {
      "name": "IRDM_cw2_part3.ipynb",
      "provenance": [],
      "collapsed_sections": []
    },
    "kernelspec": {
      "name": "python3",
      "display_name": "Python 3"
    },
    "language_info": {
      "name": "python"
    }
  },
  "cells": [
    {
      "cell_type": "code",
      "execution_count": 1,
      "metadata": {
        "colab": {
          "base_uri": "https://localhost:8080/"
        },
        "id": "onY7EpXXWiTV",
        "outputId": "e7bf4c90-df87-45c9-dce9-a06a65dc9875"
      },
      "outputs": [
        {
          "output_type": "stream",
          "name": "stdout",
          "text": [
            "[nltk_data] Downloading package stopwords to /root/nltk_data...\n",
            "[nltk_data]   Unzipping corpora/stopwords.zip.\n"
          ]
        }
      ],
      "source": [
        "import pandas as pd\n",
        "import numpy as np\n",
        "import string\n",
        "import matplotlib.pyplot as plt\n",
        "import seaborn as sns\n",
        "from nltk.tokenize import RegexpTokenizer\n",
        "from nltk.corpus import stopwords\n",
        "import nltk\n",
        "nltk.download('stopwords')\n",
        "pd.options.mode.chained_assignment = None\n",
        "from tqdm import tqdm"
      ]
    },
    {
      "cell_type": "code",
      "source": [
        "from google.colab import drive\n",
        "drive.mount('/content/drive')"
      ],
      "metadata": {
        "colab": {
          "base_uri": "https://localhost:8080/"
        },
        "id": "mH4UA00mWsfb",
        "outputId": "abbeace4-3f8c-44b1-e351-1521b83de269"
      },
      "execution_count": 2,
      "outputs": [
        {
          "output_type": "stream",
          "name": "stdout",
          "text": [
            "Mounted at /content/drive\n"
          ]
        }
      ]
    },
    {
      "cell_type": "code",
      "source": [
        "validation_data = pd.read_csv('/content/drive/MyDrive/IRDM Coursework 2/validation_data_cosine.csv',index_col=0)"
      ],
      "metadata": {
        "id": "jj8BvDVntHdg"
      },
      "execution_count": 3,
      "outputs": []
    },
    {
      "cell_type": "code",
      "source": [
        "train_data = pd.read_csv('/content/drive/MyDrive/IRDM Coursework 2/train_data.tsv',sep='\\t')\n",
        "print(train_data.shape)"
      ],
      "metadata": {
        "colab": {
          "base_uri": "https://localhost:8080/"
        },
        "id": "jbHzSAjZWubW",
        "outputId": "89dbbd2f-38b7-40ca-e334-302e4339bcce"
      },
      "execution_count": 4,
      "outputs": [
        {
          "output_type": "stream",
          "name": "stdout",
          "text": [
            "(4364339, 5)\n"
          ]
        }
      ]
    },
    {
      "cell_type": "code",
      "source": [
        "train_data['relevancy'].value_counts(normalize=True)"
      ],
      "metadata": {
        "colab": {
          "base_uri": "https://localhost:8080/"
        },
        "id": "lG9H18P6A37z",
        "outputId": "2b860a2e-d050-437c-c81b-644c057202b1"
      },
      "execution_count": 5,
      "outputs": [
        {
          "output_type": "execute_result",
          "data": {
            "text/plain": [
              "0.0    0.998901\n",
              "1.0    0.001099\n",
              "Name: relevancy, dtype: float64"
            ]
          },
          "metadata": {},
          "execution_count": 5
        }
      ]
    },
    {
      "cell_type": "code",
      "source": [
        "def negative_sampling(data,r,k):\n",
        "  qid_list = np.unique(np.asarray(data['qid']))\n",
        "  samples = []\n",
        "  for qid in qid_list:\n",
        "    pos_temp = data[(data['qid'] == qid) & (data['relevancy'] == 1)]\n",
        "    neg_temp = data[(data['qid'] == qid) & (data['relevancy'] == 0)]\n",
        "    if len(pos_temp)<r:\n",
        "      samples.append(pos_temp)\n",
        "    else:\n",
        "      samples.append(pos_temp.sample(n=r, random_state=1))\n",
        "    if len(neg_temp) < k:\n",
        "      samples.append(neg_temp)\n",
        "    else:\n",
        "      samples.append(neg_temp.sample(n=k, random_state=1))\n",
        "  new_data = pd.concat(samples)\n",
        "  return new_data.reset_index(drop=True)"
      ],
      "metadata": {
        "id": "vj1kX628AxLa"
      },
      "execution_count": 6,
      "outputs": []
    },
    {
      "cell_type": "code",
      "source": [
        "final_train = negative_sampling(train_data,10,20)\n",
        "final_train = final_train.reset_index(drop=True)"
      ],
      "metadata": {
        "id": "chPR-l9WA2kL"
      },
      "execution_count": 7,
      "outputs": []
    },
    {
      "cell_type": "code",
      "source": [
        "# from imblearn.over_sampling import RandomOverSampler"
      ],
      "metadata": {
        "id": "4Qaus1t2C5rp"
      },
      "execution_count": 8,
      "outputs": []
    },
    {
      "cell_type": "code",
      "source": [
        "final_train['relevancy'].value_counts(normalize=True)"
      ],
      "metadata": {
        "colab": {
          "base_uri": "https://localhost:8080/"
        },
        "id": "qTxhhkLf_3ZV",
        "outputId": "cbe7ebd7-b7c6-4ab0-f0db-c8b1c96daa3a"
      },
      "execution_count": 9,
      "outputs": [
        {
          "output_type": "execute_result",
          "data": {
            "text/plain": [
              "0.0    0.949966\n",
              "1.0    0.050034\n",
              "Name: relevancy, dtype: float64"
            ]
          },
          "metadata": {},
          "execution_count": 9
        }
      ]
    },
    {
      "cell_type": "code",
      "source": [
        "def preprocess_single_passage(passage,stop_words=True):\n",
        "    tokenizer = RegexpTokenizer(r'\\w+')\n",
        "    tok_pass = tokenizer.tokenize(passage)\n",
        "    tok_pass = [tok for tok in tok_pass if tok.isalpha()]\n",
        "    tok_pass = [tok.lower() for tok in tok_pass]\n",
        "    \n",
        "    if stop_words == True:\n",
        "        stop_words = stopwords.words('english')\n",
        "        tokens = [tok for tok in tok_pass if tok not in stop_words]\n",
        "    else:\n",
        "        tokens = tok_pass\n",
        "    return tokens"
      ],
      "metadata": {
        "id": "RDx_PYPpt8GP"
      },
      "execution_count": 10,
      "outputs": []
    },
    {
      "cell_type": "code",
      "source": [
        "query_tokens_dict = {}\n",
        "qid_list, ind_list = np.unique(np.asarray(final_train['qid']),return_index=True)\n",
        "for qid, ind in tqdm(zip(qid_list,ind_list)):\n",
        "  query_tokens_dict[qid] = preprocess_single_passage(final_train.loc[ind,'queries'])\n",
        "final_train.loc[:,'query_tokens'] = final_train['qid'].map(query_tokens_dict)\n",
        "\n",
        "passage_tokens_dict = {}\n",
        "pid_list, ind_list = np.unique(np.asarray(final_train['pid']),return_index=True)\n",
        "for pid, ind in tqdm(zip(pid_list,ind_list)):\n",
        "  passage_tokens_dict[pid] = preprocess_single_passage(final_train.loc[ind,'passage'])\n",
        "final_train['passage_tokens'] = final_train['pid'].map(passage_tokens_dict)"
      ],
      "metadata": {
        "colab": {
          "base_uri": "https://localhost:8080/"
        },
        "id": "_5mMdHnmW4ch",
        "outputId": "c8d94868-f333-445a-96b5-b913530fb5b3"
      },
      "execution_count": 11,
      "outputs": [
        {
          "output_type": "stream",
          "name": "stderr",
          "text": [
            "4590it [00:00, 5099.32it/s]\n",
            "91708it [00:31, 2871.35it/s]\n"
          ]
        }
      ]
    },
    {
      "cell_type": "code",
      "source": [
        "from gensim.test.utils import datapath, get_tmpfile\n",
        "from gensim.models import KeyedVectors\n",
        "from gensim.scripts.glove2word2vec import glove2word2vec\n",
        "glove_file = '/content/drive/MyDrive/IRDM Coursework 2/glove.6B.50d.txt'\n",
        "tmp_file = get_tmpfile(\"test_word2vec.txt\")\n",
        "_ = glove2word2vec(glove_file, tmp_file)\n",
        "model = KeyedVectors.load_word2vec_format(tmp_file,binary=False)"
      ],
      "metadata": {
        "id": "cIRMjA0Xuklt"
      },
      "execution_count": 12,
      "outputs": []
    },
    {
      "cell_type": "code",
      "source": [
        "def get_embedding(tokens):\n",
        "  '''\n",
        "  INPUT\n",
        "  tokens: a list of tokens\n",
        "  OUTPUT\n",
        "  average embedding: a vectorb represents average embedding of the input list of tokens\n",
        "  '''\n",
        "  embedding = 0\n",
        "  nom = len(tokens)\n",
        "  for token in tokens:\n",
        "    if token not in model:\n",
        "      nom -= 1\n",
        "    else:\n",
        "      embedding += model[token]\n",
        "  try:\n",
        "    return embedding/nom\n",
        "  except:\n",
        "    return 0"
      ],
      "metadata": {
        "id": "18nyLtnvtBJn"
      },
      "execution_count": 13,
      "outputs": []
    },
    {
      "cell_type": "code",
      "source": [
        "passage_embedding_dict = {}\n",
        "pid_list, ind_list = np.unique(np.asarray(final_train['pid']),return_index=True)\n",
        "for pid,ind in tqdm(zip(pid_list,ind_list)):\n",
        "  passage_embedding_dict[pid] = get_embedding(final_train.loc[ind,'passage_tokens']) \n",
        "final_train['passage_embedding'] = final_train['pid'].map(passage_embedding_dict)"
      ],
      "metadata": {
        "colab": {
          "base_uri": "https://localhost:8080/"
        },
        "id": "D_ntnSYvtGQK",
        "outputId": "80f185bf-8bbb-4abb-f7de-8e64ef2692cb"
      },
      "execution_count": 14,
      "outputs": [
        {
          "output_type": "stream",
          "name": "stderr",
          "text": [
            "91708it [00:12, 7632.45it/s]\n"
          ]
        }
      ]
    },
    {
      "cell_type": "code",
      "source": [
        "query_embedding_dict = {}\n",
        "qid_list, ind_list = np.unique(np.asarray(final_train['qid']),return_index=True)\n",
        "for qid,ind in tqdm(zip(qid_list,ind_list)):\n",
        "  query_embedding_dict[qid] = get_embedding(final_train.loc[ind,'query_tokens']) \n",
        "final_train['query_embedding'] = final_train['qid'].map(query_embedding_dict)"
      ],
      "metadata": {
        "colab": {
          "base_uri": "https://localhost:8080/"
        },
        "id": "bMJ7ypJctGLe",
        "outputId": "b01094f9-03fc-480f-bc77-3598457682e8"
      },
      "execution_count": 15,
      "outputs": [
        {
          "output_type": "stream",
          "name": "stderr",
          "text": [
            "4590it [00:00, 34662.23it/s]\n"
          ]
        }
      ]
    },
    {
      "cell_type": "code",
      "source": [
        "def cosine_similarity(data):\n",
        "  temp = []\n",
        "  for i in tqdm(range(len(data))):\n",
        "    denom = np.dot(data.loc[i,'query_embedding'],data.loc[i,'passage_embedding'])\n",
        "    nom = np.sqrt(np.square(data.loc[i,'query_embedding']).sum())*np.sqrt(np.square(data.loc[i,'passage_embedding']).sum())\n",
        "    if nom == 0:\n",
        "      temp.append(0)\n",
        "    else:\n",
        "      temp.append(denom/nom)\n",
        "  data['cosine_similarity'] = temp\n",
        "  return data"
      ],
      "metadata": {
        "id": "Ck3QUhynbnT8"
      },
      "execution_count": 16,
      "outputs": []
    },
    {
      "cell_type": "code",
      "source": [
        "cosine_similarity(final_train)"
      ],
      "metadata": {
        "id": "e3F7znvDbsl_",
        "colab": {
          "base_uri": "https://localhost:8080/",
          "height": 1000
        },
        "outputId": "bb28bcd6-96a4-45be-b409-ae4d740d130a"
      },
      "execution_count": 17,
      "outputs": [
        {
          "output_type": "stream",
          "name": "stderr",
          "text": [
            "100%|██████████| 95874/95874 [00:09<00:00, 10238.70it/s]\n"
          ]
        },
        {
          "output_type": "execute_result",
          "data": {
            "text/plain": [
              "           qid      pid                    queries  \\\n",
              "0            2  4339068   Androgen receptor define   \n",
              "1            2  7279219   Androgen receptor define   \n",
              "2            2  6229171   Androgen receptor define   \n",
              "3            2  2946560   Androgen receptor define   \n",
              "4            2  4803916   Androgen receptor define   \n",
              "...        ...      ...                        ...   \n",
              "95869  1102400  2894724     why do bears hibernate   \n",
              "95870  1102400  8835271     why do bears hibernate   \n",
              "95871  1102400  1481892     why do bears hibernate   \n",
              "95872  1102400  5275866     why do bears hibernate   \n",
              "95873  1102400  7038609     why do bears hibernate   \n",
              "\n",
              "                                                 passage  relevancy  \\\n",
              "0      The androgen receptor (AR), also known as NR3C...        1.0   \n",
              "1      : ligand binding to a G protein-coupled recept...        0.0   \n",
              "2      When insulin binds to the receptor on the cell...        0.0   \n",
              "3      1. exteroceptor-any receptor that responds to ...        0.0   \n",
              "4      a device that measures the quantity of radiati...        0.0   \n",
              "...                                                  ...        ...   \n",
              "95869  To put your computer into hibernate mode, clic...        0.0   \n",
              "95870  Bears also eat other animals, from rodents to ...        0.0   \n",
              "95871  Hershey Bears Staff | Special to PennLive Bear...        0.0   \n",
              "95872  However, when female pandas are pregnant (or p...        0.0   \n",
              "95873  During cold weather, snails and slugs hibernat...        0.0   \n",
              "\n",
              "                       query_tokens  \\\n",
              "0      [androgen, receptor, define]   \n",
              "1      [androgen, receptor, define]   \n",
              "2      [androgen, receptor, define]   \n",
              "3      [androgen, receptor, define]   \n",
              "4      [androgen, receptor, define]   \n",
              "...                             ...   \n",
              "95869            [bears, hibernate]   \n",
              "95870            [bears, hibernate]   \n",
              "95871            [bears, hibernate]   \n",
              "95872            [bears, hibernate]   \n",
              "95873            [bears, hibernate]   \n",
              "\n",
              "                                          passage_tokens  \\\n",
              "0      [androgen, receptor, ar, also, known, nuclear,...   \n",
              "1      [ligand, binding, g, protein, coupled, recepto...   \n",
              "2      [insulin, binds, receptor, cell, surface, rece...   \n",
              "3      [exteroceptor, receptor, responds, stimuli, ou...   \n",
              "4      [device, measures, quantity, radiation, reache...   \n",
              "...                                                  ...   \n",
              "95869  [put, computer, hibernate, mode, click, start,...   \n",
              "95870  [bears, also, eat, animals, rodents, moose, wo...   \n",
              "95871  [hershey, bears, staff, special, pennlive, bea...   \n",
              "95872  [however, female, pandas, pregnant, pseudopreg...   \n",
              "95873  [cold, weather, snails, slugs, hibernate, tops...   \n",
              "\n",
              "                                       passage_embedding  \\\n",
              "0      [0.49091795, 0.29157883, 0.11163568, 0.1308564...   \n",
              "1      [0.70091456, 0.38167945, 0.17395169, 0.4451514...   \n",
              "2      [0.8574829, 0.10805729, 0.43395844, 0.2213999,...   \n",
              "3      [0.7432729, 0.17395918, -0.2440114, -0.0124907...   \n",
              "4      [0.484962, 0.23540024, 0.50870895, -0.0826678,...   \n",
              "...                                                  ...   \n",
              "95869  [0.04930706, -0.24188125, 0.5842177, 0.0156327...   \n",
              "95870  [0.25202996, 0.24495722, 0.08694486, 0.0634161...   \n",
              "95871  [-0.024949748, 0.3823909, 0.06031613, 0.056671...   \n",
              "95872  [0.21554077, 0.35769, -0.18675022, -0.19184287...   \n",
              "95873  [0.37608686, 0.20993516, -0.025107434, 0.15976...   \n",
              "\n",
              "                                         query_embedding  cosine_similarity  \n",
              "0      [0.65137, 0.6691633, -0.05296333, 0.198797, 0....           0.874866  \n",
              "1      [0.65137, 0.6691633, -0.05296333, 0.198797, 0....           0.804005  \n",
              "2      [0.65137, 0.6691633, -0.05296333, 0.198797, 0....           0.752639  \n",
              "3      [0.65137, 0.6691633, -0.05296333, 0.198797, 0....           0.660131  \n",
              "4      [0.65137, 0.6691633, -0.05296333, 0.198797, 0....           0.642420  \n",
              "...                                                  ...                ...  \n",
              "95869  [0.015780002, 0.16692501, -0.128705, -0.283115...           0.406505  \n",
              "95870  [0.015780002, 0.16692501, -0.128705, -0.283115...           0.400412  \n",
              "95871  [0.015780002, 0.16692501, -0.128705, -0.283115...           0.420733  \n",
              "95872  [0.015780002, 0.16692501, -0.128705, -0.283115...           0.561383  \n",
              "95873  [0.015780002, 0.16692501, -0.128705, -0.283115...           0.497739  \n",
              "\n",
              "[95874 rows x 10 columns]"
            ],
            "text/html": [
              "\n",
              "  <div id=\"df-552b60a2-4c60-4efc-af61-5eee862adb34\">\n",
              "    <div class=\"colab-df-container\">\n",
              "      <div>\n",
              "<style scoped>\n",
              "    .dataframe tbody tr th:only-of-type {\n",
              "        vertical-align: middle;\n",
              "    }\n",
              "\n",
              "    .dataframe tbody tr th {\n",
              "        vertical-align: top;\n",
              "    }\n",
              "\n",
              "    .dataframe thead th {\n",
              "        text-align: right;\n",
              "    }\n",
              "</style>\n",
              "<table border=\"1\" class=\"dataframe\">\n",
              "  <thead>\n",
              "    <tr style=\"text-align: right;\">\n",
              "      <th></th>\n",
              "      <th>qid</th>\n",
              "      <th>pid</th>\n",
              "      <th>queries</th>\n",
              "      <th>passage</th>\n",
              "      <th>relevancy</th>\n",
              "      <th>query_tokens</th>\n",
              "      <th>passage_tokens</th>\n",
              "      <th>passage_embedding</th>\n",
              "      <th>query_embedding</th>\n",
              "      <th>cosine_similarity</th>\n",
              "    </tr>\n",
              "  </thead>\n",
              "  <tbody>\n",
              "    <tr>\n",
              "      <th>0</th>\n",
              "      <td>2</td>\n",
              "      <td>4339068</td>\n",
              "      <td>Androgen receptor define</td>\n",
              "      <td>The androgen receptor (AR), also known as NR3C...</td>\n",
              "      <td>1.0</td>\n",
              "      <td>[androgen, receptor, define]</td>\n",
              "      <td>[androgen, receptor, ar, also, known, nuclear,...</td>\n",
              "      <td>[0.49091795, 0.29157883, 0.11163568, 0.1308564...</td>\n",
              "      <td>[0.65137, 0.6691633, -0.05296333, 0.198797, 0....</td>\n",
              "      <td>0.874866</td>\n",
              "    </tr>\n",
              "    <tr>\n",
              "      <th>1</th>\n",
              "      <td>2</td>\n",
              "      <td>7279219</td>\n",
              "      <td>Androgen receptor define</td>\n",
              "      <td>: ligand binding to a G protein-coupled recept...</td>\n",
              "      <td>0.0</td>\n",
              "      <td>[androgen, receptor, define]</td>\n",
              "      <td>[ligand, binding, g, protein, coupled, recepto...</td>\n",
              "      <td>[0.70091456, 0.38167945, 0.17395169, 0.4451514...</td>\n",
              "      <td>[0.65137, 0.6691633, -0.05296333, 0.198797, 0....</td>\n",
              "      <td>0.804005</td>\n",
              "    </tr>\n",
              "    <tr>\n",
              "      <th>2</th>\n",
              "      <td>2</td>\n",
              "      <td>6229171</td>\n",
              "      <td>Androgen receptor define</td>\n",
              "      <td>When insulin binds to the receptor on the cell...</td>\n",
              "      <td>0.0</td>\n",
              "      <td>[androgen, receptor, define]</td>\n",
              "      <td>[insulin, binds, receptor, cell, surface, rece...</td>\n",
              "      <td>[0.8574829, 0.10805729, 0.43395844, 0.2213999,...</td>\n",
              "      <td>[0.65137, 0.6691633, -0.05296333, 0.198797, 0....</td>\n",
              "      <td>0.752639</td>\n",
              "    </tr>\n",
              "    <tr>\n",
              "      <th>3</th>\n",
              "      <td>2</td>\n",
              "      <td>2946560</td>\n",
              "      <td>Androgen receptor define</td>\n",
              "      <td>1. exteroceptor-any receptor that responds to ...</td>\n",
              "      <td>0.0</td>\n",
              "      <td>[androgen, receptor, define]</td>\n",
              "      <td>[exteroceptor, receptor, responds, stimuli, ou...</td>\n",
              "      <td>[0.7432729, 0.17395918, -0.2440114, -0.0124907...</td>\n",
              "      <td>[0.65137, 0.6691633, -0.05296333, 0.198797, 0....</td>\n",
              "      <td>0.660131</td>\n",
              "    </tr>\n",
              "    <tr>\n",
              "      <th>4</th>\n",
              "      <td>2</td>\n",
              "      <td>4803916</td>\n",
              "      <td>Androgen receptor define</td>\n",
              "      <td>a device that measures the quantity of radiati...</td>\n",
              "      <td>0.0</td>\n",
              "      <td>[androgen, receptor, define]</td>\n",
              "      <td>[device, measures, quantity, radiation, reache...</td>\n",
              "      <td>[0.484962, 0.23540024, 0.50870895, -0.0826678,...</td>\n",
              "      <td>[0.65137, 0.6691633, -0.05296333, 0.198797, 0....</td>\n",
              "      <td>0.642420</td>\n",
              "    </tr>\n",
              "    <tr>\n",
              "      <th>...</th>\n",
              "      <td>...</td>\n",
              "      <td>...</td>\n",
              "      <td>...</td>\n",
              "      <td>...</td>\n",
              "      <td>...</td>\n",
              "      <td>...</td>\n",
              "      <td>...</td>\n",
              "      <td>...</td>\n",
              "      <td>...</td>\n",
              "      <td>...</td>\n",
              "    </tr>\n",
              "    <tr>\n",
              "      <th>95869</th>\n",
              "      <td>1102400</td>\n",
              "      <td>2894724</td>\n",
              "      <td>why do bears hibernate</td>\n",
              "      <td>To put your computer into hibernate mode, clic...</td>\n",
              "      <td>0.0</td>\n",
              "      <td>[bears, hibernate]</td>\n",
              "      <td>[put, computer, hibernate, mode, click, start,...</td>\n",
              "      <td>[0.04930706, -0.24188125, 0.5842177, 0.0156327...</td>\n",
              "      <td>[0.015780002, 0.16692501, -0.128705, -0.283115...</td>\n",
              "      <td>0.406505</td>\n",
              "    </tr>\n",
              "    <tr>\n",
              "      <th>95870</th>\n",
              "      <td>1102400</td>\n",
              "      <td>8835271</td>\n",
              "      <td>why do bears hibernate</td>\n",
              "      <td>Bears also eat other animals, from rodents to ...</td>\n",
              "      <td>0.0</td>\n",
              "      <td>[bears, hibernate]</td>\n",
              "      <td>[bears, also, eat, animals, rodents, moose, wo...</td>\n",
              "      <td>[0.25202996, 0.24495722, 0.08694486, 0.0634161...</td>\n",
              "      <td>[0.015780002, 0.16692501, -0.128705, -0.283115...</td>\n",
              "      <td>0.400412</td>\n",
              "    </tr>\n",
              "    <tr>\n",
              "      <th>95871</th>\n",
              "      <td>1102400</td>\n",
              "      <td>1481892</td>\n",
              "      <td>why do bears hibernate</td>\n",
              "      <td>Hershey Bears Staff | Special to PennLive Bear...</td>\n",
              "      <td>0.0</td>\n",
              "      <td>[bears, hibernate]</td>\n",
              "      <td>[hershey, bears, staff, special, pennlive, bea...</td>\n",
              "      <td>[-0.024949748, 0.3823909, 0.06031613, 0.056671...</td>\n",
              "      <td>[0.015780002, 0.16692501, -0.128705, -0.283115...</td>\n",
              "      <td>0.420733</td>\n",
              "    </tr>\n",
              "    <tr>\n",
              "      <th>95872</th>\n",
              "      <td>1102400</td>\n",
              "      <td>5275866</td>\n",
              "      <td>why do bears hibernate</td>\n",
              "      <td>However, when female pandas are pregnant (or p...</td>\n",
              "      <td>0.0</td>\n",
              "      <td>[bears, hibernate]</td>\n",
              "      <td>[however, female, pandas, pregnant, pseudopreg...</td>\n",
              "      <td>[0.21554077, 0.35769, -0.18675022, -0.19184287...</td>\n",
              "      <td>[0.015780002, 0.16692501, -0.128705, -0.283115...</td>\n",
              "      <td>0.561383</td>\n",
              "    </tr>\n",
              "    <tr>\n",
              "      <th>95873</th>\n",
              "      <td>1102400</td>\n",
              "      <td>7038609</td>\n",
              "      <td>why do bears hibernate</td>\n",
              "      <td>During cold weather, snails and slugs hibernat...</td>\n",
              "      <td>0.0</td>\n",
              "      <td>[bears, hibernate]</td>\n",
              "      <td>[cold, weather, snails, slugs, hibernate, tops...</td>\n",
              "      <td>[0.37608686, 0.20993516, -0.025107434, 0.15976...</td>\n",
              "      <td>[0.015780002, 0.16692501, -0.128705, -0.283115...</td>\n",
              "      <td>0.497739</td>\n",
              "    </tr>\n",
              "  </tbody>\n",
              "</table>\n",
              "<p>95874 rows × 10 columns</p>\n",
              "</div>\n",
              "      <button class=\"colab-df-convert\" onclick=\"convertToInteractive('df-552b60a2-4c60-4efc-af61-5eee862adb34')\"\n",
              "              title=\"Convert this dataframe to an interactive table.\"\n",
              "              style=\"display:none;\">\n",
              "        \n",
              "  <svg xmlns=\"http://www.w3.org/2000/svg\" height=\"24px\"viewBox=\"0 0 24 24\"\n",
              "       width=\"24px\">\n",
              "    <path d=\"M0 0h24v24H0V0z\" fill=\"none\"/>\n",
              "    <path d=\"M18.56 5.44l.94 2.06.94-2.06 2.06-.94-2.06-.94-.94-2.06-.94 2.06-2.06.94zm-11 1L8.5 8.5l.94-2.06 2.06-.94-2.06-.94L8.5 2.5l-.94 2.06-2.06.94zm10 10l.94 2.06.94-2.06 2.06-.94-2.06-.94-.94-2.06-.94 2.06-2.06.94z\"/><path d=\"M17.41 7.96l-1.37-1.37c-.4-.4-.92-.59-1.43-.59-.52 0-1.04.2-1.43.59L10.3 9.45l-7.72 7.72c-.78.78-.78 2.05 0 2.83L4 21.41c.39.39.9.59 1.41.59.51 0 1.02-.2 1.41-.59l7.78-7.78 2.81-2.81c.8-.78.8-2.07 0-2.86zM5.41 20L4 18.59l7.72-7.72 1.47 1.35L5.41 20z\"/>\n",
              "  </svg>\n",
              "      </button>\n",
              "      \n",
              "  <style>\n",
              "    .colab-df-container {\n",
              "      display:flex;\n",
              "      flex-wrap:wrap;\n",
              "      gap: 12px;\n",
              "    }\n",
              "\n",
              "    .colab-df-convert {\n",
              "      background-color: #E8F0FE;\n",
              "      border: none;\n",
              "      border-radius: 50%;\n",
              "      cursor: pointer;\n",
              "      display: none;\n",
              "      fill: #1967D2;\n",
              "      height: 32px;\n",
              "      padding: 0 0 0 0;\n",
              "      width: 32px;\n",
              "    }\n",
              "\n",
              "    .colab-df-convert:hover {\n",
              "      background-color: #E2EBFA;\n",
              "      box-shadow: 0px 1px 2px rgba(60, 64, 67, 0.3), 0px 1px 3px 1px rgba(60, 64, 67, 0.15);\n",
              "      fill: #174EA6;\n",
              "    }\n",
              "\n",
              "    [theme=dark] .colab-df-convert {\n",
              "      background-color: #3B4455;\n",
              "      fill: #D2E3FC;\n",
              "    }\n",
              "\n",
              "    [theme=dark] .colab-df-convert:hover {\n",
              "      background-color: #434B5C;\n",
              "      box-shadow: 0px 1px 3px 1px rgba(0, 0, 0, 0.15);\n",
              "      filter: drop-shadow(0px 1px 2px rgba(0, 0, 0, 0.3));\n",
              "      fill: #FFFFFF;\n",
              "    }\n",
              "  </style>\n",
              "\n",
              "      <script>\n",
              "        const buttonEl =\n",
              "          document.querySelector('#df-552b60a2-4c60-4efc-af61-5eee862adb34 button.colab-df-convert');\n",
              "        buttonEl.style.display =\n",
              "          google.colab.kernel.accessAllowed ? 'block' : 'none';\n",
              "\n",
              "        async function convertToInteractive(key) {\n",
              "          const element = document.querySelector('#df-552b60a2-4c60-4efc-af61-5eee862adb34');\n",
              "          const dataTable =\n",
              "            await google.colab.kernel.invokeFunction('convertToInteractive',\n",
              "                                                     [key], {});\n",
              "          if (!dataTable) return;\n",
              "\n",
              "          const docLinkHtml = 'Like what you see? Visit the ' +\n",
              "            '<a target=\"_blank\" href=https://colab.research.google.com/notebooks/data_table.ipynb>data table notebook</a>'\n",
              "            + ' to learn more about interactive tables.';\n",
              "          element.innerHTML = '';\n",
              "          dataTable['output_type'] = 'display_data';\n",
              "          await google.colab.output.renderOutput(dataTable, element);\n",
              "          const docLink = document.createElement('div');\n",
              "          docLink.innerHTML = docLinkHtml;\n",
              "          element.appendChild(docLink);\n",
              "        }\n",
              "      </script>\n",
              "    </div>\n",
              "  </div>\n",
              "  "
            ]
          },
          "metadata": {},
          "execution_count": 17
        }
      ]
    },
    {
      "cell_type": "code",
      "source": [
        "final_train['DocLen'] = 0\n",
        "final_train['queryLen'] = 0\n",
        "for i, row in final_train.iterrows():\n",
        "  final_train['DocLen'][i] = len(final_train['passage'][i])\n",
        "  final_train['queryLen'][i] = len(final_train['queries'][i])"
      ],
      "metadata": {
        "id": "zBIVtMWhXEC8"
      },
      "execution_count": 18,
      "outputs": []
    },
    {
      "cell_type": "code",
      "source": [
        "validation_data['DocLen'] = 0\n",
        "validation_data['queryLen'] = 0\n",
        "for i, row in validation_data.iterrows():\n",
        "  validation_data['DocLen'][i] = len(validation_data['passage'][i])\n",
        "  validation_data['queryLen'][i] = len(validation_data['queries'][i])"
      ],
      "metadata": {
        "id": "owhZUPswXEXm"
      },
      "execution_count": 19,
      "outputs": []
    },
    {
      "cell_type": "code",
      "source": [
        "final_train.shape"
      ],
      "metadata": {
        "colab": {
          "base_uri": "https://localhost:8080/"
        },
        "id": "T9iyCvO4bf_Q",
        "outputId": "9251dbbf-bd7c-421b-db50-0daef3a3feb7"
      },
      "execution_count": 20,
      "outputs": [
        {
          "output_type": "execute_result",
          "data": {
            "text/plain": [
              "(95874, 12)"
            ]
          },
          "metadata": {},
          "execution_count": 20
        }
      ]
    },
    {
      "cell_type": "code",
      "source": [
        "X = final_train[['cosine_similarity', 'DocLen', 'queryLen','qid','relevancy']]"
      ],
      "metadata": {
        "id": "O82wMjw6DglB"
      },
      "execution_count": 21,
      "outputs": []
    },
    {
      "cell_type": "code",
      "source": [
        "from sklearn.model_selection import train_test_split\n",
        "Tr,V = train_test_split(X,test_size = 0.2,stratify = final_train['relevancy'])"
      ],
      "metadata": {
        "id": "2gi7RhDRqq7C"
      },
      "execution_count": 22,
      "outputs": []
    },
    {
      "cell_type": "code",
      "source": [
        "from xgboost import DMatrix,train,cv\n",
        "num_of_features = 3\n",
        "training_data = Tr.sort_values(by=['qid'], ascending=False)"
      ],
      "metadata": {
        "id": "g33SGpcfXF0p"
      },
      "execution_count": 23,
      "outputs": []
    },
    {
      "cell_type": "code",
      "source": [
        "xTr = training_data[['cosine_similarity', 'DocLen', 'queryLen']].values\n",
        "yTr = training_data['relevancy'].values\n",
        "QueryCount_Tr = training_data['qid'].value_counts().to_dict() #qid as key and counts as value"
      ],
      "metadata": {
        "id": "LRBFSs0Sj05A"
      },
      "execution_count": 24,
      "outputs": []
    },
    {
      "cell_type": "code",
      "source": [
        "Dgroup_Tr = []\n",
        "qid_list_Tr = []\n",
        "for idx, row in training_data.iterrows():\n",
        "  query = row['qid']\n",
        "  if query in qid_list_Tr:\n",
        "    continue\n",
        "  else:\n",
        "    qid_list_Tr.append(query)\n",
        "    Dgroup_Tr.append(QueryCount_Tr[query])"
      ],
      "metadata": {
        "id": "ob5nKmMmlD1i"
      },
      "execution_count": 25,
      "outputs": []
    },
    {
      "cell_type": "code",
      "source": [
        "V = V.sort_values(by=['qid'], ascending=False)"
      ],
      "metadata": {
        "id": "J9xA292DftYo"
      },
      "execution_count": 26,
      "outputs": []
    },
    {
      "cell_type": "code",
      "source": [
        "xV = V[['cosine_similarity', 'DocLen', 'queryLen']].values\n",
        "yV = V['relevancy'].values\n",
        "QueryCount_V = V['qid'].value_counts().to_dict() #qid as key and counts as value"
      ],
      "metadata": {
        "id": "EZqriD5EftWL"
      },
      "execution_count": 27,
      "outputs": []
    },
    {
      "cell_type": "code",
      "source": [
        "Dgroup_V = []\n",
        "qid_list_V = []\n",
        "for idx, row in V.iterrows():\n",
        "  query = row['qid']\n",
        "  if query in qid_list_V:\n",
        "    continue\n",
        "  else:\n",
        "    qid_list_V.append(query)\n",
        "    Dgroup_V.append(QueryCount_V[query])"
      ],
      "metadata": {
        "id": "kdaVo3OxfyTJ"
      },
      "execution_count": 28,
      "outputs": []
    },
    {
      "cell_type": "code",
      "source": [
        "validation_data = validation_data.sort_values(by=['qid'], ascending=False)\n",
        "xTe = validation_data[['cosine_similarity', 'DocLen', 'queryLen']].values\n",
        "yTe = validation_data['relevancy'].values\n",
        "QueryCount_Te = validation_data['qid'].value_counts().to_dict() #qid as key and counts as value"
      ],
      "metadata": {
        "id": "b3Y05wUYnhOx"
      },
      "execution_count": 29,
      "outputs": []
    },
    {
      "cell_type": "code",
      "source": [
        "Dgroup_Te = []\n",
        "qid_list_Te = []\n",
        "for idx, row in validation_data.iterrows():\n",
        "  query = row['qid']\n",
        "  if query in qid_list_Te:\n",
        "    continue\n",
        "  else:\n",
        "    qid_list_Te.append(query)\n",
        "    Dgroup_Te.append(QueryCount_Te[query])"
      ],
      "metadata": {
        "id": "BJjvDtnmnrQI"
      },
      "execution_count": 30,
      "outputs": []
    },
    {
      "cell_type": "code",
      "source": [
        "Tr_dmatrix = DMatrix(data = xTr, label = yTr)\n",
        "Te_dmatrix = DMatrix(data = xTe, label = yTe)\n",
        "V_dmatrix = DMatrix(data = xV, label = yV)\n",
        "Tr_dmatrix.set_group(Dgroup_Tr)\n",
        "Te_dmatrix.set_group(Dgroup_Te)\n",
        "V_dmatrix.set_group(Dgroup_V)"
      ],
      "metadata": {
        "id": "u4Ix_-kFn-O5"
      },
      "execution_count": 31,
      "outputs": []
    },
    {
      "cell_type": "code",
      "source": [
        "params1 = {'objective': 'rank:ndcg', 'eval_metric': 'ndcg', 'eta': 0.0001, 'max_depth': 5}\n",
        "#eta is learning rate"
      ],
      "metadata": {
        "id": "orEsEZ5Eoc0t"
      },
      "execution_count": 32,
      "outputs": []
    },
    {
      "cell_type": "code",
      "source": [
        "lambdaRank_model1 = train(params1, Tr_dmatrix, num_boost_round=500,evals=[(V_dmatrix, 'validation')],verbose_eval =100)"
      ],
      "metadata": {
        "colab": {
          "base_uri": "https://localhost:8080/"
        },
        "id": "LWbpcEAhoiIW",
        "outputId": "f704e8af-18c8-4ec2-a6ba-56ca0bfdc8d0"
      },
      "execution_count": 33,
      "outputs": [
        {
          "output_type": "stream",
          "name": "stdout",
          "text": [
            "[0]\tvalidation-ndcg:0.9377\n",
            "[100]\tvalidation-ndcg:0.94004\n",
            "[200]\tvalidation-ndcg:0.940097\n",
            "[300]\tvalidation-ndcg:0.939922\n",
            "[400]\tvalidation-ndcg:0.940003\n",
            "[499]\tvalidation-ndcg:0.940044\n"
          ]
        }
      ]
    },
    {
      "cell_type": "code",
      "source": [
        "params2 = {'objective': 'rank:ndcg', 'eval_metric': 'ndcg', 'eta': 0.001, 'max_depth': 5}\n",
        "lambdaRank_model2 = train(params2, Tr_dmatrix, num_boost_round=500,evals=[(V_dmatrix, 'validation')],verbose_eval =100)"
      ],
      "metadata": {
        "colab": {
          "base_uri": "https://localhost:8080/"
        },
        "id": "T1Vf0j5d4ss9",
        "outputId": "843a97b6-c598-4979-8115-4c44423ab37f"
      },
      "execution_count": 34,
      "outputs": [
        {
          "output_type": "stream",
          "name": "stdout",
          "text": [
            "[0]\tvalidation-ndcg:0.9377\n",
            "[100]\tvalidation-ndcg:0.940084\n",
            "[200]\tvalidation-ndcg:0.941274\n",
            "[300]\tvalidation-ndcg:0.941309\n",
            "[400]\tvalidation-ndcg:0.941489\n",
            "[499]\tvalidation-ndcg:0.94141\n"
          ]
        }
      ]
    },
    {
      "cell_type": "code",
      "source": [
        "params3 = {'objective': 'rank:ndcg', 'eval_metric': 'ndcg', 'eta': 0.01, 'max_depth': 5}\n",
        "lambdaRank_model3 = train(params3, Tr_dmatrix, num_boost_round=500,evals=[(V_dmatrix, 'validation')],verbose_eval =100)"
      ],
      "metadata": {
        "colab": {
          "base_uri": "https://localhost:8080/"
        },
        "id": "2HOWRd_c4w1-",
        "outputId": "159b3181-6d35-4b56-a76a-bf10f1c25457"
      },
      "execution_count": 35,
      "outputs": [
        {
          "output_type": "stream",
          "name": "stdout",
          "text": [
            "[0]\tvalidation-ndcg:0.9377\n",
            "[100]\tvalidation-ndcg:0.945426\n",
            "[200]\tvalidation-ndcg:0.946998\n",
            "[300]\tvalidation-ndcg:0.947598\n",
            "[400]\tvalidation-ndcg:0.948475\n",
            "[499]\tvalidation-ndcg:0.94855\n"
          ]
        }
      ]
    },
    {
      "cell_type": "code",
      "source": [
        "params4 = {'objective': 'rank:ndcg', 'eval_metric': 'ndcg', 'eta': 0.1, 'max_depth': 5}\n",
        "lambdaRank_model4 = train(params4, Tr_dmatrix, num_boost_round=500,evals=[(V_dmatrix, 'validation')],verbose_eval =100)"
      ],
      "metadata": {
        "colab": {
          "base_uri": "https://localhost:8080/"
        },
        "id": "yEpXsNcf4-Bu",
        "outputId": "d9ce118f-3879-463f-c85c-e2074e25dd9c"
      },
      "execution_count": 36,
      "outputs": [
        {
          "output_type": "stream",
          "name": "stdout",
          "text": [
            "[0]\tvalidation-ndcg:0.9377\n",
            "[100]\tvalidation-ndcg:0.950241\n",
            "[200]\tvalidation-ndcg:0.950601\n",
            "[300]\tvalidation-ndcg:0.950257\n",
            "[400]\tvalidation-ndcg:0.950551\n",
            "[499]\tvalidation-ndcg:0.950344\n"
          ]
        }
      ]
    },
    {
      "cell_type": "code",
      "source": [
        "params5 = {'objective': 'rank:ndcg', 'eval_metric': 'ndcg', 'eta': 1, 'max_depth': 5}\n",
        "lambdaRank_model5 = train(params5, Tr_dmatrix, num_boost_round=500,evals=[(V_dmatrix, 'validation')],verbose_eval =100)"
      ],
      "metadata": {
        "colab": {
          "base_uri": "https://localhost:8080/"
        },
        "id": "gU6KUPX95CSH",
        "outputId": "f3cb2144-1af5-477c-ef3f-9f314dc5ff64"
      },
      "execution_count": 37,
      "outputs": [
        {
          "output_type": "stream",
          "name": "stdout",
          "text": [
            "[0]\tvalidation-ndcg:0.9377\n",
            "[100]\tvalidation-ndcg:0.947339\n",
            "[200]\tvalidation-ndcg:0.944399\n",
            "[300]\tvalidation-ndcg:0.942288\n",
            "[400]\tvalidation-ndcg:0.941448\n",
            "[499]\tvalidation-ndcg:0.941885\n"
          ]
        }
      ]
    },
    {
      "cell_type": "code",
      "source": [
        "params6 = {'objective': 'rank:ndcg', 'eval_metric': 'ndcg', 'eta': 0, 'max_depth': 5}\n",
        "lambdaRank_model6 = train(params6, Tr_dmatrix, num_boost_round=500,evals=[(V_dmatrix, 'validation')],verbose_eval =100)"
      ],
      "metadata": {
        "colab": {
          "base_uri": "https://localhost:8080/"
        },
        "id": "q4wX1HiP5HvA",
        "outputId": "729a36f5-3d35-4b3d-8144-e072965ab573"
      },
      "execution_count": 38,
      "outputs": [
        {
          "output_type": "stream",
          "name": "stdout",
          "text": [
            "[0]\tvalidation-ndcg:0.916415\n",
            "[100]\tvalidation-ndcg:0.916415\n",
            "[200]\tvalidation-ndcg:0.916415\n",
            "[300]\tvalidation-ndcg:0.916415\n",
            "[400]\tvalidation-ndcg:0.916415\n",
            "[499]\tvalidation-ndcg:0.916415\n"
          ]
        }
      ]
    },
    {
      "cell_type": "code",
      "source": [
        "params7 = {'objective': 'rank:ndcg', 'eval_metric': 'ndcg', 'eta': 0.01, 'max_depth': 8}\n",
        "lambdaRank_model7 = train(params7, Tr_dmatrix, num_boost_round=500,evals=[(V_dmatrix, 'validation')],verbose_eval =100)"
      ],
      "metadata": {
        "colab": {
          "base_uri": "https://localhost:8080/"
        },
        "id": "oX6Ip5rJ5PZL",
        "outputId": "324456fa-add4-4973-bc7d-41a3b45bb6c8"
      },
      "execution_count": 39,
      "outputs": [
        {
          "output_type": "stream",
          "name": "stdout",
          "text": [
            "[0]\tvalidation-ndcg:0.938624\n",
            "[100]\tvalidation-ndcg:0.939208\n",
            "[200]\tvalidation-ndcg:0.940778\n",
            "[300]\tvalidation-ndcg:0.942221\n",
            "[400]\tvalidation-ndcg:0.943607\n",
            "[499]\tvalidation-ndcg:0.943828\n"
          ]
        }
      ]
    },
    {
      "cell_type": "code",
      "source": [
        "params8 = {'objective': 'rank:ndcg', 'eval_metric': 'ndcg', 'eta': 0.01, 'max_depth': 12}\n",
        "lambdaRank_model8 = train(params8, Tr_dmatrix, num_boost_round=500,evals=[(V_dmatrix, 'validation')],verbose_eval =100)"
      ],
      "metadata": {
        "colab": {
          "base_uri": "https://localhost:8080/"
        },
        "id": "UoDQAWwO5XMG",
        "outputId": "b0b39543-b6c5-4926-aa9f-ac6cb42a8b3e"
      },
      "execution_count": 40,
      "outputs": [
        {
          "output_type": "stream",
          "name": "stdout",
          "text": [
            "[0]\tvalidation-ndcg:0.931387\n",
            "[100]\tvalidation-ndcg:0.93462\n",
            "[200]\tvalidation-ndcg:0.936569\n",
            "[300]\tvalidation-ndcg:0.938087\n",
            "[400]\tvalidation-ndcg:0.939243\n",
            "[499]\tvalidation-ndcg:0.938835\n"
          ]
        }
      ]
    },
    {
      "cell_type": "code",
      "source": [
        "params9 = {'objective': 'rank:ndcg', 'eval_metric': 'ndcg', 'eta': 0.01}\n",
        "lambdaRank_model9 = train(params9, Tr_dmatrix, num_boost_round=500,evals=[(V_dmatrix, 'validation')],verbose_eval =100)"
      ],
      "metadata": {
        "colab": {
          "base_uri": "https://localhost:8080/"
        },
        "id": "dHaJXzAj5ZcG",
        "outputId": "1799a5e3-2800-4e22-dbec-7ba2dda0be75"
      },
      "execution_count": 41,
      "outputs": [
        {
          "output_type": "stream",
          "name": "stdout",
          "text": [
            "[0]\tvalidation-ndcg:0.938293\n",
            "[100]\tvalidation-ndcg:0.942206\n",
            "[200]\tvalidation-ndcg:0.944259\n",
            "[300]\tvalidation-ndcg:0.946183\n",
            "[400]\tvalidation-ndcg:0.946085\n",
            "[499]\tvalidation-ndcg:0.946429\n"
          ]
        }
      ]
    },
    {
      "cell_type": "code",
      "source": [
        "# import xgboost as xgb\n",
        "# model = xgb.XGBRanker(\n",
        "#     tree_method='exact',\n",
        "#     booster='gbtree',\n",
        "#     objective='rank:ndcg',\n",
        "#     random_state=42,\n",
        "#     learning_rate=0.06,\n",
        "#     max_depth=5,\n",
        "#     n_estimators=700,\n",
        "#     subsample=0.75,\n",
        "#     min_child_weight=0.06\n",
        "#     )\n",
        "\n",
        "# model.fit(xTr, yTr, group=Dgroup_Tr, verbose=True,eval_set= xV,eval_group =Dgroup_V )"
      ],
      "metadata": {
        "id": "HgE5i4Unp9fd"
      },
      "execution_count": 42,
      "outputs": []
    },
    {
      "cell_type": "code",
      "source": [
        "# import scipy.stats as stats\n",
        "# param_dist = {'n_estimators': stats.randint(40, 1000),\n",
        "#               'learning_rate': stats.uniform(0.01, 0.59),\n",
        "#               'subsample': stats.uniform(0.3, 0.6),\n",
        "#               'max_depth': [3, 4, 5, 6, 7, 8, 9],\n",
        "#               'colsample_bytree': stats.uniform(0.5, 0.4),\n",
        "#               'min_child_weight': [0.05, 0.1, 0.02]\n",
        "#               }"
      ],
      "metadata": {
        "id": "hjOeJUyjm92k"
      },
      "execution_count": 43,
      "outputs": []
    },
    {
      "cell_type": "code",
      "source": [
        "# from sklearn.model_selection import RandomizedSearchCV\n",
        "# import sklearn\n",
        "# scoring = sklearn.metrics.make_scorer(sklearn.metrics.ndcg_score, greater_is_better=True)\n",
        "# clf = RandomizedSearchCV(model,\n",
        "#                          param_distributions=param_dist,\n",
        "#                          cv=2,\n",
        "#                          n_iter=5,  \n",
        "#                          scoring= scoring,\n",
        "#                          error_score=0,\n",
        "#                          verbose=3,\n",
        "#                          n_jobs=-1)\n",
        "# xyz = clf.fit(xTr,yTr,fit_params={\"model__groups\": Dgroup_Tr})"
      ],
      "metadata": {
        "id": "30nG8SSgu0Dz"
      },
      "execution_count": 44,
      "outputs": []
    },
    {
      "cell_type": "code",
      "source": [
        "y_pred = lambdaRank_model3.predict(Te_dmatrix)\n",
        "y_pred.shape\n",
        "#validation_data.shape"
      ],
      "metadata": {
        "colab": {
          "base_uri": "https://localhost:8080/"
        },
        "id": "kPN3Kpm3owie",
        "outputId": "228bfcef-4653-4074-dfbf-aecc1274401d"
      },
      "execution_count": 45,
      "outputs": [
        {
          "output_type": "execute_result",
          "data": {
            "text/plain": [
              "(1103039,)"
            ]
          },
          "metadata": {},
          "execution_count": 45
        }
      ]
    },
    {
      "cell_type": "code",
      "source": [
        "validation_data['score'] = y_pred\n",
        "validation_data.head()"
      ],
      "metadata": {
        "colab": {
          "base_uri": "https://localhost:8080/",
          "height": 617
        },
        "id": "tOhXCzvCpCkZ",
        "outputId": "60368510-8dda-48cb-a25a-6e3825724e2d"
      },
      "execution_count": 46,
      "outputs": [
        {
          "output_type": "execute_result",
          "data": {
            "text/plain": [
              "            qid      pid                 queries  \\\n",
              "918703  1102335  4998265  why do people buy cars   \n",
              "750686  1102335  1979444  why do people buy cars   \n",
              "922978  1102335  5281080  why do people buy cars   \n",
              "783197  1102335  4124116  why do people buy cars   \n",
              "614272  1102335  1139141  why do people buy cars   \n",
              "\n",
              "                                                  passage  relevancy  \\\n",
              "918703  I would like to buy a clean, very dependable u...        0.0   \n",
              "750686  1 Buy a straight scope if you will be watching...        0.0   \n",
              "922978  The truth is, contrary to popular mythology, d...        0.0   \n",
              "783197  When to buy a used car. Seasonal trends in sal...        0.0   \n",
              "614272  People buy a swim spa for a lot of different r...        0.0   \n",
              "\n",
              "                                           passage_tokens  \\\n",
              "918703  ['would', 'like', 'buy', 'clean', 'dependable'...   \n",
              "750686  ['buy', 'straight', 'scope', 'watching', 'bird...   \n",
              "922978  ['truth', 'contrary', 'popular', 'mythology', ...   \n",
              "783197  ['buy', 'used', 'car', 'seasonal', 'trends', '...   \n",
              "614272  ['people', 'buy', 'swim', 'spa', 'lot', 'diffe...   \n",
              "\n",
              "                     query_tokens  \\\n",
              "918703  ['people', 'buy', 'cars']   \n",
              "750686  ['people', 'buy', 'cars']   \n",
              "922978  ['people', 'buy', 'cars']   \n",
              "783197  ['people', 'buy', 'cars']   \n",
              "614272  ['people', 'buy', 'cars']   \n",
              "\n",
              "                                        passage_embedding  \\\n",
              "918703  [ 0.24620189  0.05969301  0.5865029  -0.039355...   \n",
              "750686  [ 0.32140464  0.2716451   0.2731784  -0.312907...   \n",
              "922978  [ 2.90012389e-01 -2.57377932e-03  4.05004352e-...   \n",
              "783197  [ 2.75420636e-01 -6.14087358e-02  4.32080090e-...   \n",
              "614272  [ 0.3271537   0.20768057 -0.05867239 -0.132127...   \n",
              "\n",
              "                                          query_embedding  cosine_similarity  \\\n",
              "918703  [ 0.74518996 -0.19672668  1.14016    -0.288984...           0.916904   \n",
              "750686  [ 0.74518996 -0.19672668  1.14016    -0.288984...           0.778136   \n",
              "922978  [ 0.74518996 -0.19672668  1.14016    -0.288984...           0.918530   \n",
              "783197  [ 0.74518996 -0.19672668  1.14016    -0.288984...           0.882939   \n",
              "614272  [ 0.74518996 -0.19672668  1.14016    -0.288984...           0.825189   \n",
              "\n",
              "        DocLen  queryLen     score  \n",
              "918703     311        22  2.052936  \n",
              "750686     278        22  0.806581  \n",
              "922978     268        22  2.113142  \n",
              "783197     309        22  1.700156  \n",
              "614272     310        22  1.420088  "
            ],
            "text/html": [
              "\n",
              "  <div id=\"df-5d2faa50-37b1-419d-9a07-12c2343c7714\">\n",
              "    <div class=\"colab-df-container\">\n",
              "      <div>\n",
              "<style scoped>\n",
              "    .dataframe tbody tr th:only-of-type {\n",
              "        vertical-align: middle;\n",
              "    }\n",
              "\n",
              "    .dataframe tbody tr th {\n",
              "        vertical-align: top;\n",
              "    }\n",
              "\n",
              "    .dataframe thead th {\n",
              "        text-align: right;\n",
              "    }\n",
              "</style>\n",
              "<table border=\"1\" class=\"dataframe\">\n",
              "  <thead>\n",
              "    <tr style=\"text-align: right;\">\n",
              "      <th></th>\n",
              "      <th>qid</th>\n",
              "      <th>pid</th>\n",
              "      <th>queries</th>\n",
              "      <th>passage</th>\n",
              "      <th>relevancy</th>\n",
              "      <th>passage_tokens</th>\n",
              "      <th>query_tokens</th>\n",
              "      <th>passage_embedding</th>\n",
              "      <th>query_embedding</th>\n",
              "      <th>cosine_similarity</th>\n",
              "      <th>DocLen</th>\n",
              "      <th>queryLen</th>\n",
              "      <th>score</th>\n",
              "    </tr>\n",
              "  </thead>\n",
              "  <tbody>\n",
              "    <tr>\n",
              "      <th>918703</th>\n",
              "      <td>1102335</td>\n",
              "      <td>4998265</td>\n",
              "      <td>why do people buy cars</td>\n",
              "      <td>I would like to buy a clean, very dependable u...</td>\n",
              "      <td>0.0</td>\n",
              "      <td>['would', 'like', 'buy', 'clean', 'dependable'...</td>\n",
              "      <td>['people', 'buy', 'cars']</td>\n",
              "      <td>[ 0.24620189  0.05969301  0.5865029  -0.039355...</td>\n",
              "      <td>[ 0.74518996 -0.19672668  1.14016    -0.288984...</td>\n",
              "      <td>0.916904</td>\n",
              "      <td>311</td>\n",
              "      <td>22</td>\n",
              "      <td>2.052936</td>\n",
              "    </tr>\n",
              "    <tr>\n",
              "      <th>750686</th>\n",
              "      <td>1102335</td>\n",
              "      <td>1979444</td>\n",
              "      <td>why do people buy cars</td>\n",
              "      <td>1 Buy a straight scope if you will be watching...</td>\n",
              "      <td>0.0</td>\n",
              "      <td>['buy', 'straight', 'scope', 'watching', 'bird...</td>\n",
              "      <td>['people', 'buy', 'cars']</td>\n",
              "      <td>[ 0.32140464  0.2716451   0.2731784  -0.312907...</td>\n",
              "      <td>[ 0.74518996 -0.19672668  1.14016    -0.288984...</td>\n",
              "      <td>0.778136</td>\n",
              "      <td>278</td>\n",
              "      <td>22</td>\n",
              "      <td>0.806581</td>\n",
              "    </tr>\n",
              "    <tr>\n",
              "      <th>922978</th>\n",
              "      <td>1102335</td>\n",
              "      <td>5281080</td>\n",
              "      <td>why do people buy cars</td>\n",
              "      <td>The truth is, contrary to popular mythology, d...</td>\n",
              "      <td>0.0</td>\n",
              "      <td>['truth', 'contrary', 'popular', 'mythology', ...</td>\n",
              "      <td>['people', 'buy', 'cars']</td>\n",
              "      <td>[ 2.90012389e-01 -2.57377932e-03  4.05004352e-...</td>\n",
              "      <td>[ 0.74518996 -0.19672668  1.14016    -0.288984...</td>\n",
              "      <td>0.918530</td>\n",
              "      <td>268</td>\n",
              "      <td>22</td>\n",
              "      <td>2.113142</td>\n",
              "    </tr>\n",
              "    <tr>\n",
              "      <th>783197</th>\n",
              "      <td>1102335</td>\n",
              "      <td>4124116</td>\n",
              "      <td>why do people buy cars</td>\n",
              "      <td>When to buy a used car. Seasonal trends in sal...</td>\n",
              "      <td>0.0</td>\n",
              "      <td>['buy', 'used', 'car', 'seasonal', 'trends', '...</td>\n",
              "      <td>['people', 'buy', 'cars']</td>\n",
              "      <td>[ 2.75420636e-01 -6.14087358e-02  4.32080090e-...</td>\n",
              "      <td>[ 0.74518996 -0.19672668  1.14016    -0.288984...</td>\n",
              "      <td>0.882939</td>\n",
              "      <td>309</td>\n",
              "      <td>22</td>\n",
              "      <td>1.700156</td>\n",
              "    </tr>\n",
              "    <tr>\n",
              "      <th>614272</th>\n",
              "      <td>1102335</td>\n",
              "      <td>1139141</td>\n",
              "      <td>why do people buy cars</td>\n",
              "      <td>People buy a swim spa for a lot of different r...</td>\n",
              "      <td>0.0</td>\n",
              "      <td>['people', 'buy', 'swim', 'spa', 'lot', 'diffe...</td>\n",
              "      <td>['people', 'buy', 'cars']</td>\n",
              "      <td>[ 0.3271537   0.20768057 -0.05867239 -0.132127...</td>\n",
              "      <td>[ 0.74518996 -0.19672668  1.14016    -0.288984...</td>\n",
              "      <td>0.825189</td>\n",
              "      <td>310</td>\n",
              "      <td>22</td>\n",
              "      <td>1.420088</td>\n",
              "    </tr>\n",
              "  </tbody>\n",
              "</table>\n",
              "</div>\n",
              "      <button class=\"colab-df-convert\" onclick=\"convertToInteractive('df-5d2faa50-37b1-419d-9a07-12c2343c7714')\"\n",
              "              title=\"Convert this dataframe to an interactive table.\"\n",
              "              style=\"display:none;\">\n",
              "        \n",
              "  <svg xmlns=\"http://www.w3.org/2000/svg\" height=\"24px\"viewBox=\"0 0 24 24\"\n",
              "       width=\"24px\">\n",
              "    <path d=\"M0 0h24v24H0V0z\" fill=\"none\"/>\n",
              "    <path d=\"M18.56 5.44l.94 2.06.94-2.06 2.06-.94-2.06-.94-.94-2.06-.94 2.06-2.06.94zm-11 1L8.5 8.5l.94-2.06 2.06-.94-2.06-.94L8.5 2.5l-.94 2.06-2.06.94zm10 10l.94 2.06.94-2.06 2.06-.94-2.06-.94-.94-2.06-.94 2.06-2.06.94z\"/><path d=\"M17.41 7.96l-1.37-1.37c-.4-.4-.92-.59-1.43-.59-.52 0-1.04.2-1.43.59L10.3 9.45l-7.72 7.72c-.78.78-.78 2.05 0 2.83L4 21.41c.39.39.9.59 1.41.59.51 0 1.02-.2 1.41-.59l7.78-7.78 2.81-2.81c.8-.78.8-2.07 0-2.86zM5.41 20L4 18.59l7.72-7.72 1.47 1.35L5.41 20z\"/>\n",
              "  </svg>\n",
              "      </button>\n",
              "      \n",
              "  <style>\n",
              "    .colab-df-container {\n",
              "      display:flex;\n",
              "      flex-wrap:wrap;\n",
              "      gap: 12px;\n",
              "    }\n",
              "\n",
              "    .colab-df-convert {\n",
              "      background-color: #E8F0FE;\n",
              "      border: none;\n",
              "      border-radius: 50%;\n",
              "      cursor: pointer;\n",
              "      display: none;\n",
              "      fill: #1967D2;\n",
              "      height: 32px;\n",
              "      padding: 0 0 0 0;\n",
              "      width: 32px;\n",
              "    }\n",
              "\n",
              "    .colab-df-convert:hover {\n",
              "      background-color: #E2EBFA;\n",
              "      box-shadow: 0px 1px 2px rgba(60, 64, 67, 0.3), 0px 1px 3px 1px rgba(60, 64, 67, 0.15);\n",
              "      fill: #174EA6;\n",
              "    }\n",
              "\n",
              "    [theme=dark] .colab-df-convert {\n",
              "      background-color: #3B4455;\n",
              "      fill: #D2E3FC;\n",
              "    }\n",
              "\n",
              "    [theme=dark] .colab-df-convert:hover {\n",
              "      background-color: #434B5C;\n",
              "      box-shadow: 0px 1px 3px 1px rgba(0, 0, 0, 0.15);\n",
              "      filter: drop-shadow(0px 1px 2px rgba(0, 0, 0, 0.3));\n",
              "      fill: #FFFFFF;\n",
              "    }\n",
              "  </style>\n",
              "\n",
              "      <script>\n",
              "        const buttonEl =\n",
              "          document.querySelector('#df-5d2faa50-37b1-419d-9a07-12c2343c7714 button.colab-df-convert');\n",
              "        buttonEl.style.display =\n",
              "          google.colab.kernel.accessAllowed ? 'block' : 'none';\n",
              "\n",
              "        async function convertToInteractive(key) {\n",
              "          const element = document.querySelector('#df-5d2faa50-37b1-419d-9a07-12c2343c7714');\n",
              "          const dataTable =\n",
              "            await google.colab.kernel.invokeFunction('convertToInteractive',\n",
              "                                                     [key], {});\n",
              "          if (!dataTable) return;\n",
              "\n",
              "          const docLinkHtml = 'Like what you see? Visit the ' +\n",
              "            '<a target=\"_blank\" href=https://colab.research.google.com/notebooks/data_table.ipynb>data table notebook</a>'\n",
              "            + ' to learn more about interactive tables.';\n",
              "          element.innerHTML = '';\n",
              "          dataTable['output_type'] = 'display_data';\n",
              "          await google.colab.output.renderOutput(dataTable, element);\n",
              "          const docLink = document.createElement('div');\n",
              "          docLink.innerHTML = docLinkHtml;\n",
              "          element.appendChild(docLink);\n",
              "        }\n",
              "      </script>\n",
              "    </div>\n",
              "  </div>\n",
              "  "
            ]
          },
          "metadata": {},
          "execution_count": 46
        }
      ]
    },
    {
      "cell_type": "code",
      "source": [
        "validation_data['LM_rank'] = validation_data.groupby('qid')['score'].rank(method='first',ascending=False).astype('int')"
      ],
      "metadata": {
        "id": "KP9ZyM6AimML"
      },
      "execution_count": 47,
      "outputs": []
    },
    {
      "cell_type": "code",
      "source": [
        "trial_data = validation_data[['qid','pid','LM_rank','score']]"
      ],
      "metadata": {
        "id": "iP_K4_y77Gl2"
      },
      "execution_count": 48,
      "outputs": []
    },
    {
      "cell_type": "code",
      "source": [
        "trial_data = trial_data.reset_index(drop=True)"
      ],
      "metadata": {
        "id": "7q5nPlBr7NZA"
      },
      "execution_count": 49,
      "outputs": []
    },
    {
      "cell_type": "code",
      "source": [
        "LM_dict = {}\n",
        "qid_list = trial_data['qid'].unique()\n",
        "for qid in qid_list:\n",
        "    top_ones = trial_data[trial_data['qid'] == qid]\n",
        "    top_ones = top_ones.reset_index(drop=True)\n",
        "    top_ones = top_ones.sort_values(by=['LM_rank'])\n",
        "    LM_dict[qid] = top_ones[:100]"
      ],
      "metadata": {
        "id": "V4z2wRQh7P3B"
      },
      "execution_count": 50,
      "outputs": []
    },
    {
      "cell_type": "code",
      "source": [
        "f = open(\"LM.txt\", \"w\")\n",
        "for lr_df in LM_dict.values():\n",
        "    for i, data in lr_df.iterrows():\n",
        "        qid = str(data['qid'].astype(int))\n",
        "        pid = str(data['pid'].astype(int))\n",
        "        score = str(data['score'])\n",
        "        rank = str(data['LM_rank'].astype(int))\n",
        "        f.write(qid + \",\" + \"A2\" + \",\" + pid + \",\" + rank + \",\" + score + \",\" + \"LM\" + \"\\n\")\n",
        "f.close()"
      ],
      "metadata": {
        "id": "zlKEcBai7hro"
      },
      "execution_count": 58,
      "outputs": []
    },
    {
      "cell_type": "code",
      "source": [
        "def average_precision_calc(df,retrieved,score,rank):\n",
        "    average_precision = 0\n",
        "    qid_list = np.unique(np.asarray(df['qid']))\n",
        "    ranked_passages = df[df[rank] <= retrieved]\n",
        "\n",
        "    relevant_passage = ranked_passages[ranked_passages['relevancy'] != 0]\n",
        "    relevant_passage['rank'] = relevant_passage.groupby('qid')[score].rank(method = 'first',ascending=False)\n",
        "\n",
        "    for qid in qid_list:\n",
        "        temp = relevant_passage[relevant_passage['qid'] == qid]\n",
        "        temp['rank'] = temp['rank']/temp[rank]\n",
        "        if len(temp) == 0:\n",
        "            average_precision += 0\n",
        "        else:\n",
        "            average_precision += sum(temp['rank'])/len(temp)\n",
        "\n",
        "    average_precision = average_precision/len(qid_list)\n",
        "    return average_precision"
      ],
      "metadata": {
        "id": "dJBwYBVS8f6w"
      },
      "execution_count": 52,
      "outputs": []
    },
    {
      "cell_type": "code",
      "source": [
        "average_precision_LM = average_precision_calc(validation_data,100,'score','LM_rank')"
      ],
      "metadata": {
        "id": "jzC25LuJ8hJX"
      },
      "execution_count": 53,
      "outputs": []
    },
    {
      "cell_type": "code",
      "source": [
        "average_precision_LM"
      ],
      "metadata": {
        "colab": {
          "base_uri": "https://localhost:8080/"
        },
        "id": "C7ZT-IEO8l0C",
        "outputId": "328765fe-9e9b-4ce5-d0d2-b0fe6c33d33a"
      },
      "execution_count": 54,
      "outputs": [
        {
          "output_type": "execute_result",
          "data": {
            "text/plain": [
              "0.06723106384538753"
            ]
          },
          "metadata": {},
          "execution_count": 54
        }
      ]
    },
    {
      "cell_type": "code",
      "source": [
        "def NDCG_calc(df,retrieved, rank):\n",
        "\n",
        "    all_DCG = 0\n",
        "    relevant_passage = df[df['relevancy'] != 0]\n",
        "    relevant_passage_retrived = relevant_passage[relevant_passage[rank] <= retrieved]\n",
        "\n",
        "    qid_list = np.unique(np.asarray(df['qid']))\n",
        "\n",
        "    for qid in qid_list:\n",
        "        temp = relevant_passage[relevant_passage['qid'] == qid]\n",
        "        DCG = sum(1/np.log2(np.asarray(temp[rank])+1))\n",
        "        optDCG = sum(1/np.log2(np.arange(1,len(temp)+1)+1))\n",
        "        all_DCG += DCG/optDCG\n",
        "    all_DCG = all_DCG/len(qid_list)\n",
        "\n",
        "    return all_DCG"
      ],
      "metadata": {
        "id": "OSowfXQO8oG9"
      },
      "execution_count": 55,
      "outputs": []
    },
    {
      "cell_type": "code",
      "source": [
        "NDCG_LM = NDCG_calc(validation_data,100,'LM_rank')"
      ],
      "metadata": {
        "id": "XKPGVuBd8p4N"
      },
      "execution_count": 56,
      "outputs": []
    },
    {
      "cell_type": "code",
      "source": [
        "NDCG_LM"
      ],
      "metadata": {
        "colab": {
          "base_uri": "https://localhost:8080/"
        },
        "id": "V1FfAyvO8uSx",
        "outputId": "96134401-e0fb-4e73-fbe7-902b5196dd4d"
      },
      "execution_count": 57,
      "outputs": [
        {
          "output_type": "execute_result",
          "data": {
            "text/plain": [
              "0.2019752552793564"
            ]
          },
          "metadata": {},
          "execution_count": 57
        }
      ]
    }
  ]
}