{
  "nbformat": 4,
  "nbformat_minor": 0,
  "metadata": {
    "colab": {
      "name": "IRDM_cw2_Part4.ipynb",
      "provenance": [],
      "collapsed_sections": []
    },
    "kernelspec": {
      "name": "python3",
      "display_name": "Python 3"
    },
    "language_info": {
      "name": "python"
    }
  },
  "cells": [
    {
      "cell_type": "code",
      "execution_count": 1,
      "metadata": {
        "colab": {
          "base_uri": "https://localhost:8080/"
        },
        "id": "1Qd_xVS16nP1",
        "outputId": "7e6f79aa-b5b3-45c9-c96e-51c94481e8ef"
      },
      "outputs": [
        {
          "output_type": "stream",
          "name": "stdout",
          "text": [
            "[nltk_data] Downloading package stopwords to /root/nltk_data...\n",
            "[nltk_data]   Unzipping corpora/stopwords.zip.\n"
          ]
        }
      ],
      "source": [
        "import pandas as pd\n",
        "import numpy as np\n",
        "import string\n",
        "import matplotlib.pyplot as plt\n",
        "import seaborn as sns\n",
        "from nltk.tokenize import RegexpTokenizer\n",
        "from nltk.corpus import stopwords\n",
        "import nltk\n",
        "nltk.download('stopwords')\n",
        "pd.options.mode.chained_assignment = None\n",
        "from tqdm import tqdm\n",
        "from imblearn import under_sampling"
      ]
    },
    {
      "cell_type": "code",
      "source": [
        "from google.colab import drive\n",
        "drive.mount('/content/drive')"
      ],
      "metadata": {
        "colab": {
          "base_uri": "https://localhost:8080/"
        },
        "id": "O54U05krAwHB",
        "outputId": "86cf8ad9-c948-4379-9e66-03a67bfe7fbb"
      },
      "execution_count": 2,
      "outputs": [
        {
          "output_type": "stream",
          "name": "stdout",
          "text": [
            "Mounted at /content/drive\n"
          ]
        }
      ]
    },
    {
      "cell_type": "code",
      "source": [
        "validation_data = pd.read_csv('/content/drive/MyDrive/IRDM Coursework 2/validation_data_cosine.csv',index_col=0)"
      ],
      "metadata": {
        "id": "9P1DEL2tAxtD"
      },
      "execution_count": 3,
      "outputs": []
    },
    {
      "cell_type": "code",
      "source": [
        "final_train = pd.read_csv('/content/drive/MyDrive/IRDM Coursework 2/train_data_cosine.csv',index_col=0)"
      ],
      "metadata": {
        "id": "JPz9Vwq36nJz"
      },
      "execution_count": 4,
      "outputs": []
    },
    {
      "cell_type": "code",
      "source": [
        "final_train['DocLen'] = 0\n",
        "final_train['queryLen'] = 0\n",
        "for i, row in final_train.iterrows():\n",
        "  final_train['DocLen'][i] = len(final_train['passage'][i])\n",
        "  final_train['queryLen'][i] = len(final_train['queries'][i])"
      ],
      "metadata": {
        "id": "EklIXjJ4BL_4"
      },
      "execution_count": 5,
      "outputs": []
    },
    {
      "cell_type": "code",
      "source": [
        "validation_data['DocLen'] = 0\n",
        "validation_data['queryLen'] = 0\n",
        "for i, row in validation_data.iterrows():\n",
        "  validation_data['DocLen'][i] = len(validation_data['passage'][i])\n",
        "  validation_data['queryLen'][i] = len(validation_data['queries'][i])"
      ],
      "metadata": {
        "id": "7TSi3X9lBN5C"
      },
      "execution_count": 6,
      "outputs": []
    },
    {
      "cell_type": "code",
      "source": [
        "t = under_sampling.RandomUnderSampler(random_state=42)"
      ],
      "metadata": {
        "id": "4vYCv04snlCb"
      },
      "execution_count": 7,
      "outputs": []
    },
    {
      "cell_type": "code",
      "source": [
        "x_train = final_train[['cosine_similarity', 'DocLen', 'queryLen']].values\n",
        "y_train = final_train[['relevancy']].values\n",
        "x_train,y_train = t.fit_resample(x_train,y_train)"
      ],
      "metadata": {
        "id": "JcfTMKiJPK8N"
      },
      "execution_count": 8,
      "outputs": []
    },
    {
      "cell_type": "code",
      "source": [
        "x_test = validation_data[['cosine_similarity', 'DocLen', 'queryLen']].values\n",
        "y_test = validation_data[['relevancy']].values"
      ],
      "metadata": {
        "id": "Gd7Gyw-8PbDb"
      },
      "execution_count": 9,
      "outputs": []
    },
    {
      "cell_type": "code",
      "source": [
        "# from sklearn.model_selection import train_test_split\n",
        "# x_train,x_val,y_train,y_val=train_test_split(x,Y,test_size=0.10,shuffle=True,stratify = Y)"
      ],
      "metadata": {
        "id": "_D7Vp1pCPK56"
      },
      "execution_count": 10,
      "outputs": []
    },
    {
      "cell_type": "code",
      "source": [
        "from sklearn.preprocessing import StandardScaler\n",
        "##Normalization is done so that the difference between highest and lowest data point is not too large\n",
        "import numpy as np\n",
        "scaler=StandardScaler()\n",
        "##To find mean and std dev\n",
        "scaler.fit(x_train)\n",
        "## Please Note - We are using mean and std dev of training data for testing data too. It is done to ensure that no information of test data is leaked to the model.\n",
        "##Converting data into form where mean of data is 0 and std dev is 1 \n",
        "X_train=scaler.transform(x_train)\n",
        "X_test=scaler.transform(x_test)\n"
      ],
      "metadata": {
        "id": "Qege7Ng6PK3O"
      },
      "execution_count": 11,
      "outputs": []
    },
    {
      "cell_type": "code",
      "source": [
        "import tensorflow as tf\n",
        "import keras\n",
        "from keras.models import Sequential\n",
        "from keras.layers import Dense\n",
        "\n",
        "model = Sequential()\n",
        "model.add(Dense(20, input_dim=X_train.shape[1], activation='relu'))\n",
        "##Dropout is used to avoid overfitting\n",
        "keras.layers.Dropout(0.2)\n",
        "model.add(Dense(20, activation='relu'))\n",
        "keras.layers.Dropout(0.2)\n",
        "model.add(Dense(20, activation='relu'))\n",
        "keras.layers.Dropout(0.2)\n",
        "##For classification problems, we usually use softmax as activation function in final layer\n",
        "model.add(Dense(1, activation='sigmoid')) \n",
        "##Compiling the model\n",
        "model.compile(loss='binary_crossentropy', optimizer='adam', metrics=[tf.keras.metrics.Precision()]) "
      ],
      "metadata": {
        "id": "M-N7KQMjPK0b"
      },
      "execution_count": 13,
      "outputs": []
    },
    {
      "cell_type": "code",
      "source": [
        "model.summary()"
      ],
      "metadata": {
        "colab": {
          "base_uri": "https://localhost:8080/"
        },
        "id": "Lu-SCGknPKyD",
        "outputId": "ac702aa9-1038-46d3-dbc7-96fd46a11a5e"
      },
      "execution_count": 14,
      "outputs": [
        {
          "output_type": "stream",
          "name": "stdout",
          "text": [
            "Model: \"sequential_1\"\n",
            "_________________________________________________________________\n",
            " Layer (type)                Output Shape              Param #   \n",
            "=================================================================\n",
            " dense_4 (Dense)             (None, 20)                80        \n",
            "                                                                 \n",
            " dense_5 (Dense)             (None, 20)                420       \n",
            "                                                                 \n",
            " dense_6 (Dense)             (None, 20)                420       \n",
            "                                                                 \n",
            " dense_7 (Dense)             (None, 1)                 21        \n",
            "                                                                 \n",
            "=================================================================\n",
            "Total params: 941\n",
            "Trainable params: 941\n",
            "Non-trainable params: 0\n",
            "_________________________________________________________________\n"
          ]
        }
      ]
    },
    {
      "cell_type": "code",
      "source": [
        ""
      ],
      "metadata": {
        "id": "jT2vgmiYnb6T"
      },
      "execution_count": null,
      "outputs": []
    },
    {
      "cell_type": "code",
      "source": [
        "model.fit(x_train, y_train, epochs=8, batch_size=80, validation_split=0.1)"
      ],
      "metadata": {
        "colab": {
          "base_uri": "https://localhost:8080/"
        },
        "id": "DZDdEXgcPKvL",
        "outputId": "110cd167-e639-49f8-cd84-5de906cfcff2"
      },
      "execution_count": 15,
      "outputs": [
        {
          "output_type": "stream",
          "name": "stdout",
          "text": [
            "Epoch 1/8\n",
            "104/104 [==============================] - 2s 5ms/step - loss: 1.5976 - precision: 0.4477 - val_loss: 0.7266 - val_precision: 1.0000\n",
            "Epoch 2/8\n",
            "104/104 [==============================] - 0s 2ms/step - loss: 0.6900 - precision: 0.4907 - val_loss: 0.5649 - val_precision: 1.0000\n",
            "Epoch 3/8\n",
            "104/104 [==============================] - 0s 2ms/step - loss: 0.6924 - precision: 0.4605 - val_loss: 0.6582 - val_precision: 1.0000\n",
            "Epoch 4/8\n",
            "104/104 [==============================] - 0s 2ms/step - loss: 0.7075 - precision: 0.4624 - val_loss: 0.8131 - val_precision: 1.0000\n",
            "Epoch 5/8\n",
            "104/104 [==============================] - 0s 2ms/step - loss: 0.6993 - precision: 0.4445 - val_loss: 0.6558 - val_precision: 1.0000\n",
            "Epoch 6/8\n",
            "104/104 [==============================] - 0s 2ms/step - loss: 0.7014 - precision: 0.4594 - val_loss: 1.0226 - val_precision: 0.0000e+00\n",
            "Epoch 7/8\n",
            "104/104 [==============================] - 0s 2ms/step - loss: 0.7150 - precision: 0.4504 - val_loss: 0.8051 - val_precision: 1.0000\n",
            "Epoch 8/8\n",
            "104/104 [==============================] - 0s 2ms/step - loss: 0.6960 - precision: 0.4731 - val_loss: 0.7533 - val_precision: 1.0000\n"
          ]
        },
        {
          "output_type": "execute_result",
          "data": {
            "text/plain": [
              "<keras.callbacks.History at 0x7f016254b1d0>"
            ]
          },
          "metadata": {},
          "execution_count": 15
        }
      ]
    },
    {
      "cell_type": "code",
      "source": [
        "testing=model.evaluate(x_train, y_train)\n",
        "print(\"\\n%s: %.2f%%\" % (model.metrics_names[1]+'uracy of Model on testing data', testing[1]*100))"
      ],
      "metadata": {
        "colab": {
          "base_uri": "https://localhost:8080/"
        },
        "id": "NrHDNyAQPKsm",
        "outputId": "ed2a948c-328a-4c98-af22-0c8a3121c80c"
      },
      "execution_count": 16,
      "outputs": [
        {
          "output_type": "stream",
          "name": "stdout",
          "text": [
            "287/287 [==============================] - 0s 2ms/step - loss: 0.6907 - precision: 0.6565\n",
            "\n",
            "precisionuracy of Model on testing data: 65.65%\n"
          ]
        }
      ]
    },
    {
      "cell_type": "code",
      "source": [
        "from sklearn.metrics import classification_report, confusion_matrix  \n",
        "predictions = model.predict(X_test)"
      ],
      "metadata": {
        "id": "6QKIdnpIPKp6"
      },
      "execution_count": 17,
      "outputs": []
    },
    {
      "cell_type": "code",
      "source": [
        "validation_data['score'] = predictions\n",
        "validation_data.head()"
      ],
      "metadata": {
        "colab": {
          "base_uri": "https://localhost:8080/",
          "height": 704
        },
        "id": "xwTNqZNcVuwL",
        "outputId": "b8ce7fbc-63ce-4606-90f2-7358c9e278da"
      },
      "execution_count": 18,
      "outputs": [
        {
          "output_type": "execute_result",
          "data": {
            "text/plain": [
              "       qid      pid                                            queries  \\\n",
              "0  1082792  1000084  what does the golgi apparatus do to the protei...   \n",
              "1   995825  1000492       where is the graphic card located in the cpu   \n",
              "2   995825  1000494       where is the graphic card located in the cpu   \n",
              "3  1091246  1000522                          property premises meaning   \n",
              "4  1047854  1000585                         what is printing mechanism   \n",
              "\n",
              "                                             passage  relevancy  \\\n",
              "0  Start studying Bonding, Carbs, Proteins, Lipid...        0.0   \n",
              "1  For example, a “PC Expansion Card” maybe the j...        0.0   \n",
              "2  The Common Cards & Buses. The most common type...        0.0   \n",
              "3  The occurrence of since tells us that the firs...        0.0   \n",
              "4  Windows desktop applications Develop Desktop t...        0.0   \n",
              "\n",
              "                                      passage_tokens  \\\n",
              "0  ['start', 'studying', 'bonding', 'carbs', 'pro...   \n",
              "1  ['example', 'pc', 'expansion', 'card', 'maybe'...   \n",
              "2  ['common', 'cards', 'buses', 'common', 'types'...   \n",
              "3  ['occurrence', 'since', 'tells', 'us', 'first'...   \n",
              "4  ['windows', 'desktop', 'applications', 'develo...   \n",
              "\n",
              "                                        query_tokens  \\\n",
              "0  ['golgi', 'apparatus', 'proteins', 'lipids', '...   \n",
              "1              ['graphic', 'card', 'located', 'cpu']   \n",
              "2              ['graphic', 'card', 'located', 'cpu']   \n",
              "3                ['property', 'premises', 'meaning']   \n",
              "4                          ['printing', 'mechanism']   \n",
              "\n",
              "                                   passage_embedding  \\\n",
              "0  [ 0.2690694   0.07032246 -0.22095296 -0.134478...   \n",
              "1  [ 1.18339844e-01  1.92679703e-01  4.75641042e-...   \n",
              "2  [ 0.02057143  0.11528355  0.52425003  0.421483...   \n",
              "3  [ 0.24477586  0.12094858 -0.1262933  -0.035436...   \n",
              "4  [ 0.21993366 -0.27575365  0.6672145   0.224379...   \n",
              "\n",
              "                                     query_embedding  cosine_similarity  \\\n",
              "0  [ 0.832084   -0.16500281  0.050816    0.16417 ...           0.617340   \n",
              "1  [-0.01731001  0.32846758  0.68064654  0.689135...           0.831845   \n",
              "2  [-0.01731001  0.32846758  0.68064654  0.689135...           0.847569   \n",
              "3  [ 0.5320867   0.13899668 -0.18879335 -0.206136...           0.751343   \n",
              "4  [ 0.17438498 -0.67538    -0.050255   -0.132791...           0.813332   \n",
              "\n",
              "   DocLen  queryLen     score  \n",
              "0     129        78  0.530650  \n",
              "1     332        44  0.521313  \n",
              "2     338        44  0.525208  \n",
              "3     304        25  0.492774  \n",
              "4     820        26  0.510789  "
            ],
            "text/html": [
              "\n",
              "  <div id=\"df-8536ee46-7cba-48b4-9117-4520b43937d1\">\n",
              "    <div class=\"colab-df-container\">\n",
              "      <div>\n",
              "<style scoped>\n",
              "    .dataframe tbody tr th:only-of-type {\n",
              "        vertical-align: middle;\n",
              "    }\n",
              "\n",
              "    .dataframe tbody tr th {\n",
              "        vertical-align: top;\n",
              "    }\n",
              "\n",
              "    .dataframe thead th {\n",
              "        text-align: right;\n",
              "    }\n",
              "</style>\n",
              "<table border=\"1\" class=\"dataframe\">\n",
              "  <thead>\n",
              "    <tr style=\"text-align: right;\">\n",
              "      <th></th>\n",
              "      <th>qid</th>\n",
              "      <th>pid</th>\n",
              "      <th>queries</th>\n",
              "      <th>passage</th>\n",
              "      <th>relevancy</th>\n",
              "      <th>passage_tokens</th>\n",
              "      <th>query_tokens</th>\n",
              "      <th>passage_embedding</th>\n",
              "      <th>query_embedding</th>\n",
              "      <th>cosine_similarity</th>\n",
              "      <th>DocLen</th>\n",
              "      <th>queryLen</th>\n",
              "      <th>score</th>\n",
              "    </tr>\n",
              "  </thead>\n",
              "  <tbody>\n",
              "    <tr>\n",
              "      <th>0</th>\n",
              "      <td>1082792</td>\n",
              "      <td>1000084</td>\n",
              "      <td>what does the golgi apparatus do to the protei...</td>\n",
              "      <td>Start studying Bonding, Carbs, Proteins, Lipid...</td>\n",
              "      <td>0.0</td>\n",
              "      <td>['start', 'studying', 'bonding', 'carbs', 'pro...</td>\n",
              "      <td>['golgi', 'apparatus', 'proteins', 'lipids', '...</td>\n",
              "      <td>[ 0.2690694   0.07032246 -0.22095296 -0.134478...</td>\n",
              "      <td>[ 0.832084   -0.16500281  0.050816    0.16417 ...</td>\n",
              "      <td>0.617340</td>\n",
              "      <td>129</td>\n",
              "      <td>78</td>\n",
              "      <td>0.530650</td>\n",
              "    </tr>\n",
              "    <tr>\n",
              "      <th>1</th>\n",
              "      <td>995825</td>\n",
              "      <td>1000492</td>\n",
              "      <td>where is the graphic card located in the cpu</td>\n",
              "      <td>For example, a “PC Expansion Card” maybe the j...</td>\n",
              "      <td>0.0</td>\n",
              "      <td>['example', 'pc', 'expansion', 'card', 'maybe'...</td>\n",
              "      <td>['graphic', 'card', 'located', 'cpu']</td>\n",
              "      <td>[ 1.18339844e-01  1.92679703e-01  4.75641042e-...</td>\n",
              "      <td>[-0.01731001  0.32846758  0.68064654  0.689135...</td>\n",
              "      <td>0.831845</td>\n",
              "      <td>332</td>\n",
              "      <td>44</td>\n",
              "      <td>0.521313</td>\n",
              "    </tr>\n",
              "    <tr>\n",
              "      <th>2</th>\n",
              "      <td>995825</td>\n",
              "      <td>1000494</td>\n",
              "      <td>where is the graphic card located in the cpu</td>\n",
              "      <td>The Common Cards &amp; Buses. The most common type...</td>\n",
              "      <td>0.0</td>\n",
              "      <td>['common', 'cards', 'buses', 'common', 'types'...</td>\n",
              "      <td>['graphic', 'card', 'located', 'cpu']</td>\n",
              "      <td>[ 0.02057143  0.11528355  0.52425003  0.421483...</td>\n",
              "      <td>[-0.01731001  0.32846758  0.68064654  0.689135...</td>\n",
              "      <td>0.847569</td>\n",
              "      <td>338</td>\n",
              "      <td>44</td>\n",
              "      <td>0.525208</td>\n",
              "    </tr>\n",
              "    <tr>\n",
              "      <th>3</th>\n",
              "      <td>1091246</td>\n",
              "      <td>1000522</td>\n",
              "      <td>property premises meaning</td>\n",
              "      <td>The occurrence of since tells us that the firs...</td>\n",
              "      <td>0.0</td>\n",
              "      <td>['occurrence', 'since', 'tells', 'us', 'first'...</td>\n",
              "      <td>['property', 'premises', 'meaning']</td>\n",
              "      <td>[ 0.24477586  0.12094858 -0.1262933  -0.035436...</td>\n",
              "      <td>[ 0.5320867   0.13899668 -0.18879335 -0.206136...</td>\n",
              "      <td>0.751343</td>\n",
              "      <td>304</td>\n",
              "      <td>25</td>\n",
              "      <td>0.492774</td>\n",
              "    </tr>\n",
              "    <tr>\n",
              "      <th>4</th>\n",
              "      <td>1047854</td>\n",
              "      <td>1000585</td>\n",
              "      <td>what is printing mechanism</td>\n",
              "      <td>Windows desktop applications Develop Desktop t...</td>\n",
              "      <td>0.0</td>\n",
              "      <td>['windows', 'desktop', 'applications', 'develo...</td>\n",
              "      <td>['printing', 'mechanism']</td>\n",
              "      <td>[ 0.21993366 -0.27575365  0.6672145   0.224379...</td>\n",
              "      <td>[ 0.17438498 -0.67538    -0.050255   -0.132791...</td>\n",
              "      <td>0.813332</td>\n",
              "      <td>820</td>\n",
              "      <td>26</td>\n",
              "      <td>0.510789</td>\n",
              "    </tr>\n",
              "  </tbody>\n",
              "</table>\n",
              "</div>\n",
              "      <button class=\"colab-df-convert\" onclick=\"convertToInteractive('df-8536ee46-7cba-48b4-9117-4520b43937d1')\"\n",
              "              title=\"Convert this dataframe to an interactive table.\"\n",
              "              style=\"display:none;\">\n",
              "        \n",
              "  <svg xmlns=\"http://www.w3.org/2000/svg\" height=\"24px\"viewBox=\"0 0 24 24\"\n",
              "       width=\"24px\">\n",
              "    <path d=\"M0 0h24v24H0V0z\" fill=\"none\"/>\n",
              "    <path d=\"M18.56 5.44l.94 2.06.94-2.06 2.06-.94-2.06-.94-.94-2.06-.94 2.06-2.06.94zm-11 1L8.5 8.5l.94-2.06 2.06-.94-2.06-.94L8.5 2.5l-.94 2.06-2.06.94zm10 10l.94 2.06.94-2.06 2.06-.94-2.06-.94-.94-2.06-.94 2.06-2.06.94z\"/><path d=\"M17.41 7.96l-1.37-1.37c-.4-.4-.92-.59-1.43-.59-.52 0-1.04.2-1.43.59L10.3 9.45l-7.72 7.72c-.78.78-.78 2.05 0 2.83L4 21.41c.39.39.9.59 1.41.59.51 0 1.02-.2 1.41-.59l7.78-7.78 2.81-2.81c.8-.78.8-2.07 0-2.86zM5.41 20L4 18.59l7.72-7.72 1.47 1.35L5.41 20z\"/>\n",
              "  </svg>\n",
              "      </button>\n",
              "      \n",
              "  <style>\n",
              "    .colab-df-container {\n",
              "      display:flex;\n",
              "      flex-wrap:wrap;\n",
              "      gap: 12px;\n",
              "    }\n",
              "\n",
              "    .colab-df-convert {\n",
              "      background-color: #E8F0FE;\n",
              "      border: none;\n",
              "      border-radius: 50%;\n",
              "      cursor: pointer;\n",
              "      display: none;\n",
              "      fill: #1967D2;\n",
              "      height: 32px;\n",
              "      padding: 0 0 0 0;\n",
              "      width: 32px;\n",
              "    }\n",
              "\n",
              "    .colab-df-convert:hover {\n",
              "      background-color: #E2EBFA;\n",
              "      box-shadow: 0px 1px 2px rgba(60, 64, 67, 0.3), 0px 1px 3px 1px rgba(60, 64, 67, 0.15);\n",
              "      fill: #174EA6;\n",
              "    }\n",
              "\n",
              "    [theme=dark] .colab-df-convert {\n",
              "      background-color: #3B4455;\n",
              "      fill: #D2E3FC;\n",
              "    }\n",
              "\n",
              "    [theme=dark] .colab-df-convert:hover {\n",
              "      background-color: #434B5C;\n",
              "      box-shadow: 0px 1px 3px 1px rgba(0, 0, 0, 0.15);\n",
              "      filter: drop-shadow(0px 1px 2px rgba(0, 0, 0, 0.3));\n",
              "      fill: #FFFFFF;\n",
              "    }\n",
              "  </style>\n",
              "\n",
              "      <script>\n",
              "        const buttonEl =\n",
              "          document.querySelector('#df-8536ee46-7cba-48b4-9117-4520b43937d1 button.colab-df-convert');\n",
              "        buttonEl.style.display =\n",
              "          google.colab.kernel.accessAllowed ? 'block' : 'none';\n",
              "\n",
              "        async function convertToInteractive(key) {\n",
              "          const element = document.querySelector('#df-8536ee46-7cba-48b4-9117-4520b43937d1');\n",
              "          const dataTable =\n",
              "            await google.colab.kernel.invokeFunction('convertToInteractive',\n",
              "                                                     [key], {});\n",
              "          if (!dataTable) return;\n",
              "\n",
              "          const docLinkHtml = 'Like what you see? Visit the ' +\n",
              "            '<a target=\"_blank\" href=https://colab.research.google.com/notebooks/data_table.ipynb>data table notebook</a>'\n",
              "            + ' to learn more about interactive tables.';\n",
              "          element.innerHTML = '';\n",
              "          dataTable['output_type'] = 'display_data';\n",
              "          await google.colab.output.renderOutput(dataTable, element);\n",
              "          const docLink = document.createElement('div');\n",
              "          docLink.innerHTML = docLinkHtml;\n",
              "          element.appendChild(docLink);\n",
              "        }\n",
              "      </script>\n",
              "    </div>\n",
              "  </div>\n",
              "  "
            ]
          },
          "metadata": {},
          "execution_count": 18
        }
      ]
    },
    {
      "cell_type": "code",
      "source": [
        "validation_data['NN_rank'] = validation_data.groupby('qid')['score'].rank(method='first',ascending=False).astype('int')"
      ],
      "metadata": {
        "id": "g5rVgM6WPKlC"
      },
      "execution_count": 19,
      "outputs": []
    },
    {
      "cell_type": "code",
      "source": [
        "validation_data.head()"
      ],
      "metadata": {
        "colab": {
          "base_uri": "https://localhost:8080/",
          "height": 704
        },
        "id": "dAGmy2rePKf1",
        "outputId": "1bfd2d15-6630-4e6b-fed7-aebf1d617cc8"
      },
      "execution_count": 20,
      "outputs": [
        {
          "output_type": "execute_result",
          "data": {
            "text/plain": [
              "       qid      pid                                            queries  \\\n",
              "0  1082792  1000084  what does the golgi apparatus do to the protei...   \n",
              "1   995825  1000492       where is the graphic card located in the cpu   \n",
              "2   995825  1000494       where is the graphic card located in the cpu   \n",
              "3  1091246  1000522                          property premises meaning   \n",
              "4  1047854  1000585                         what is printing mechanism   \n",
              "\n",
              "                                             passage  relevancy  \\\n",
              "0  Start studying Bonding, Carbs, Proteins, Lipid...        0.0   \n",
              "1  For example, a “PC Expansion Card” maybe the j...        0.0   \n",
              "2  The Common Cards & Buses. The most common type...        0.0   \n",
              "3  The occurrence of since tells us that the firs...        0.0   \n",
              "4  Windows desktop applications Develop Desktop t...        0.0   \n",
              "\n",
              "                                      passage_tokens  \\\n",
              "0  ['start', 'studying', 'bonding', 'carbs', 'pro...   \n",
              "1  ['example', 'pc', 'expansion', 'card', 'maybe'...   \n",
              "2  ['common', 'cards', 'buses', 'common', 'types'...   \n",
              "3  ['occurrence', 'since', 'tells', 'us', 'first'...   \n",
              "4  ['windows', 'desktop', 'applications', 'develo...   \n",
              "\n",
              "                                        query_tokens  \\\n",
              "0  ['golgi', 'apparatus', 'proteins', 'lipids', '...   \n",
              "1              ['graphic', 'card', 'located', 'cpu']   \n",
              "2              ['graphic', 'card', 'located', 'cpu']   \n",
              "3                ['property', 'premises', 'meaning']   \n",
              "4                          ['printing', 'mechanism']   \n",
              "\n",
              "                                   passage_embedding  \\\n",
              "0  [ 0.2690694   0.07032246 -0.22095296 -0.134478...   \n",
              "1  [ 1.18339844e-01  1.92679703e-01  4.75641042e-...   \n",
              "2  [ 0.02057143  0.11528355  0.52425003  0.421483...   \n",
              "3  [ 0.24477586  0.12094858 -0.1262933  -0.035436...   \n",
              "4  [ 0.21993366 -0.27575365  0.6672145   0.224379...   \n",
              "\n",
              "                                     query_embedding  cosine_similarity  \\\n",
              "0  [ 0.832084   -0.16500281  0.050816    0.16417 ...           0.617340   \n",
              "1  [-0.01731001  0.32846758  0.68064654  0.689135...           0.831845   \n",
              "2  [-0.01731001  0.32846758  0.68064654  0.689135...           0.847569   \n",
              "3  [ 0.5320867   0.13899668 -0.18879335 -0.206136...           0.751343   \n",
              "4  [ 0.17438498 -0.67538    -0.050255   -0.132791...           0.813332   \n",
              "\n",
              "   DocLen  queryLen     score  NN_rank  \n",
              "0     129        78  0.530650      449  \n",
              "1     332        44  0.521313      241  \n",
              "2     338        44  0.525208      169  \n",
              "3     304        25  0.492774      690  \n",
              "4     820        26  0.510789      307  "
            ],
            "text/html": [
              "\n",
              "  <div id=\"df-58d9ef97-d799-4895-97e9-7142f62ee997\">\n",
              "    <div class=\"colab-df-container\">\n",
              "      <div>\n",
              "<style scoped>\n",
              "    .dataframe tbody tr th:only-of-type {\n",
              "        vertical-align: middle;\n",
              "    }\n",
              "\n",
              "    .dataframe tbody tr th {\n",
              "        vertical-align: top;\n",
              "    }\n",
              "\n",
              "    .dataframe thead th {\n",
              "        text-align: right;\n",
              "    }\n",
              "</style>\n",
              "<table border=\"1\" class=\"dataframe\">\n",
              "  <thead>\n",
              "    <tr style=\"text-align: right;\">\n",
              "      <th></th>\n",
              "      <th>qid</th>\n",
              "      <th>pid</th>\n",
              "      <th>queries</th>\n",
              "      <th>passage</th>\n",
              "      <th>relevancy</th>\n",
              "      <th>passage_tokens</th>\n",
              "      <th>query_tokens</th>\n",
              "      <th>passage_embedding</th>\n",
              "      <th>query_embedding</th>\n",
              "      <th>cosine_similarity</th>\n",
              "      <th>DocLen</th>\n",
              "      <th>queryLen</th>\n",
              "      <th>score</th>\n",
              "      <th>NN_rank</th>\n",
              "    </tr>\n",
              "  </thead>\n",
              "  <tbody>\n",
              "    <tr>\n",
              "      <th>0</th>\n",
              "      <td>1082792</td>\n",
              "      <td>1000084</td>\n",
              "      <td>what does the golgi apparatus do to the protei...</td>\n",
              "      <td>Start studying Bonding, Carbs, Proteins, Lipid...</td>\n",
              "      <td>0.0</td>\n",
              "      <td>['start', 'studying', 'bonding', 'carbs', 'pro...</td>\n",
              "      <td>['golgi', 'apparatus', 'proteins', 'lipids', '...</td>\n",
              "      <td>[ 0.2690694   0.07032246 -0.22095296 -0.134478...</td>\n",
              "      <td>[ 0.832084   -0.16500281  0.050816    0.16417 ...</td>\n",
              "      <td>0.617340</td>\n",
              "      <td>129</td>\n",
              "      <td>78</td>\n",
              "      <td>0.530650</td>\n",
              "      <td>449</td>\n",
              "    </tr>\n",
              "    <tr>\n",
              "      <th>1</th>\n",
              "      <td>995825</td>\n",
              "      <td>1000492</td>\n",
              "      <td>where is the graphic card located in the cpu</td>\n",
              "      <td>For example, a “PC Expansion Card” maybe the j...</td>\n",
              "      <td>0.0</td>\n",
              "      <td>['example', 'pc', 'expansion', 'card', 'maybe'...</td>\n",
              "      <td>['graphic', 'card', 'located', 'cpu']</td>\n",
              "      <td>[ 1.18339844e-01  1.92679703e-01  4.75641042e-...</td>\n",
              "      <td>[-0.01731001  0.32846758  0.68064654  0.689135...</td>\n",
              "      <td>0.831845</td>\n",
              "      <td>332</td>\n",
              "      <td>44</td>\n",
              "      <td>0.521313</td>\n",
              "      <td>241</td>\n",
              "    </tr>\n",
              "    <tr>\n",
              "      <th>2</th>\n",
              "      <td>995825</td>\n",
              "      <td>1000494</td>\n",
              "      <td>where is the graphic card located in the cpu</td>\n",
              "      <td>The Common Cards &amp; Buses. The most common type...</td>\n",
              "      <td>0.0</td>\n",
              "      <td>['common', 'cards', 'buses', 'common', 'types'...</td>\n",
              "      <td>['graphic', 'card', 'located', 'cpu']</td>\n",
              "      <td>[ 0.02057143  0.11528355  0.52425003  0.421483...</td>\n",
              "      <td>[-0.01731001  0.32846758  0.68064654  0.689135...</td>\n",
              "      <td>0.847569</td>\n",
              "      <td>338</td>\n",
              "      <td>44</td>\n",
              "      <td>0.525208</td>\n",
              "      <td>169</td>\n",
              "    </tr>\n",
              "    <tr>\n",
              "      <th>3</th>\n",
              "      <td>1091246</td>\n",
              "      <td>1000522</td>\n",
              "      <td>property premises meaning</td>\n",
              "      <td>The occurrence of since tells us that the firs...</td>\n",
              "      <td>0.0</td>\n",
              "      <td>['occurrence', 'since', 'tells', 'us', 'first'...</td>\n",
              "      <td>['property', 'premises', 'meaning']</td>\n",
              "      <td>[ 0.24477586  0.12094858 -0.1262933  -0.035436...</td>\n",
              "      <td>[ 0.5320867   0.13899668 -0.18879335 -0.206136...</td>\n",
              "      <td>0.751343</td>\n",
              "      <td>304</td>\n",
              "      <td>25</td>\n",
              "      <td>0.492774</td>\n",
              "      <td>690</td>\n",
              "    </tr>\n",
              "    <tr>\n",
              "      <th>4</th>\n",
              "      <td>1047854</td>\n",
              "      <td>1000585</td>\n",
              "      <td>what is printing mechanism</td>\n",
              "      <td>Windows desktop applications Develop Desktop t...</td>\n",
              "      <td>0.0</td>\n",
              "      <td>['windows', 'desktop', 'applications', 'develo...</td>\n",
              "      <td>['printing', 'mechanism']</td>\n",
              "      <td>[ 0.21993366 -0.27575365  0.6672145   0.224379...</td>\n",
              "      <td>[ 0.17438498 -0.67538    -0.050255   -0.132791...</td>\n",
              "      <td>0.813332</td>\n",
              "      <td>820</td>\n",
              "      <td>26</td>\n",
              "      <td>0.510789</td>\n",
              "      <td>307</td>\n",
              "    </tr>\n",
              "  </tbody>\n",
              "</table>\n",
              "</div>\n",
              "      <button class=\"colab-df-convert\" onclick=\"convertToInteractive('df-58d9ef97-d799-4895-97e9-7142f62ee997')\"\n",
              "              title=\"Convert this dataframe to an interactive table.\"\n",
              "              style=\"display:none;\">\n",
              "        \n",
              "  <svg xmlns=\"http://www.w3.org/2000/svg\" height=\"24px\"viewBox=\"0 0 24 24\"\n",
              "       width=\"24px\">\n",
              "    <path d=\"M0 0h24v24H0V0z\" fill=\"none\"/>\n",
              "    <path d=\"M18.56 5.44l.94 2.06.94-2.06 2.06-.94-2.06-.94-.94-2.06-.94 2.06-2.06.94zm-11 1L8.5 8.5l.94-2.06 2.06-.94-2.06-.94L8.5 2.5l-.94 2.06-2.06.94zm10 10l.94 2.06.94-2.06 2.06-.94-2.06-.94-.94-2.06-.94 2.06-2.06.94z\"/><path d=\"M17.41 7.96l-1.37-1.37c-.4-.4-.92-.59-1.43-.59-.52 0-1.04.2-1.43.59L10.3 9.45l-7.72 7.72c-.78.78-.78 2.05 0 2.83L4 21.41c.39.39.9.59 1.41.59.51 0 1.02-.2 1.41-.59l7.78-7.78 2.81-2.81c.8-.78.8-2.07 0-2.86zM5.41 20L4 18.59l7.72-7.72 1.47 1.35L5.41 20z\"/>\n",
              "  </svg>\n",
              "      </button>\n",
              "      \n",
              "  <style>\n",
              "    .colab-df-container {\n",
              "      display:flex;\n",
              "      flex-wrap:wrap;\n",
              "      gap: 12px;\n",
              "    }\n",
              "\n",
              "    .colab-df-convert {\n",
              "      background-color: #E8F0FE;\n",
              "      border: none;\n",
              "      border-radius: 50%;\n",
              "      cursor: pointer;\n",
              "      display: none;\n",
              "      fill: #1967D2;\n",
              "      height: 32px;\n",
              "      padding: 0 0 0 0;\n",
              "      width: 32px;\n",
              "    }\n",
              "\n",
              "    .colab-df-convert:hover {\n",
              "      background-color: #E2EBFA;\n",
              "      box-shadow: 0px 1px 2px rgba(60, 64, 67, 0.3), 0px 1px 3px 1px rgba(60, 64, 67, 0.15);\n",
              "      fill: #174EA6;\n",
              "    }\n",
              "\n",
              "    [theme=dark] .colab-df-convert {\n",
              "      background-color: #3B4455;\n",
              "      fill: #D2E3FC;\n",
              "    }\n",
              "\n",
              "    [theme=dark] .colab-df-convert:hover {\n",
              "      background-color: #434B5C;\n",
              "      box-shadow: 0px 1px 3px 1px rgba(0, 0, 0, 0.15);\n",
              "      filter: drop-shadow(0px 1px 2px rgba(0, 0, 0, 0.3));\n",
              "      fill: #FFFFFF;\n",
              "    }\n",
              "  </style>\n",
              "\n",
              "      <script>\n",
              "        const buttonEl =\n",
              "          document.querySelector('#df-58d9ef97-d799-4895-97e9-7142f62ee997 button.colab-df-convert');\n",
              "        buttonEl.style.display =\n",
              "          google.colab.kernel.accessAllowed ? 'block' : 'none';\n",
              "\n",
              "        async function convertToInteractive(key) {\n",
              "          const element = document.querySelector('#df-58d9ef97-d799-4895-97e9-7142f62ee997');\n",
              "          const dataTable =\n",
              "            await google.colab.kernel.invokeFunction('convertToInteractive',\n",
              "                                                     [key], {});\n",
              "          if (!dataTable) return;\n",
              "\n",
              "          const docLinkHtml = 'Like what you see? Visit the ' +\n",
              "            '<a target=\"_blank\" href=https://colab.research.google.com/notebooks/data_table.ipynb>data table notebook</a>'\n",
              "            + ' to learn more about interactive tables.';\n",
              "          element.innerHTML = '';\n",
              "          dataTable['output_type'] = 'display_data';\n",
              "          await google.colab.output.renderOutput(dataTable, element);\n",
              "          const docLink = document.createElement('div');\n",
              "          docLink.innerHTML = docLinkHtml;\n",
              "          element.appendChild(docLink);\n",
              "        }\n",
              "      </script>\n",
              "    </div>\n",
              "  </div>\n",
              "  "
            ]
          },
          "metadata": {},
          "execution_count": 20
        }
      ]
    },
    {
      "cell_type": "code",
      "source": [
        "trial_data = validation_data[['qid','pid','NN_rank','score']]"
      ],
      "metadata": {
        "id": "1Py6cyB0g2uL"
      },
      "execution_count": 21,
      "outputs": []
    },
    {
      "cell_type": "code",
      "source": [
        "trial_data = trial_data.reset_index(drop=True)"
      ],
      "metadata": {
        "id": "LZclJ2Nzg2rf"
      },
      "execution_count": 22,
      "outputs": []
    },
    {
      "cell_type": "code",
      "source": [
        "NN_dict = {}\n",
        "qid_list = trial_data['qid'].unique()\n",
        "for qid in qid_list:\n",
        "    top_ones = trial_data[trial_data['qid'] == qid]\n",
        "    top_ones = top_ones.reset_index(drop=True)\n",
        "    top_ones = top_ones.sort_values(by=['NN_rank'])\n",
        "    NN_dict[qid] = top_ones[:100]"
      ],
      "metadata": {
        "id": "0Y3xL5OUg2o-"
      },
      "execution_count": 23,
      "outputs": []
    },
    {
      "cell_type": "code",
      "source": [
        "f = open(\"NN.txt\", \"w\")\n",
        "for lr_df in NN_dict.values():\n",
        "    for i, data in lr_df.iterrows():\n",
        "        qid = str(data['qid'].astype(int))\n",
        "        pid = str(data['pid'].astype(int))\n",
        "        score = str(data['score'])\n",
        "        rank = str(data['NN_rank'].astype(int))\n",
        "        f.write(qid + \",\" + \"A2\" + \",\" + pid + \",\" + rank + \",\" + score + \",\" + \"NN\" + \"\\n\")\n",
        "f.close()"
      ],
      "metadata": {
        "id": "qRYI539ig2mH"
      },
      "execution_count": 24,
      "outputs": []
    },
    {
      "cell_type": "code",
      "source": [
        "def average_precision_calc(df,retrieved,score,rank):\n",
        "    average_precision = 0\n",
        "    qid_list = np.unique(np.asarray(df['qid']))\n",
        "    ranked_passages = df[df[rank] <= retrieved]\n",
        "\n",
        "    relevant_passage = ranked_passages[ranked_passages['relevancy'] != 0]\n",
        "    relevant_passage['rank'] = relevant_passage.groupby('qid')[score].rank(method = 'first',ascending=False)\n",
        "\n",
        "    for qid in qid_list:\n",
        "        temp = relevant_passage[relevant_passage['qid'] == qid]\n",
        "        temp['rank'] = temp['rank']/temp[rank]\n",
        "        if len(temp) == 0:\n",
        "            average_precision += 0\n",
        "        else:\n",
        "            average_precision += sum(temp['rank'])/len(temp)\n",
        "\n",
        "    average_precision = average_precision/len(qid_list)\n",
        "    return average_precision"
      ],
      "metadata": {
        "id": "Q3MbcDFBg2je"
      },
      "execution_count": 25,
      "outputs": []
    },
    {
      "cell_type": "code",
      "source": [
        "average_precision_calc(validation_data,100,'score','NN_rank')"
      ],
      "metadata": {
        "colab": {
          "base_uri": "https://localhost:8080/"
        },
        "id": "xfnoIsJKg2g9",
        "outputId": "7f27f838-67e7-4123-ad06-e0b3548f44b4"
      },
      "execution_count": 26,
      "outputs": [
        {
          "output_type": "execute_result",
          "data": {
            "text/plain": [
              "0.03425544081728095"
            ]
          },
          "metadata": {},
          "execution_count": 26
        }
      ]
    },
    {
      "cell_type": "code",
      "source": [
        "def NDCG_calc(df,retrieved, rank):\n",
        "\n",
        "    all_DCG = 0\n",
        "    relevant_passage = df[df['relevancy'] != 0]\n",
        "    relevant_passage_retrived = relevant_passage[relevant_passage[rank] <= retrieved]\n",
        "\n",
        "    qid_list = np.unique(np.asarray(df['qid']))\n",
        "\n",
        "    for qid in qid_list:\n",
        "        temp = relevant_passage[relevant_passage['qid'] == qid]\n",
        "        DCG = sum(1/np.log2(np.asarray(temp[rank])+1))\n",
        "        optDCG = sum(1/np.log2(np.arange(1,len(temp)+1)+1))\n",
        "        all_DCG += DCG/optDCG\n",
        "    all_DCG = all_DCG/len(qid_list)\n",
        "\n",
        "    return all_DCG"
      ],
      "metadata": {
        "id": "v4OWqt5xg2dt"
      },
      "execution_count": 27,
      "outputs": []
    },
    {
      "cell_type": "code",
      "source": [
        "NDCG_calc(validation_data,100,'NN_rank')"
      ],
      "metadata": {
        "colab": {
          "base_uri": "https://localhost:8080/"
        },
        "id": "zWmHj7jwhVJ2",
        "outputId": "41645e4f-b83b-4e4e-f4c0-fe107572b1e2"
      },
      "execution_count": 28,
      "outputs": [
        {
          "output_type": "execute_result",
          "data": {
            "text/plain": [
              "0.1638542308680274"
            ]
          },
          "metadata": {},
          "execution_count": 28
        }
      ]
    },
    {
      "cell_type": "code",
      "source": [
        ""
      ],
      "metadata": {
        "id": "ULadbOANhVHQ"
      },
      "execution_count": null,
      "outputs": []
    },
    {
      "cell_type": "code",
      "source": [
        "# import tensorflow as tf\n",
        "# from tensorflow.keras import layers, activations, losses, Model, Input\n",
        "# from tensorflow.nn import leaky_relu\n",
        "# import numpy as np\n",
        "# from itertools import combinations\n",
        "# from tensorflow.keras.utils import plot_model, Progbar\n",
        "# import matplotlib.pyplot as plt\n",
        "# from sklearn.model_selection import train_test_split\n",
        "# from torch import nn"
      ],
      "metadata": {
        "id": "EIeAxa9h1cTo"
      },
      "execution_count": null,
      "outputs": []
    },
    {
      "cell_type": "code",
      "source": [
        "# qids = final_train.qid.values\n",
        "# doc_features = final_train[['cosine_similarity', 'DocLen', 'queryLen']].values\n",
        "# doc_scores = final_train.relevancy.values"
      ],
      "metadata": {
        "id": "-FG6xQ9d2msB"
      },
      "execution_count": null,
      "outputs": []
    },
    {
      "cell_type": "code",
      "source": [
        "# # put data into pairs\n",
        "# xi = []\n",
        "# xj = []\n",
        "# pij = []\n",
        "# pair_id = []\n",
        "# pair_query_id = []\n",
        "# for q in np.unique(qids):\n",
        "#     query_idx = np.where(qids == q)[0]\n",
        "#     for pair_idx in combinations(query_idx, 2):\n",
        "#         pair_query_id.append(q)\n",
        "        \n",
        "#         pair_id.append(pair_idx)\n",
        "#         i = pair_idx[0]\n",
        "#         j = pair_idx[1]\n",
        "#         xi.append(doc_features[i])\n",
        "#         xj.append(doc_features[j])\n",
        "        \n",
        "#         if doc_scores[i] == doc_scores[j]:\n",
        "#             _pij = 0.5\n",
        "#         elif doc_scores[i] > doc_scores[j]:\n",
        "#             _pij = 1\n",
        "#         else: \n",
        "#             _pij = 0\n",
        "#         pij.append(_pij)\n",
        "        \n",
        "# xi = np.array(xi)\n",
        "# xj = np.array(xj)\n",
        "# pij = np.array(pij)\n",
        "# pair_query_id = np.array(pair_query_id)\n",
        "\n",
        "# xi_train, xi_test, xj_train, xj_test, pij_train, pij_test, pair_id_train, pair_id_test = train_test_split(\n",
        "#     xi, xj, pij, pair_id, test_size=0.2, stratify=pair_query_id)"
      ],
      "metadata": {
        "id": "jpTS1o2X1ZJp"
      },
      "execution_count": null,
      "outputs": []
    },
    {
      "cell_type": "code",
      "source": [
        "# qidsV = validation_data.qid.values\n",
        "# doc_featuresV = validation_data[['cosine_similarity', 'DocLen', 'queryLen']]\n",
        "# doc_scoresV = validation_data.relevancy.values"
      ],
      "metadata": {
        "id": "29tlvW-5214S"
      },
      "execution_count": null,
      "outputs": []
    },
    {
      "cell_type": "code",
      "source": [
        "# doc_featuresV.head()"
      ],
      "metadata": {
        "id": "SWkwiFtSTD4U"
      },
      "execution_count": null,
      "outputs": []
    },
    {
      "cell_type": "code",
      "source": [
        "# xiV = []\n",
        "# xjV = []\n",
        "# # pijV = []\n",
        "# # pair_idV = []\n",
        "# # pair_query_idV = []\n",
        "# uniqeu_qids = np.unique(qidsV)\n",
        "# for i,q in enumerate(tqdm(uniqeu_qids[:1])):\n",
        "#     query_idx = np.where(qidsV == q)[0]\n",
        "#     for pair_idx in combinations(query_idx, 2):\n",
        "#         # pair_query_idV.append(q)\n",
        "        \n",
        "#         # pair_idV.append(pair_idx)\n",
        "#         i = pair_idx[0]\n",
        "#         j = pair_idx[1]\n",
        "#         xiV.append(doc_featuresV[i])\n",
        "#         xjV.append(doc_featuresV[j])\n",
        "        \n",
        "#         # if doc_scoresV[i] == doc_scoresV[j]:\n",
        "#         #     _pijV = 0.5\n",
        "#         # elif doc_scoresV[i] > doc_scoresV[j]:\n",
        "#         #     _pijV = 1\n",
        "#         # else: \n",
        "#         #     _pijV = 0\n",
        "#         # pijV.append(_pijV)\n",
        "        \n",
        "# xiV = np.array(xiV)\n",
        "# xjV = np.array(xjV)\n",
        "# # pair_query_idV = np.array(pair_query_idV)"
      ],
      "metadata": {
        "id": "94yGVd_h29Ty"
      },
      "execution_count": null,
      "outputs": []
    },
    {
      "cell_type": "code",
      "source": [
        "# class RankNet(Model):\n",
        "#     def __init__(self):\n",
        "#         super().__init__()\n",
        "#         self.dense = [layers.Dense(16, activation=leaky_relu), layers.Dense(8, activation=leaky_relu)]\n",
        "#         self.o = layers.Dense(1, activation='linear')\n",
        "#         self.oi_minus_oj = layers.Subtract()\n",
        "    \n",
        "#     def call(self, inputs):\n",
        "#         xi, xj = inputs\n",
        "#         densei = self.dense[0](xi)\n",
        "#         densej = self.dense[0](xj)\n",
        "#         for dense in self.dense[1:]:\n",
        "#             densei = dense(densei)\n",
        "#             densej = dense(densej)\n",
        "#         oi = self.o(densei)\n",
        "#         oj= self.o(densej)\n",
        "#         oij = self.oi_minus_oj([oi, oj])\n",
        "#         output = layers.Activation('sigmoid')(oij)\n",
        "#         return output"
      ],
      "metadata": {
        "id": "JBDe7lvP8voS"
      },
      "execution_count": null,
      "outputs": []
    },
    {
      "cell_type": "code",
      "source": [
        "# ranknet = RankNet()\n",
        "# ranknet.compile(optimizer='adam', loss='binary_crossentropy')\n",
        "# history = ranknet.fit([xi_train, xj_train], pij_train, epochs=10, batch_size=1000, validation_data=([xi_test, xj_test], pij_test))\n"
      ],
      "metadata": {
        "id": "qDMhiu1i84bo"
      },
      "execution_count": null,
      "outputs": []
    },
    {
      "cell_type": "code",
      "source": [
        "# ranknet.summary()"
      ],
      "metadata": {
        "id": "QDGf9JRxOh5g"
      },
      "execution_count": null,
      "outputs": []
    },
    {
      "cell_type": "code",
      "source": [
        "# ranknet.call([xiV, xjV])"
      ],
      "metadata": {
        "id": "yQsBq5vRR1Xv"
      },
      "execution_count": null,
      "outputs": []
    },
    {
      "cell_type": "code",
      "source": [
        "# print(y_pred)"
      ],
      "metadata": {
        "id": "xjbKR5RlR1VH"
      },
      "execution_count": null,
      "outputs": []
    },
    {
      "cell_type": "code",
      "source": [
        ""
      ],
      "metadata": {
        "id": "tInjYY5NR1S0"
      },
      "execution_count": null,
      "outputs": []
    },
    {
      "cell_type": "code",
      "source": [
        ""
      ],
      "metadata": {
        "id": "FjmLT2dJS_C1"
      },
      "execution_count": null,
      "outputs": []
    }
  ]
}