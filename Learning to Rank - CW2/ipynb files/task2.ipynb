{
  "cells": [
    {
      "cell_type": "code",
      "execution_count": 1,
      "metadata": {
        "colab": {
          "base_uri": "https://localhost:8080/"
        },
        "id": "BvlORdS6Muo8",
        "outputId": "e9b1c810-d879-430b-de57-6e0d66e9f79b"
      },
      "outputs": [
        {
          "output_type": "stream",
          "name": "stdout",
          "text": [
            "[nltk_data] Downloading package stopwords to /root/nltk_data...\n",
            "[nltk_data]   Unzipping corpora/stopwords.zip.\n"
          ]
        }
      ],
      "source": [
        "import pandas as pd\n",
        "import numpy as np\n",
        "import string\n",
        "import matplotlib.pyplot as plt\n",
        "import seaborn as sns\n",
        "from nltk.tokenize import RegexpTokenizer\n",
        "from nltk.corpus import stopwords\n",
        "import nltk\n",
        "nltk.download('stopwords')\n",
        "pd.options.mode.chained_assignment = None\n",
        "from tqdm import tqdm"
      ]
    },
    {
      "cell_type": "code",
      "execution_count": 2,
      "metadata": {
        "colab": {
          "base_uri": "https://localhost:8080/"
        },
        "id": "ZTmYGAY5M0eg",
        "outputId": "921ae752-225d-4e7f-ccad-cfb451ea5f0c"
      },
      "outputs": [
        {
          "output_type": "stream",
          "name": "stdout",
          "text": [
            "Drive already mounted at /content/drive; to attempt to forcibly remount, call drive.mount(\"/content/drive\", force_remount=True).\n"
          ]
        }
      ],
      "source": [
        "from google.colab import drive\n",
        "drive.mount('/content/drive')"
      ]
    },
    {
      "cell_type": "code",
      "execution_count": 3,
      "metadata": {
        "id": "te71POc9MpIw"
      },
      "outputs": [],
      "source": [
        "from gensim.test.utils import datapath, get_tmpfile\n",
        "from gensim.models import KeyedVectors\n",
        "from gensim.scripts.glove2word2vec import glove2word2vec\n",
        "glove_file = '/content/drive/MyDrive/IRDM Coursework 2/glove.6B.50d.txt'\n",
        "tmp_file = get_tmpfile(\"test_word2vec.txt\")\n",
        "_ = glove2word2vec(glove_file, tmp_file)\n",
        "model = KeyedVectors.load_word2vec_format(tmp_file,binary=False)"
      ]
    },
    {
      "cell_type": "code",
      "execution_count": 4,
      "metadata": {
        "id": "NkE_nxb9MvEr"
      },
      "outputs": [],
      "source": [
        "def preprocess_single_passage(passage,stop_words=True):\n",
        "    tokenizer = RegexpTokenizer(r'\\w+')\n",
        "    tok_pass = tokenizer.tokenize(passage)\n",
        "    tok_pass = [tok for tok in tok_pass if tok.isalpha()]\n",
        "    tok_pass = [tok.lower() for tok in tok_pass]\n",
        "    \n",
        "    if stop_words == True:\n",
        "        stop_words = stopwords.words('english')\n",
        "        tokens = [tok for tok in tok_pass if tok not in stop_words]\n",
        "    else:\n",
        "        tokens = tok_pass\n",
        "    return tokens"
      ]
    },
    {
      "cell_type": "code",
      "execution_count": 5,
      "metadata": {
        "colab": {
          "base_uri": "https://localhost:8080/"
        },
        "id": "YP0v_vBoMyMY",
        "outputId": "10c958d0-2770-472a-bd2d-9da365ab42a1"
      },
      "outputs": [
        {
          "output_type": "stream",
          "name": "stdout",
          "text": [
            "(1103039, 5)\n"
          ]
        }
      ],
      "source": [
        "validation_data = pd.read_csv('/content/drive/MyDrive/IRDM Coursework 2/validation_data.tsv',sep='\\t')\n",
        "print(validation_data.shape)"
      ]
    },
    {
      "cell_type": "code",
      "execution_count": 6,
      "metadata": {
        "colab": {
          "base_uri": "https://localhost:8080/"
        },
        "id": "G0ZofQ4OzwNk",
        "outputId": "58f38d8d-ea2d-47fe-e704-0b7a7b314634"
      },
      "outputs": [
        {
          "output_type": "stream",
          "name": "stdout",
          "text": [
            "(4364339, 5)\n"
          ]
        }
      ],
      "source": [
        "train_data = pd.read_csv('/content/drive/MyDrive/IRDM Coursework 2/train_data.tsv',sep='\\t')\n",
        "print(train_data.shape)"
      ]
    },
    {
      "cell_type": "code",
      "execution_count": 7,
      "metadata": {
        "id": "wWrn5r3IzxHo"
      },
      "outputs": [],
      "source": [
        "def negative_sampling(data,k):\n",
        "  qid_list = np.unique(np.asarray(data['qid']))\n",
        "  samples = []\n",
        "  for qid in qid_list:\n",
        "    pos_temp = data[(data['qid'] == qid) & (data['relevancy'] == 1)]\n",
        "    neg_temp = data[(data['qid'] == qid) & (data['relevancy'] == 0)]\n",
        "    samples.append(pos_temp.sample(n=1, random_state=1))\n",
        "    if len(neg_temp) < k:\n",
        "      samples.append(neg_temp)\n",
        "    else:\n",
        "      samples.append(neg_temp.sample(n=k, random_state=1))\n",
        "  new_data = pd.concat(samples)\n",
        "  return new_data.reset_index(drop=True)"
      ]
    },
    {
      "cell_type": "code",
      "execution_count": 8,
      "metadata": {
        "id": "OgFB7_V1z050"
      },
      "outputs": [],
      "source": [
        "final_train = negative_sampling(train_data,10)\n",
        "final_train = final_train.reset_index(drop=True)"
      ]
    },
    {
      "cell_type": "code",
      "execution_count": 9,
      "metadata": {
        "id": "s7dLeST4g2Mx"
      },
      "outputs": [],
      "source": [
        "#preprocess queries and turn queries into list of tokens\n",
        "\n",
        "# query_tokens_dict = {}\n",
        "# qid_list, ind_list = np.unique(np.asarray(validation_data['qid']),return_index=True)\n",
        "# for qid, ind in tqdm(zip(qid_list,ind_list)):\n",
        "#   query_tokens_dict[qid] = preprocess_single_passage(validation_data.loc[ind,'queries'])\n",
        "# validation_data.loc[:,'query_tokens'] = validation_data['qid'].map(query_tokens_dict)\n",
        "\n",
        "# passage_tokens_dict = {}\n",
        "# pid_list, ind_list = np.unique(np.asarray(validation_data['pid']),return_index=True)\n",
        "# for pid, ind in tqdm(zip(pid_list,ind_list)):\n",
        "#   passage_tokens_dict[pid] = preprocess_single_passage(validation_data.loc[ind,'passage'])\n",
        "# validation_data['passage_tokens'] = validation_data['pid'].map(passage_tokens_dict)"
      ]
    },
    {
      "cell_type": "code",
      "execution_count": 10,
      "metadata": {
        "id": "rCkNVfFThqfd"
      },
      "outputs": [],
      "source": [
        "#preprocess queries and turn queries into list of tokens\n",
        "\n",
        "# query_tokens_dict = {}\n",
        "# qid_list, ind_list = np.unique(np.asarray(final_train['qid']),return_index=True)\n",
        "# for qid, ind in tqdm(zip(qid_list,ind_list)):\n",
        "#   query_tokens_dict[qid] = preprocess_single_passage(final_train.loc[ind,'queries'])\n",
        "# final_train.loc[:,'query_tokens'] = final_train['qid'].map(query_tokens_dict)\n",
        "\n",
        "# passage_tokens_dict = {}\n",
        "# pid_list, ind_list = np.unique(np.asarray(final_train['pid']),return_index=True)\n",
        "# for pid, ind in tqdm(zip(pid_list,ind_list)):\n",
        "#   passage_tokens_dict[pid] = preprocess_single_passage(final_train.loc[ind,'passage'])\n",
        "# final_train['passage_tokens'] = final_train['pid'].map(passage_tokens_dict)"
      ]
    },
    {
      "cell_type": "code",
      "execution_count": 11,
      "metadata": {
        "colab": {
          "base_uri": "https://localhost:8080/"
        },
        "id": "10p2qNkxmeud",
        "outputId": "2b173e4b-4092-4dae-e5f8-97b3c87a3e7e"
      },
      "outputs": [
        {
          "output_type": "execute_result",
          "data": {
            "text/plain": [
              "qid                                                     393881\n",
              "pid                                                    2358751\n",
              "queries                        in what county in ga is canton'\n",
              "passage      Leave a comment. Filed under --TALBOT COUNTY G...\n",
              "relevancy                                                  0.0\n",
              "Name: 9952, dtype: object"
            ]
          },
          "metadata": {},
          "execution_count": 11
        }
      ],
      "source": [
        "final_train.iloc[9952]"
      ]
    },
    {
      "cell_type": "code",
      "execution_count": 12,
      "metadata": {
        "colab": {
          "base_uri": "https://localhost:8080/"
        },
        "id": "IJfwB3Bdz_m_",
        "outputId": "58e2c995-6bda-4faf-faa2-dde8ed93a8b7"
      },
      "outputs": [
        {
          "output_type": "stream",
          "name": "stderr",
          "text": [
            "100%|██████████| 50341/50341 [00:18<00:00, 2795.21it/s]\n"
          ]
        }
      ],
      "source": [
        "final_train['passage_tokens'] = 0\n",
        "for i,passage in enumerate(tqdm(final_train['passage'])):\n",
        "  final_train['passage_tokens'][i] = preprocess_single_passage(passage)"
      ]
    },
    {
      "cell_type": "code",
      "execution_count": 13,
      "metadata": {
        "colab": {
          "base_uri": "https://localhost:8080/"
        },
        "id": "j7w0toYUz7N7",
        "outputId": "29a79503-5458-419e-8013-260b3a59d640"
      },
      "outputs": [
        {
          "output_type": "stream",
          "name": "stderr",
          "text": [
            "100%|██████████| 50341/50341 [00:09<00:00, 5363.89it/s]\n"
          ]
        }
      ],
      "source": [
        "final_train['query_tokens'] = 0\n",
        "for i,query in enumerate(tqdm(final_train['queries'])):\n",
        "  final_train['query_tokens'][i] = preprocess_single_passage(query)"
      ]
    },
    {
      "cell_type": "code",
      "execution_count": 14,
      "metadata": {
        "colab": {
          "base_uri": "https://localhost:8080/"
        },
        "id": "pUb_BpTCO5RA",
        "outputId": "1b401aed-bd92-4771-da61-67d46a954ea4"
      },
      "outputs": [
        {
          "output_type": "stream",
          "name": "stderr",
          "text": [
            "100%|██████████| 1103039/1103039 [06:55<00:00, 2655.36it/s]\n"
          ]
        }
      ],
      "source": [
        "validation_data['passage_tokens'] = 0\n",
        "for i,passage in enumerate(tqdm(validation_data['passage'])):\n",
        "  validation_data['passage_tokens'][i] = preprocess_single_passage(passage)"
      ]
    },
    {
      "cell_type": "code",
      "execution_count": 15,
      "metadata": {
        "colab": {
          "base_uri": "https://localhost:8080/"
        },
        "id": "skW_55mXOS0c",
        "outputId": "e88042a5-46df-428e-ac7b-acadeda8d6a6"
      },
      "outputs": [
        {
          "output_type": "stream",
          "name": "stderr",
          "text": [
            "100%|██████████| 1103039/1103039 [03:43<00:00, 4935.08it/s]\n"
          ]
        }
      ],
      "source": [
        "validation_data['query_tokens'] = 0\n",
        "for i,query in enumerate(tqdm(validation_data['queries'])):\n",
        "  validation_data['query_tokens'][i] = preprocess_single_passage(query)"
      ]
    },
    {
      "cell_type": "code",
      "execution_count": 16,
      "metadata": {
        "id": "OLKSuBKk0Fml"
      },
      "outputs": [],
      "source": [
        "def get_embedding(tokens):\n",
        "  '''\n",
        "  INPUT\n",
        "  tokens: a list of tokens\n",
        "  OUTPUT\n",
        "  average embedding: a vectorb represents average embedding of the input list of tokens\n",
        "  '''\n",
        "  embedding = 0\n",
        "  nom = len(tokens)\n",
        "  for token in tokens:\n",
        "    if token not in model:\n",
        "      nom -= 1\n",
        "    else:\n",
        "      embedding += model[token]\n",
        "  try:\n",
        "    return embedding/nom\n",
        "  except:\n",
        "    return 0"
      ]
    },
    {
      "cell_type": "code",
      "execution_count": 17,
      "metadata": {
        "colab": {
          "base_uri": "https://localhost:8080/"
        },
        "id": "D5u-is3V0FkD",
        "outputId": "24ef09d1-06dd-4398-be71-4e486f1fe64a"
      },
      "outputs": [
        {
          "output_type": "stream",
          "name": "stderr",
          "text": [
            "48723it [00:06, 6979.30it/s]\n"
          ]
        }
      ],
      "source": [
        "passage_embedding_dict = {}\n",
        "pid_list, ind_list = np.unique(np.asarray(final_train['pid']),return_index=True)\n",
        "for pid,ind in tqdm(zip(pid_list,ind_list)):\n",
        "  passage_embedding_dict[pid] = get_embedding(final_train.loc[ind,'passage_tokens']) \n",
        "final_train['passage_embedding'] = final_train['pid'].map(passage_embedding_dict)"
      ]
    },
    {
      "cell_type": "code",
      "execution_count": 18,
      "metadata": {
        "colab": {
          "base_uri": "https://localhost:8080/"
        },
        "id": "RTVTE4SS0RuG",
        "outputId": "bb84d024-47ca-4b46-9106-0d924e02151a"
      },
      "outputs": [
        {
          "output_type": "stream",
          "name": "stderr",
          "text": [
            "4590it [00:00, 26241.84it/s]\n"
          ]
        }
      ],
      "source": [
        "query_embedding_dict = {}\n",
        "qid_list, ind_list = np.unique(np.asarray(final_train['qid']),return_index=True)\n",
        "for qid,ind in tqdm(zip(qid_list,ind_list)):\n",
        "  query_embedding_dict[qid] = get_embedding(final_train.loc[ind,'query_tokens']) \n",
        "final_train['query_embedding'] = final_train['qid'].map(query_embedding_dict)"
      ]
    },
    {
      "cell_type": "code",
      "execution_count": 19,
      "metadata": {
        "colab": {
          "base_uri": "https://localhost:8080/"
        },
        "id": "Og_R7evoCxsF",
        "outputId": "a1c80bdf-6f02-443c-a415-768190d27d9b"
      },
      "outputs": [
        {
          "output_type": "stream",
          "name": "stderr",
          "text": [
            "955211it [02:11, 7271.50it/s]\n"
          ]
        }
      ],
      "source": [
        "passage_embedding_dict = {}\n",
        "pid_list, ind_list = np.unique(np.asarray(validation_data['pid']),return_index=True)\n",
        "for pid,ind in tqdm(zip(pid_list,ind_list)):\n",
        "  passage_embedding_dict[pid] = get_embedding(validation_data.loc[ind,'passage_tokens']) \n",
        "validation_data['passage_embedding'] = validation_data['pid'].map(passage_embedding_dict)"
      ]
    },
    {
      "cell_type": "code",
      "execution_count": 20,
      "metadata": {
        "colab": {
          "base_uri": "https://localhost:8080/"
        },
        "id": "IPjh0VanEN1T",
        "outputId": "b611a268-5cc2-41e0-e27d-aac6652fa675"
      },
      "outputs": [
        {
          "output_type": "stream",
          "name": "stderr",
          "text": [
            "1148it [00:00, 30260.94it/s]\n"
          ]
        }
      ],
      "source": [
        "query_embedding_dict = {}\n",
        "qid_list, ind_list = np.unique(np.asarray(validation_data['qid']),return_index=True)\n",
        "for qid,ind in tqdm(zip(qid_list,ind_list)):\n",
        "  query_embedding_dict[qid] = get_embedding(validation_data.loc[ind,'query_tokens']) \n",
        "validation_data['query_embedding'] = validation_data['qid'].map(query_embedding_dict)"
      ]
    },
    {
      "cell_type": "code",
      "execution_count": 21,
      "metadata": {
        "id": "H6IqWsumMsCu"
      },
      "outputs": [],
      "source": [
        "# validation_data['passage_embedding'] = np.empty((len(validation_data), 0)).tolist()\n",
        "# sum_em = 0\n",
        "# for i,tkn in enumerate(tqdm(validation_data['passage_tokens'])):\n",
        "#   for t in tkn:\n",
        "#     v = 0\n",
        "#     if t not in model:\n",
        "#       v+=1\n",
        "#       continue\n",
        "#     else:\n",
        "#       sum_em += model[t]\n",
        "#   validation_data['passage_embedding'][i] = [x/(len(tkn)-v) for x in sum_em]"
      ]
    },
    {
      "cell_type": "code",
      "execution_count": 22,
      "metadata": {
        "id": "S-owZ1L5AP3V"
      },
      "outputs": [],
      "source": [
        "# def pid_emb(pid):\n",
        "#   em=0\n",
        "#   sum_em = 0\n",
        "#   tkns = validation_data['passage_tokens'][pid]\n",
        "#   for tkn in tkns:\n",
        "#     v = 0\n",
        "#     if tkn not in model:\n",
        "#       v+=1\n",
        "#       continue\n",
        "#     else:\n",
        "#       sum_em += model[tkn]\n",
        "#     em = [x/(len(tkn)-v) for x in sum_em]\n",
        "#   return em\n",
        "\n",
        "# key_list = np.unique(validation_data['pid'])\n",
        "# passage_emb_dict = {}\n",
        "# for i,key in enumerate(tqdm(key_list)):\n",
        "#   passage_emb_dict[key] = pid_emb(key)"
      ]
    },
    {
      "cell_type": "code",
      "execution_count": 23,
      "metadata": {
        "id": "k2i_C4UZ6IYA"
      },
      "outputs": [],
      "source": [
        "# new_unique_qid = validation_data.drop_duplicates(subset=['qid'])"
      ]
    },
    {
      "cell_type": "code",
      "execution_count": 24,
      "metadata": {
        "id": "N70XfF-K7PCt"
      },
      "outputs": [],
      "source": [
        "# new_unique_qid = new_unique_qid.set_index('qid')"
      ]
    },
    {
      "cell_type": "code",
      "execution_count": 25,
      "metadata": {
        "id": "7LYZD07X5oO2"
      },
      "outputs": [],
      "source": [
        "# def qid_emb(qid):\n",
        "#   em=0\n",
        "#   sum_em = 0\n",
        "#   tkns = validation_data['query_tokens'][qid]\n",
        "#   for tkn in tkns:\n",
        "#     v = 0\n",
        "#     if tkn not in model:\n",
        "#       v+=1\n",
        "#       continue\n",
        "#     else:\n",
        "#       sum_em += model[tkn]\n",
        "#     em = [x/(len(tkn)-v) for x in sum_em]\n",
        "#   return em"
      ]
    },
    {
      "cell_type": "code",
      "execution_count": 26,
      "metadata": {
        "id": "mVoAsr0F4Wu6"
      },
      "outputs": [],
      "source": [
        "# key_list = np.unique(validation_data['qid'])\n",
        "# query_emb_dict = {}\n",
        "# for i,key in enumerate(tqdm(key_list)):\n",
        "#   query_emb_dict[key] = qid_emb(key)"
      ]
    },
    {
      "cell_type": "code",
      "execution_count": 27,
      "metadata": {
        "id": "XWzUpEkP80Qu"
      },
      "outputs": [],
      "source": [
        "# validation_data['query_embedding'] = validation_data['qid'].map(query_emb_dict)"
      ]
    },
    {
      "cell_type": "code",
      "execution_count": 28,
      "metadata": {
        "id": "gi16Y75tEWeL"
      },
      "outputs": [],
      "source": [
        "def cosine_similarity(data):\n",
        "  temp = []\n",
        "  for i in tqdm(range(len(data))):\n",
        "    denom = np.dot(data.loc[i,'query_embedding'],data.loc[i,'passage_embedding'])\n",
        "    nom = np.sqrt(np.square(data.loc[i,'query_embedding']).sum())*np.sqrt(np.square(data.loc[i,'passage_embedding']).sum())\n",
        "    if nom == 0:\n",
        "      temp.append(0)\n",
        "    else:\n",
        "      temp.append(denom/nom)\n",
        "  data['cosine_similarity'] = temp\n",
        "  return data"
      ]
    },
    {
      "cell_type": "code",
      "execution_count": 29,
      "metadata": {
        "colab": {
          "base_uri": "https://localhost:8080/",
          "height": 1000
        },
        "id": "O5GG1vQxEZMs",
        "outputId": "2fe1293b-96b7-49cc-d345-710b35d5154e"
      },
      "outputs": [
        {
          "output_type": "stream",
          "name": "stderr",
          "text": [
            "100%|██████████| 1103039/1103039 [02:18<00:00, 7948.42it/s]\n"
          ]
        },
        {
          "output_type": "execute_result",
          "data": {
            "text/plain": [
              "             qid      pid                                            queries  \\\n",
              "0        1082792  1000084  what does the golgi apparatus do to the protei...   \n",
              "1         995825  1000492       where is the graphic card located in the cpu   \n",
              "2         995825  1000494       where is the graphic card located in the cpu   \n",
              "3        1091246  1000522                          property premises meaning   \n",
              "4        1047854  1000585                         what is printing mechanism   \n",
              "...          ...      ...                                                ...   \n",
              "1103034   176994   999706                       dynamic link library meaning   \n",
              "1103035  1089177   999765            united home life insurance phone number   \n",
              "1103036    42555   999824  average salary for primary care sports medicin...   \n",
              "1103037  1044249   999824        what is the average salary of an nba player   \n",
              "1103038    36388   999956                     average family savings account   \n",
              "\n",
              "                                                   passage  relevancy  \\\n",
              "0        Start studying Bonding, Carbs, Proteins, Lipid...        0.0   \n",
              "1        For example, a “PC Expansion Card” maybe the j...        0.0   \n",
              "2        The Common Cards & Buses. The most common type...        0.0   \n",
              "3        The occurrence of since tells us that the firs...        0.0   \n",
              "4        Windows desktop applications Develop Desktop t...        0.0   \n",
              "...                                                    ...        ...   \n",
              "1103034  Internet Public Library – The Internet Public ...        0.0   \n",
              "1103035  Geico Customer Service Phone Number: 1-800-861...        0.0   \n",
              "1103036  The current average NBA salary of $6.2 million...        0.0   \n",
              "1103037  The current average NBA salary of $6.2 million...        0.0   \n",
              "1103038  When it comes to average retirement savings st...        0.0   \n",
              "\n",
              "                                            passage_tokens  \\\n",
              "0        [start, studying, bonding, carbs, proteins, li...   \n",
              "1        [example, pc, expansion, card, maybe, jargon, ...   \n",
              "2        [common, cards, buses, common, types, expansio...   \n",
              "3        [occurrence, since, tells, us, first, statemen...   \n",
              "4        [windows, desktop, applications, develop, desk...   \n",
              "...                                                    ...   \n",
              "1103034  [internet, public, library, internet, public, ...   \n",
              "1103035  [geico, customer, service, phone, number, call...   \n",
              "1103036  [current, average, nba, salary, million, seaso...   \n",
              "1103037  [current, average, nba, salary, million, seaso...   \n",
              "1103038  [comes, average, retirement, savings, statisti...   \n",
              "\n",
              "                                              query_tokens  \\\n",
              "0             [golgi, apparatus, proteins, lipids, arrive]   \n",
              "1                            [graphic, card, located, cpu]   \n",
              "2                            [graphic, card, located, cpu]   \n",
              "3                            [property, premises, meaning]   \n",
              "4                                    [printing, mechanism]   \n",
              "...                                                    ...   \n",
              "1103034                  [dynamic, link, library, meaning]   \n",
              "1103035     [united, home, life, insurance, phone, number]   \n",
              "1103036  [average, salary, primary, care, sports, medic...   \n",
              "1103037                     [average, salary, nba, player]   \n",
              "1103038                [average, family, savings, account]   \n",
              "\n",
              "                                         passage_embedding  \\\n",
              "0        [0.2690694, 0.07032246, -0.22095296, -0.134478...   \n",
              "1        [0.118339844, 0.1926797, 0.47564104, 0.2192803...   \n",
              "2        [0.020571431, 0.11528355, 0.52425003, 0.421483...   \n",
              "3        [0.24477586, 0.12094858, -0.1262933, -0.035436...   \n",
              "4        [0.21993366, -0.27575365, 0.6672145, 0.2243792...   \n",
              "...                                                    ...   \n",
              "1103034  [0.14674158, 0.34966046, 0.017511245, 0.040230...   \n",
              "1103035  [0.45963958, 0.10225543, 0.6842066, 0.4092991,...   \n",
              "1103036  [-0.47118738, 0.523908, 0.34010562, 0.17925736...   \n",
              "1103037  [-0.47118738, 0.523908, 0.34010562, 0.17925736...   \n",
              "1103038  [0.08344238, 0.16574487, 0.26271373, -0.508922...   \n",
              "\n",
              "                                           query_embedding  cosine_similarity  \n",
              "0        [0.832084, -0.16500281, 0.050816, 0.16417, 0.4...           0.617340  \n",
              "1        [-0.017310008, 0.32846758, 0.68064654, 0.68913...           0.831845  \n",
              "2        [-0.017310008, 0.32846758, 0.68064654, 0.68913...           0.847569  \n",
              "3        [0.5320867, 0.13899668, -0.18879335, -0.206136...           0.751343  \n",
              "4        [0.17438498, -0.67538, -0.050255, -0.1327915, ...           0.813332  \n",
              "...                                                    ...                ...  \n",
              "1103034  [0.3431825, 0.6234838, 0.048773758, 0.18839249...           0.858977  \n",
              "1103035  [0.28253, 0.2855925, 0.43787614, 0.13951649, 0...           0.894578  \n",
              "1103036  [-0.16498211, 0.5072343, 0.055729706, -0.42456...           0.851662  \n",
              "1103037  [-1.3559026, 0.6446125, 0.39901552, 0.1891925,...           0.905307  \n",
              "1103038  [0.448425, 0.4820625, 0.5640725, -0.3458625, 0...           0.853491  \n",
              "\n",
              "[1103039 rows x 10 columns]"
            ],
            "text/html": [
              "\n",
              "  <div id=\"df-2a25ac5e-e05f-4165-b572-c4dafac0045b\">\n",
              "    <div class=\"colab-df-container\">\n",
              "      <div>\n",
              "<style scoped>\n",
              "    .dataframe tbody tr th:only-of-type {\n",
              "        vertical-align: middle;\n",
              "    }\n",
              "\n",
              "    .dataframe tbody tr th {\n",
              "        vertical-align: top;\n",
              "    }\n",
              "\n",
              "    .dataframe thead th {\n",
              "        text-align: right;\n",
              "    }\n",
              "</style>\n",
              "<table border=\"1\" class=\"dataframe\">\n",
              "  <thead>\n",
              "    <tr style=\"text-align: right;\">\n",
              "      <th></th>\n",
              "      <th>qid</th>\n",
              "      <th>pid</th>\n",
              "      <th>queries</th>\n",
              "      <th>passage</th>\n",
              "      <th>relevancy</th>\n",
              "      <th>passage_tokens</th>\n",
              "      <th>query_tokens</th>\n",
              "      <th>passage_embedding</th>\n",
              "      <th>query_embedding</th>\n",
              "      <th>cosine_similarity</th>\n",
              "    </tr>\n",
              "  </thead>\n",
              "  <tbody>\n",
              "    <tr>\n",
              "      <th>0</th>\n",
              "      <td>1082792</td>\n",
              "      <td>1000084</td>\n",
              "      <td>what does the golgi apparatus do to the protei...</td>\n",
              "      <td>Start studying Bonding, Carbs, Proteins, Lipid...</td>\n",
              "      <td>0.0</td>\n",
              "      <td>[start, studying, bonding, carbs, proteins, li...</td>\n",
              "      <td>[golgi, apparatus, proteins, lipids, arrive]</td>\n",
              "      <td>[0.2690694, 0.07032246, -0.22095296, -0.134478...</td>\n",
              "      <td>[0.832084, -0.16500281, 0.050816, 0.16417, 0.4...</td>\n",
              "      <td>0.617340</td>\n",
              "    </tr>\n",
              "    <tr>\n",
              "      <th>1</th>\n",
              "      <td>995825</td>\n",
              "      <td>1000492</td>\n",
              "      <td>where is the graphic card located in the cpu</td>\n",
              "      <td>For example, a “PC Expansion Card” maybe the j...</td>\n",
              "      <td>0.0</td>\n",
              "      <td>[example, pc, expansion, card, maybe, jargon, ...</td>\n",
              "      <td>[graphic, card, located, cpu]</td>\n",
              "      <td>[0.118339844, 0.1926797, 0.47564104, 0.2192803...</td>\n",
              "      <td>[-0.017310008, 0.32846758, 0.68064654, 0.68913...</td>\n",
              "      <td>0.831845</td>\n",
              "    </tr>\n",
              "    <tr>\n",
              "      <th>2</th>\n",
              "      <td>995825</td>\n",
              "      <td>1000494</td>\n",
              "      <td>where is the graphic card located in the cpu</td>\n",
              "      <td>The Common Cards &amp; Buses. The most common type...</td>\n",
              "      <td>0.0</td>\n",
              "      <td>[common, cards, buses, common, types, expansio...</td>\n",
              "      <td>[graphic, card, located, cpu]</td>\n",
              "      <td>[0.020571431, 0.11528355, 0.52425003, 0.421483...</td>\n",
              "      <td>[-0.017310008, 0.32846758, 0.68064654, 0.68913...</td>\n",
              "      <td>0.847569</td>\n",
              "    </tr>\n",
              "    <tr>\n",
              "      <th>3</th>\n",
              "      <td>1091246</td>\n",
              "      <td>1000522</td>\n",
              "      <td>property premises meaning</td>\n",
              "      <td>The occurrence of since tells us that the firs...</td>\n",
              "      <td>0.0</td>\n",
              "      <td>[occurrence, since, tells, us, first, statemen...</td>\n",
              "      <td>[property, premises, meaning]</td>\n",
              "      <td>[0.24477586, 0.12094858, -0.1262933, -0.035436...</td>\n",
              "      <td>[0.5320867, 0.13899668, -0.18879335, -0.206136...</td>\n",
              "      <td>0.751343</td>\n",
              "    </tr>\n",
              "    <tr>\n",
              "      <th>4</th>\n",
              "      <td>1047854</td>\n",
              "      <td>1000585</td>\n",
              "      <td>what is printing mechanism</td>\n",
              "      <td>Windows desktop applications Develop Desktop t...</td>\n",
              "      <td>0.0</td>\n",
              "      <td>[windows, desktop, applications, develop, desk...</td>\n",
              "      <td>[printing, mechanism]</td>\n",
              "      <td>[0.21993366, -0.27575365, 0.6672145, 0.2243792...</td>\n",
              "      <td>[0.17438498, -0.67538, -0.050255, -0.1327915, ...</td>\n",
              "      <td>0.813332</td>\n",
              "    </tr>\n",
              "    <tr>\n",
              "      <th>...</th>\n",
              "      <td>...</td>\n",
              "      <td>...</td>\n",
              "      <td>...</td>\n",
              "      <td>...</td>\n",
              "      <td>...</td>\n",
              "      <td>...</td>\n",
              "      <td>...</td>\n",
              "      <td>...</td>\n",
              "      <td>...</td>\n",
              "      <td>...</td>\n",
              "    </tr>\n",
              "    <tr>\n",
              "      <th>1103034</th>\n",
              "      <td>176994</td>\n",
              "      <td>999706</td>\n",
              "      <td>dynamic link library meaning</td>\n",
              "      <td>Internet Public Library – The Internet Public ...</td>\n",
              "      <td>0.0</td>\n",
              "      <td>[internet, public, library, internet, public, ...</td>\n",
              "      <td>[dynamic, link, library, meaning]</td>\n",
              "      <td>[0.14674158, 0.34966046, 0.017511245, 0.040230...</td>\n",
              "      <td>[0.3431825, 0.6234838, 0.048773758, 0.18839249...</td>\n",
              "      <td>0.858977</td>\n",
              "    </tr>\n",
              "    <tr>\n",
              "      <th>1103035</th>\n",
              "      <td>1089177</td>\n",
              "      <td>999765</td>\n",
              "      <td>united home life insurance phone number</td>\n",
              "      <td>Geico Customer Service Phone Number: 1-800-861...</td>\n",
              "      <td>0.0</td>\n",
              "      <td>[geico, customer, service, phone, number, call...</td>\n",
              "      <td>[united, home, life, insurance, phone, number]</td>\n",
              "      <td>[0.45963958, 0.10225543, 0.6842066, 0.4092991,...</td>\n",
              "      <td>[0.28253, 0.2855925, 0.43787614, 0.13951649, 0...</td>\n",
              "      <td>0.894578</td>\n",
              "    </tr>\n",
              "    <tr>\n",
              "      <th>1103036</th>\n",
              "      <td>42555</td>\n",
              "      <td>999824</td>\n",
              "      <td>average salary for primary care sports medicin...</td>\n",
              "      <td>The current average NBA salary of $6.2 million...</td>\n",
              "      <td>0.0</td>\n",
              "      <td>[current, average, nba, salary, million, seaso...</td>\n",
              "      <td>[average, salary, primary, care, sports, medic...</td>\n",
              "      <td>[-0.47118738, 0.523908, 0.34010562, 0.17925736...</td>\n",
              "      <td>[-0.16498211, 0.5072343, 0.055729706, -0.42456...</td>\n",
              "      <td>0.851662</td>\n",
              "    </tr>\n",
              "    <tr>\n",
              "      <th>1103037</th>\n",
              "      <td>1044249</td>\n",
              "      <td>999824</td>\n",
              "      <td>what is the average salary of an nba player</td>\n",
              "      <td>The current average NBA salary of $6.2 million...</td>\n",
              "      <td>0.0</td>\n",
              "      <td>[current, average, nba, salary, million, seaso...</td>\n",
              "      <td>[average, salary, nba, player]</td>\n",
              "      <td>[-0.47118738, 0.523908, 0.34010562, 0.17925736...</td>\n",
              "      <td>[-1.3559026, 0.6446125, 0.39901552, 0.1891925,...</td>\n",
              "      <td>0.905307</td>\n",
              "    </tr>\n",
              "    <tr>\n",
              "      <th>1103038</th>\n",
              "      <td>36388</td>\n",
              "      <td>999956</td>\n",
              "      <td>average family savings account</td>\n",
              "      <td>When it comes to average retirement savings st...</td>\n",
              "      <td>0.0</td>\n",
              "      <td>[comes, average, retirement, savings, statisti...</td>\n",
              "      <td>[average, family, savings, account]</td>\n",
              "      <td>[0.08344238, 0.16574487, 0.26271373, -0.508922...</td>\n",
              "      <td>[0.448425, 0.4820625, 0.5640725, -0.3458625, 0...</td>\n",
              "      <td>0.853491</td>\n",
              "    </tr>\n",
              "  </tbody>\n",
              "</table>\n",
              "<p>1103039 rows × 10 columns</p>\n",
              "</div>\n",
              "      <button class=\"colab-df-convert\" onclick=\"convertToInteractive('df-2a25ac5e-e05f-4165-b572-c4dafac0045b')\"\n",
              "              title=\"Convert this dataframe to an interactive table.\"\n",
              "              style=\"display:none;\">\n",
              "        \n",
              "  <svg xmlns=\"http://www.w3.org/2000/svg\" height=\"24px\"viewBox=\"0 0 24 24\"\n",
              "       width=\"24px\">\n",
              "    <path d=\"M0 0h24v24H0V0z\" fill=\"none\"/>\n",
              "    <path d=\"M18.56 5.44l.94 2.06.94-2.06 2.06-.94-2.06-.94-.94-2.06-.94 2.06-2.06.94zm-11 1L8.5 8.5l.94-2.06 2.06-.94-2.06-.94L8.5 2.5l-.94 2.06-2.06.94zm10 10l.94 2.06.94-2.06 2.06-.94-2.06-.94-.94-2.06-.94 2.06-2.06.94z\"/><path d=\"M17.41 7.96l-1.37-1.37c-.4-.4-.92-.59-1.43-.59-.52 0-1.04.2-1.43.59L10.3 9.45l-7.72 7.72c-.78.78-.78 2.05 0 2.83L4 21.41c.39.39.9.59 1.41.59.51 0 1.02-.2 1.41-.59l7.78-7.78 2.81-2.81c.8-.78.8-2.07 0-2.86zM5.41 20L4 18.59l7.72-7.72 1.47 1.35L5.41 20z\"/>\n",
              "  </svg>\n",
              "      </button>\n",
              "      \n",
              "  <style>\n",
              "    .colab-df-container {\n",
              "      display:flex;\n",
              "      flex-wrap:wrap;\n",
              "      gap: 12px;\n",
              "    }\n",
              "\n",
              "    .colab-df-convert {\n",
              "      background-color: #E8F0FE;\n",
              "      border: none;\n",
              "      border-radius: 50%;\n",
              "      cursor: pointer;\n",
              "      display: none;\n",
              "      fill: #1967D2;\n",
              "      height: 32px;\n",
              "      padding: 0 0 0 0;\n",
              "      width: 32px;\n",
              "    }\n",
              "\n",
              "    .colab-df-convert:hover {\n",
              "      background-color: #E2EBFA;\n",
              "      box-shadow: 0px 1px 2px rgba(60, 64, 67, 0.3), 0px 1px 3px 1px rgba(60, 64, 67, 0.15);\n",
              "      fill: #174EA6;\n",
              "    }\n",
              "\n",
              "    [theme=dark] .colab-df-convert {\n",
              "      background-color: #3B4455;\n",
              "      fill: #D2E3FC;\n",
              "    }\n",
              "\n",
              "    [theme=dark] .colab-df-convert:hover {\n",
              "      background-color: #434B5C;\n",
              "      box-shadow: 0px 1px 3px 1px rgba(0, 0, 0, 0.15);\n",
              "      filter: drop-shadow(0px 1px 2px rgba(0, 0, 0, 0.3));\n",
              "      fill: #FFFFFF;\n",
              "    }\n",
              "  </style>\n",
              "\n",
              "      <script>\n",
              "        const buttonEl =\n",
              "          document.querySelector('#df-2a25ac5e-e05f-4165-b572-c4dafac0045b button.colab-df-convert');\n",
              "        buttonEl.style.display =\n",
              "          google.colab.kernel.accessAllowed ? 'block' : 'none';\n",
              "\n",
              "        async function convertToInteractive(key) {\n",
              "          const element = document.querySelector('#df-2a25ac5e-e05f-4165-b572-c4dafac0045b');\n",
              "          const dataTable =\n",
              "            await google.colab.kernel.invokeFunction('convertToInteractive',\n",
              "                                                     [key], {});\n",
              "          if (!dataTable) return;\n",
              "\n",
              "          const docLinkHtml = 'Like what you see? Visit the ' +\n",
              "            '<a target=\"_blank\" href=https://colab.research.google.com/notebooks/data_table.ipynb>data table notebook</a>'\n",
              "            + ' to learn more about interactive tables.';\n",
              "          element.innerHTML = '';\n",
              "          dataTable['output_type'] = 'display_data';\n",
              "          await google.colab.output.renderOutput(dataTable, element);\n",
              "          const docLink = document.createElement('div');\n",
              "          docLink.innerHTML = docLinkHtml;\n",
              "          element.appendChild(docLink);\n",
              "        }\n",
              "      </script>\n",
              "    </div>\n",
              "  </div>\n",
              "  "
            ]
          },
          "metadata": {},
          "execution_count": 29
        }
      ],
      "source": [
        "cosine_similarity(validation_data)"
      ]
    },
    {
      "cell_type": "code",
      "execution_count": 30,
      "metadata": {
        "id": "4qEAoAIQp9KB",
        "colab": {
          "base_uri": "https://localhost:8080/"
        },
        "outputId": "4d2f5730-6260-43ed-8973-f04da6f55057"
      },
      "outputs": [
        {
          "output_type": "execute_result",
          "data": {
            "text/plain": [
              "qid                  0\n",
              "pid                  0\n",
              "queries              0\n",
              "passage              0\n",
              "relevancy            0\n",
              "passage_tokens       0\n",
              "query_tokens         0\n",
              "passage_embedding    0\n",
              "query_embedding      0\n",
              "cosine_similarity    0\n",
              "dtype: int64"
            ]
          },
          "metadata": {},
          "execution_count": 30
        }
      ],
      "source": [
        "validation_data.isnull().sum()"
      ]
    },
    {
      "cell_type": "code",
      "execution_count": 31,
      "metadata": {
        "id": "aXFxrH0h3Nf4",
        "colab": {
          "base_uri": "https://localhost:8080/",
          "height": 1000
        },
        "outputId": "a50a9fe6-0d04-4af5-ab28-3a9eb550e9e5"
      },
      "outputs": [
        {
          "output_type": "stream",
          "name": "stderr",
          "text": [
            "100%|██████████| 50341/50341 [00:04<00:00, 10448.85it/s]\n"
          ]
        },
        {
          "output_type": "execute_result",
          "data": {
            "text/plain": [
              "           qid      pid                    queries  \\\n",
              "0            2  4339068   Androgen receptor define   \n",
              "1            2  7279219   Androgen receptor define   \n",
              "2            2  6229171   Androgen receptor define   \n",
              "3            2  2946560   Androgen receptor define   \n",
              "4            2  4803916   Androgen receptor define   \n",
              "...        ...      ...                        ...   \n",
              "50336  1102400  4236937     why do bears hibernate   \n",
              "50337  1102400  5703282     why do bears hibernate   \n",
              "50338  1102400  3762253     why do bears hibernate   \n",
              "50339  1102400   239157     why do bears hibernate   \n",
              "50340  1102400  5506736     why do bears hibernate   \n",
              "\n",
              "                                                 passage  relevancy  \\\n",
              "0      The androgen receptor (AR), also known as NR3C...        1.0   \n",
              "1      : ligand binding to a G protein-coupled recept...        0.0   \n",
              "2      When insulin binds to the receptor on the cell...        0.0   \n",
              "3      1. exteroceptor-any receptor that responds to ...        0.0   \n",
              "4      a device that measures the quantity of radiati...        0.0   \n",
              "...                                                  ...        ...   \n",
              "50336  although pikas live in colonies they are very ...        0.0   \n",
              "50337  Systemd based method to suspend or hibernate y...        0.0   \n",
              "50338  A symbol of the Arctic, polar bears are the wo...        0.0   \n",
              "50339  Grizzly bears, like black bears, eat a lot of ...        0.0   \n",
              "50340  The Bears lead the way with 14 numbers retired...        0.0   \n",
              "\n",
              "                                          passage_tokens  \\\n",
              "0      [androgen, receptor, ar, also, known, nuclear,...   \n",
              "1      [ligand, binding, g, protein, coupled, recepto...   \n",
              "2      [insulin, binds, receptor, cell, surface, rece...   \n",
              "3      [exteroceptor, receptor, responds, stimuli, ou...   \n",
              "4      [device, measures, quantity, radiation, reache...   \n",
              "...                                                  ...   \n",
              "50336  [although, pikas, live, colonies, territorial,...   \n",
              "50337  [systemd, based, method, suspend, hibernate, l...   \n",
              "50338  [symbol, arctic, polar, bears, world, largest,...   \n",
              "50339  [grizzly, bears, like, black, bears, eat, lot,...   \n",
              "50340  [bears, lead, way, numbers, retired, cowboys, ...   \n",
              "\n",
              "                       query_tokens  \\\n",
              "0      [androgen, receptor, define]   \n",
              "1      [androgen, receptor, define]   \n",
              "2      [androgen, receptor, define]   \n",
              "3      [androgen, receptor, define]   \n",
              "4      [androgen, receptor, define]   \n",
              "...                             ...   \n",
              "50336            [bears, hibernate]   \n",
              "50337            [bears, hibernate]   \n",
              "50338            [bears, hibernate]   \n",
              "50339            [bears, hibernate]   \n",
              "50340            [bears, hibernate]   \n",
              "\n",
              "                                       passage_embedding  \\\n",
              "0      [0.49091795, 0.29157883, 0.11163568, 0.1308564...   \n",
              "1      [0.70091456, 0.38167945, 0.17395169, 0.4451514...   \n",
              "2      [0.8574829, 0.10805729, 0.43395844, 0.2213999,...   \n",
              "3      [0.7432729, 0.17395918, -0.2440114, -0.0124907...   \n",
              "4      [0.484962, 0.23540024, 0.50870895, -0.0826678,...   \n",
              "...                                                  ...   \n",
              "50336  [0.21388185, 0.02184949, -0.23158751, -0.12833...   \n",
              "50337  [0.29989046, -0.2653506, 0.249474, 0.13818963,...   \n",
              "50338  [0.15273103, 0.44464138, -0.051849578, 0.00197...   \n",
              "50339  [0.111869894, 0.037523024, -0.355963, -0.26498...   \n",
              "50340  [-0.6203209, -0.057254113, 0.26998726, 0.02806...   \n",
              "\n",
              "                                         query_embedding  cosine_similarity  \n",
              "0      [0.65137, 0.6691633, -0.05296333, 0.198797, 0....           0.874866  \n",
              "1      [0.65137, 0.6691633, -0.05296333, 0.198797, 0....           0.804005  \n",
              "2      [0.65137, 0.6691633, -0.05296333, 0.198797, 0....           0.752639  \n",
              "3      [0.65137, 0.6691633, -0.05296333, 0.198797, 0....           0.660131  \n",
              "4      [0.65137, 0.6691633, -0.05296333, 0.198797, 0....           0.642420  \n",
              "...                                                  ...                ...  \n",
              "50336  [0.015780002, 0.16692501, -0.128705, -0.283115...           0.521109  \n",
              "50337  [0.015780002, 0.16692501, -0.128705, -0.283115...           0.422469  \n",
              "50338  [0.015780002, 0.16692501, -0.128705, -0.283115...           0.472612  \n",
              "50339  [0.015780002, 0.16692501, -0.128705, -0.283115...           0.644838  \n",
              "50340  [0.015780002, 0.16692501, -0.128705, -0.283115...           0.626504  \n",
              "\n",
              "[50341 rows x 10 columns]"
            ],
            "text/html": [
              "\n",
              "  <div id=\"df-a2a73501-83e0-4730-939f-17584eda3d20\">\n",
              "    <div class=\"colab-df-container\">\n",
              "      <div>\n",
              "<style scoped>\n",
              "    .dataframe tbody tr th:only-of-type {\n",
              "        vertical-align: middle;\n",
              "    }\n",
              "\n",
              "    .dataframe tbody tr th {\n",
              "        vertical-align: top;\n",
              "    }\n",
              "\n",
              "    .dataframe thead th {\n",
              "        text-align: right;\n",
              "    }\n",
              "</style>\n",
              "<table border=\"1\" class=\"dataframe\">\n",
              "  <thead>\n",
              "    <tr style=\"text-align: right;\">\n",
              "      <th></th>\n",
              "      <th>qid</th>\n",
              "      <th>pid</th>\n",
              "      <th>queries</th>\n",
              "      <th>passage</th>\n",
              "      <th>relevancy</th>\n",
              "      <th>passage_tokens</th>\n",
              "      <th>query_tokens</th>\n",
              "      <th>passage_embedding</th>\n",
              "      <th>query_embedding</th>\n",
              "      <th>cosine_similarity</th>\n",
              "    </tr>\n",
              "  </thead>\n",
              "  <tbody>\n",
              "    <tr>\n",
              "      <th>0</th>\n",
              "      <td>2</td>\n",
              "      <td>4339068</td>\n",
              "      <td>Androgen receptor define</td>\n",
              "      <td>The androgen receptor (AR), also known as NR3C...</td>\n",
              "      <td>1.0</td>\n",
              "      <td>[androgen, receptor, ar, also, known, nuclear,...</td>\n",
              "      <td>[androgen, receptor, define]</td>\n",
              "      <td>[0.49091795, 0.29157883, 0.11163568, 0.1308564...</td>\n",
              "      <td>[0.65137, 0.6691633, -0.05296333, 0.198797, 0....</td>\n",
              "      <td>0.874866</td>\n",
              "    </tr>\n",
              "    <tr>\n",
              "      <th>1</th>\n",
              "      <td>2</td>\n",
              "      <td>7279219</td>\n",
              "      <td>Androgen receptor define</td>\n",
              "      <td>: ligand binding to a G protein-coupled recept...</td>\n",
              "      <td>0.0</td>\n",
              "      <td>[ligand, binding, g, protein, coupled, recepto...</td>\n",
              "      <td>[androgen, receptor, define]</td>\n",
              "      <td>[0.70091456, 0.38167945, 0.17395169, 0.4451514...</td>\n",
              "      <td>[0.65137, 0.6691633, -0.05296333, 0.198797, 0....</td>\n",
              "      <td>0.804005</td>\n",
              "    </tr>\n",
              "    <tr>\n",
              "      <th>2</th>\n",
              "      <td>2</td>\n",
              "      <td>6229171</td>\n",
              "      <td>Androgen receptor define</td>\n",
              "      <td>When insulin binds to the receptor on the cell...</td>\n",
              "      <td>0.0</td>\n",
              "      <td>[insulin, binds, receptor, cell, surface, rece...</td>\n",
              "      <td>[androgen, receptor, define]</td>\n",
              "      <td>[0.8574829, 0.10805729, 0.43395844, 0.2213999,...</td>\n",
              "      <td>[0.65137, 0.6691633, -0.05296333, 0.198797, 0....</td>\n",
              "      <td>0.752639</td>\n",
              "    </tr>\n",
              "    <tr>\n",
              "      <th>3</th>\n",
              "      <td>2</td>\n",
              "      <td>2946560</td>\n",
              "      <td>Androgen receptor define</td>\n",
              "      <td>1. exteroceptor-any receptor that responds to ...</td>\n",
              "      <td>0.0</td>\n",
              "      <td>[exteroceptor, receptor, responds, stimuli, ou...</td>\n",
              "      <td>[androgen, receptor, define]</td>\n",
              "      <td>[0.7432729, 0.17395918, -0.2440114, -0.0124907...</td>\n",
              "      <td>[0.65137, 0.6691633, -0.05296333, 0.198797, 0....</td>\n",
              "      <td>0.660131</td>\n",
              "    </tr>\n",
              "    <tr>\n",
              "      <th>4</th>\n",
              "      <td>2</td>\n",
              "      <td>4803916</td>\n",
              "      <td>Androgen receptor define</td>\n",
              "      <td>a device that measures the quantity of radiati...</td>\n",
              "      <td>0.0</td>\n",
              "      <td>[device, measures, quantity, radiation, reache...</td>\n",
              "      <td>[androgen, receptor, define]</td>\n",
              "      <td>[0.484962, 0.23540024, 0.50870895, -0.0826678,...</td>\n",
              "      <td>[0.65137, 0.6691633, -0.05296333, 0.198797, 0....</td>\n",
              "      <td>0.642420</td>\n",
              "    </tr>\n",
              "    <tr>\n",
              "      <th>...</th>\n",
              "      <td>...</td>\n",
              "      <td>...</td>\n",
              "      <td>...</td>\n",
              "      <td>...</td>\n",
              "      <td>...</td>\n",
              "      <td>...</td>\n",
              "      <td>...</td>\n",
              "      <td>...</td>\n",
              "      <td>...</td>\n",
              "      <td>...</td>\n",
              "    </tr>\n",
              "    <tr>\n",
              "      <th>50336</th>\n",
              "      <td>1102400</td>\n",
              "      <td>4236937</td>\n",
              "      <td>why do bears hibernate</td>\n",
              "      <td>although pikas live in colonies they are very ...</td>\n",
              "      <td>0.0</td>\n",
              "      <td>[although, pikas, live, colonies, territorial,...</td>\n",
              "      <td>[bears, hibernate]</td>\n",
              "      <td>[0.21388185, 0.02184949, -0.23158751, -0.12833...</td>\n",
              "      <td>[0.015780002, 0.16692501, -0.128705, -0.283115...</td>\n",
              "      <td>0.521109</td>\n",
              "    </tr>\n",
              "    <tr>\n",
              "      <th>50337</th>\n",
              "      <td>1102400</td>\n",
              "      <td>5703282</td>\n",
              "      <td>why do bears hibernate</td>\n",
              "      <td>Systemd based method to suspend or hibernate y...</td>\n",
              "      <td>0.0</td>\n",
              "      <td>[systemd, based, method, suspend, hibernate, l...</td>\n",
              "      <td>[bears, hibernate]</td>\n",
              "      <td>[0.29989046, -0.2653506, 0.249474, 0.13818963,...</td>\n",
              "      <td>[0.015780002, 0.16692501, -0.128705, -0.283115...</td>\n",
              "      <td>0.422469</td>\n",
              "    </tr>\n",
              "    <tr>\n",
              "      <th>50338</th>\n",
              "      <td>1102400</td>\n",
              "      <td>3762253</td>\n",
              "      <td>why do bears hibernate</td>\n",
              "      <td>A symbol of the Arctic, polar bears are the wo...</td>\n",
              "      <td>0.0</td>\n",
              "      <td>[symbol, arctic, polar, bears, world, largest,...</td>\n",
              "      <td>[bears, hibernate]</td>\n",
              "      <td>[0.15273103, 0.44464138, -0.051849578, 0.00197...</td>\n",
              "      <td>[0.015780002, 0.16692501, -0.128705, -0.283115...</td>\n",
              "      <td>0.472612</td>\n",
              "    </tr>\n",
              "    <tr>\n",
              "      <th>50339</th>\n",
              "      <td>1102400</td>\n",
              "      <td>239157</td>\n",
              "      <td>why do bears hibernate</td>\n",
              "      <td>Grizzly bears, like black bears, eat a lot of ...</td>\n",
              "      <td>0.0</td>\n",
              "      <td>[grizzly, bears, like, black, bears, eat, lot,...</td>\n",
              "      <td>[bears, hibernate]</td>\n",
              "      <td>[0.111869894, 0.037523024, -0.355963, -0.26498...</td>\n",
              "      <td>[0.015780002, 0.16692501, -0.128705, -0.283115...</td>\n",
              "      <td>0.644838</td>\n",
              "    </tr>\n",
              "    <tr>\n",
              "      <th>50340</th>\n",
              "      <td>1102400</td>\n",
              "      <td>5506736</td>\n",
              "      <td>why do bears hibernate</td>\n",
              "      <td>The Bears lead the way with 14 numbers retired...</td>\n",
              "      <td>0.0</td>\n",
              "      <td>[bears, lead, way, numbers, retired, cowboys, ...</td>\n",
              "      <td>[bears, hibernate]</td>\n",
              "      <td>[-0.6203209, -0.057254113, 0.26998726, 0.02806...</td>\n",
              "      <td>[0.015780002, 0.16692501, -0.128705, -0.283115...</td>\n",
              "      <td>0.626504</td>\n",
              "    </tr>\n",
              "  </tbody>\n",
              "</table>\n",
              "<p>50341 rows × 10 columns</p>\n",
              "</div>\n",
              "      <button class=\"colab-df-convert\" onclick=\"convertToInteractive('df-a2a73501-83e0-4730-939f-17584eda3d20')\"\n",
              "              title=\"Convert this dataframe to an interactive table.\"\n",
              "              style=\"display:none;\">\n",
              "        \n",
              "  <svg xmlns=\"http://www.w3.org/2000/svg\" height=\"24px\"viewBox=\"0 0 24 24\"\n",
              "       width=\"24px\">\n",
              "    <path d=\"M0 0h24v24H0V0z\" fill=\"none\"/>\n",
              "    <path d=\"M18.56 5.44l.94 2.06.94-2.06 2.06-.94-2.06-.94-.94-2.06-.94 2.06-2.06.94zm-11 1L8.5 8.5l.94-2.06 2.06-.94-2.06-.94L8.5 2.5l-.94 2.06-2.06.94zm10 10l.94 2.06.94-2.06 2.06-.94-2.06-.94-.94-2.06-.94 2.06-2.06.94z\"/><path d=\"M17.41 7.96l-1.37-1.37c-.4-.4-.92-.59-1.43-.59-.52 0-1.04.2-1.43.59L10.3 9.45l-7.72 7.72c-.78.78-.78 2.05 0 2.83L4 21.41c.39.39.9.59 1.41.59.51 0 1.02-.2 1.41-.59l7.78-7.78 2.81-2.81c.8-.78.8-2.07 0-2.86zM5.41 20L4 18.59l7.72-7.72 1.47 1.35L5.41 20z\"/>\n",
              "  </svg>\n",
              "      </button>\n",
              "      \n",
              "  <style>\n",
              "    .colab-df-container {\n",
              "      display:flex;\n",
              "      flex-wrap:wrap;\n",
              "      gap: 12px;\n",
              "    }\n",
              "\n",
              "    .colab-df-convert {\n",
              "      background-color: #E8F0FE;\n",
              "      border: none;\n",
              "      border-radius: 50%;\n",
              "      cursor: pointer;\n",
              "      display: none;\n",
              "      fill: #1967D2;\n",
              "      height: 32px;\n",
              "      padding: 0 0 0 0;\n",
              "      width: 32px;\n",
              "    }\n",
              "\n",
              "    .colab-df-convert:hover {\n",
              "      background-color: #E2EBFA;\n",
              "      box-shadow: 0px 1px 2px rgba(60, 64, 67, 0.3), 0px 1px 3px 1px rgba(60, 64, 67, 0.15);\n",
              "      fill: #174EA6;\n",
              "    }\n",
              "\n",
              "    [theme=dark] .colab-df-convert {\n",
              "      background-color: #3B4455;\n",
              "      fill: #D2E3FC;\n",
              "    }\n",
              "\n",
              "    [theme=dark] .colab-df-convert:hover {\n",
              "      background-color: #434B5C;\n",
              "      box-shadow: 0px 1px 3px 1px rgba(0, 0, 0, 0.15);\n",
              "      filter: drop-shadow(0px 1px 2px rgba(0, 0, 0, 0.3));\n",
              "      fill: #FFFFFF;\n",
              "    }\n",
              "  </style>\n",
              "\n",
              "      <script>\n",
              "        const buttonEl =\n",
              "          document.querySelector('#df-a2a73501-83e0-4730-939f-17584eda3d20 button.colab-df-convert');\n",
              "        buttonEl.style.display =\n",
              "          google.colab.kernel.accessAllowed ? 'block' : 'none';\n",
              "\n",
              "        async function convertToInteractive(key) {\n",
              "          const element = document.querySelector('#df-a2a73501-83e0-4730-939f-17584eda3d20');\n",
              "          const dataTable =\n",
              "            await google.colab.kernel.invokeFunction('convertToInteractive',\n",
              "                                                     [key], {});\n",
              "          if (!dataTable) return;\n",
              "\n",
              "          const docLinkHtml = 'Like what you see? Visit the ' +\n",
              "            '<a target=\"_blank\" href=https://colab.research.google.com/notebooks/data_table.ipynb>data table notebook</a>'\n",
              "            + ' to learn more about interactive tables.';\n",
              "          element.innerHTML = '';\n",
              "          dataTable['output_type'] = 'display_data';\n",
              "          await google.colab.output.renderOutput(dataTable, element);\n",
              "          const docLink = document.createElement('div');\n",
              "          docLink.innerHTML = docLinkHtml;\n",
              "          element.appendChild(docLink);\n",
              "        }\n",
              "      </script>\n",
              "    </div>\n",
              "  </div>\n",
              "  "
            ]
          },
          "metadata": {},
          "execution_count": 31
        }
      ],
      "source": [
        "cosine_similarity(final_train)"
      ]
    },
    {
      "cell_type": "code",
      "execution_count": 32,
      "metadata": {
        "id": "OZU7ww_i3af5",
        "colab": {
          "base_uri": "https://localhost:8080/"
        },
        "outputId": "977647dd-a94e-4cb6-cbe3-127b00acc78b"
      },
      "outputs": [
        {
          "output_type": "execute_result",
          "data": {
            "text/plain": [
              "0"
            ]
          },
          "metadata": {},
          "execution_count": 32
        }
      ],
      "source": [
        "final_train['cosine_similarity'].isnull().sum()"
      ]
    },
    {
      "cell_type": "code",
      "execution_count": 33,
      "metadata": {
        "id": "CjtFXw6M3fR0",
        "colab": {
          "base_uri": "https://localhost:8080/"
        },
        "outputId": "0d6394ec-fb12-437b-ce4a-9a49fcf4fcde"
      },
      "outputs": [
        {
          "output_type": "execute_result",
          "data": {
            "text/plain": [
              "0"
            ]
          },
          "metadata": {},
          "execution_count": 33
        }
      ],
      "source": [
        "validation_data['cosine_similarity'].isnull().sum()"
      ]
    },
    {
      "cell_type": "code",
      "execution_count": 34,
      "metadata": {
        "id": "4D5aYN0f-TrH"
      },
      "outputs": [],
      "source": [
        "validation_data.to_csv('validation_data_cosine.csv')\n",
        "!cp validation_data_cosine.csv \"/content/drive/MyDrive/IRDM Coursework 2\""
      ]
    },
    {
      "cell_type": "code",
      "execution_count": 35,
      "metadata": {
        "id": "x7vpNKxk3RWA"
      },
      "outputs": [],
      "source": [
        "final_train.to_csv('train_data_cosine.csv')\n",
        "!cp train_data_cosine.csv \"/content/drive/MyDrive/IRDM Coursework 2\""
      ]
    },
    {
      "cell_type": "markdown",
      "metadata": {
        "id": "nBSIi1LRyNIx"
      },
      "source": [
        "LOGISTIC"
      ]
    },
    {
      "cell_type": "code",
      "execution_count": 36,
      "metadata": {
        "id": "N5Rw18vymNFZ"
      },
      "outputs": [],
      "source": [
        "final_train = pd.read_csv('/content/drive/MyDrive/IRDM Coursework 2/train_data_cosine.csv',index_col=0)"
      ]
    },
    {
      "cell_type": "code",
      "execution_count": 37,
      "metadata": {
        "colab": {
          "base_uri": "https://localhost:8080/",
          "height": 475
        },
        "id": "60Kf8Bi4pT_s",
        "outputId": "5fd5637e-4461-4087-8723-9b45b6ab70a0"
      },
      "outputs": [
        {
          "output_type": "execute_result",
          "data": {
            "text/plain": [
              "   qid      pid                    queries  \\\n",
              "0    2  4339068   Androgen receptor define   \n",
              "1    2  7279219   Androgen receptor define   \n",
              "2    2  6229171   Androgen receptor define   \n",
              "3    2  2946560   Androgen receptor define   \n",
              "4    2  4803916   Androgen receptor define   \n",
              "\n",
              "                                             passage  relevancy  \\\n",
              "0  The androgen receptor (AR), also known as NR3C...        1.0   \n",
              "1  : ligand binding to a G protein-coupled recept...        0.0   \n",
              "2  When insulin binds to the receptor on the cell...        0.0   \n",
              "3  1. exteroceptor-any receptor that responds to ...        0.0   \n",
              "4  a device that measures the quantity of radiati...        0.0   \n",
              "\n",
              "                                      passage_tokens  \\\n",
              "0  ['androgen', 'receptor', 'ar', 'also', 'known'...   \n",
              "1  ['ligand', 'binding', 'g', 'protein', 'coupled...   \n",
              "2  ['insulin', 'binds', 'receptor', 'cell', 'surf...   \n",
              "3  ['exteroceptor', 'receptor', 'responds', 'stim...   \n",
              "4  ['device', 'measures', 'quantity', 'radiation'...   \n",
              "\n",
              "                         query_tokens  \\\n",
              "0  ['androgen', 'receptor', 'define']   \n",
              "1  ['androgen', 'receptor', 'define']   \n",
              "2  ['androgen', 'receptor', 'define']   \n",
              "3  ['androgen', 'receptor', 'define']   \n",
              "4  ['androgen', 'receptor', 'define']   \n",
              "\n",
              "                                   passage_embedding  \\\n",
              "0  [ 4.9091795e-01  2.9157883e-01  1.1163568e-01 ...   \n",
              "1  [ 0.70091456  0.38167945  0.17395169  0.445151...   \n",
              "2  [ 0.8574829   0.10805729  0.43395844  0.221399...   \n",
              "3  [ 0.7432729   0.17395918 -0.2440114  -0.012490...   \n",
              "4  [ 0.484962    0.23540024  0.50870895 -0.082667...   \n",
              "\n",
              "                                     query_embedding  cosine_similarity  \n",
              "0  [ 0.65137     0.6691633  -0.05296333  0.198797...           0.874866  \n",
              "1  [ 0.65137     0.6691633  -0.05296333  0.198797...           0.804005  \n",
              "2  [ 0.65137     0.6691633  -0.05296333  0.198797...           0.752639  \n",
              "3  [ 0.65137     0.6691633  -0.05296333  0.198797...           0.660131  \n",
              "4  [ 0.65137     0.6691633  -0.05296333  0.198797...           0.642420  "
            ],
            "text/html": [
              "\n",
              "  <div id=\"df-bb707769-94e8-4b9b-b592-e7a8e7c1c09a\">\n",
              "    <div class=\"colab-df-container\">\n",
              "      <div>\n",
              "<style scoped>\n",
              "    .dataframe tbody tr th:only-of-type {\n",
              "        vertical-align: middle;\n",
              "    }\n",
              "\n",
              "    .dataframe tbody tr th {\n",
              "        vertical-align: top;\n",
              "    }\n",
              "\n",
              "    .dataframe thead th {\n",
              "        text-align: right;\n",
              "    }\n",
              "</style>\n",
              "<table border=\"1\" class=\"dataframe\">\n",
              "  <thead>\n",
              "    <tr style=\"text-align: right;\">\n",
              "      <th></th>\n",
              "      <th>qid</th>\n",
              "      <th>pid</th>\n",
              "      <th>queries</th>\n",
              "      <th>passage</th>\n",
              "      <th>relevancy</th>\n",
              "      <th>passage_tokens</th>\n",
              "      <th>query_tokens</th>\n",
              "      <th>passage_embedding</th>\n",
              "      <th>query_embedding</th>\n",
              "      <th>cosine_similarity</th>\n",
              "    </tr>\n",
              "  </thead>\n",
              "  <tbody>\n",
              "    <tr>\n",
              "      <th>0</th>\n",
              "      <td>2</td>\n",
              "      <td>4339068</td>\n",
              "      <td>Androgen receptor define</td>\n",
              "      <td>The androgen receptor (AR), also known as NR3C...</td>\n",
              "      <td>1.0</td>\n",
              "      <td>['androgen', 'receptor', 'ar', 'also', 'known'...</td>\n",
              "      <td>['androgen', 'receptor', 'define']</td>\n",
              "      <td>[ 4.9091795e-01  2.9157883e-01  1.1163568e-01 ...</td>\n",
              "      <td>[ 0.65137     0.6691633  -0.05296333  0.198797...</td>\n",
              "      <td>0.874866</td>\n",
              "    </tr>\n",
              "    <tr>\n",
              "      <th>1</th>\n",
              "      <td>2</td>\n",
              "      <td>7279219</td>\n",
              "      <td>Androgen receptor define</td>\n",
              "      <td>: ligand binding to a G protein-coupled recept...</td>\n",
              "      <td>0.0</td>\n",
              "      <td>['ligand', 'binding', 'g', 'protein', 'coupled...</td>\n",
              "      <td>['androgen', 'receptor', 'define']</td>\n",
              "      <td>[ 0.70091456  0.38167945  0.17395169  0.445151...</td>\n",
              "      <td>[ 0.65137     0.6691633  -0.05296333  0.198797...</td>\n",
              "      <td>0.804005</td>\n",
              "    </tr>\n",
              "    <tr>\n",
              "      <th>2</th>\n",
              "      <td>2</td>\n",
              "      <td>6229171</td>\n",
              "      <td>Androgen receptor define</td>\n",
              "      <td>When insulin binds to the receptor on the cell...</td>\n",
              "      <td>0.0</td>\n",
              "      <td>['insulin', 'binds', 'receptor', 'cell', 'surf...</td>\n",
              "      <td>['androgen', 'receptor', 'define']</td>\n",
              "      <td>[ 0.8574829   0.10805729  0.43395844  0.221399...</td>\n",
              "      <td>[ 0.65137     0.6691633  -0.05296333  0.198797...</td>\n",
              "      <td>0.752639</td>\n",
              "    </tr>\n",
              "    <tr>\n",
              "      <th>3</th>\n",
              "      <td>2</td>\n",
              "      <td>2946560</td>\n",
              "      <td>Androgen receptor define</td>\n",
              "      <td>1. exteroceptor-any receptor that responds to ...</td>\n",
              "      <td>0.0</td>\n",
              "      <td>['exteroceptor', 'receptor', 'responds', 'stim...</td>\n",
              "      <td>['androgen', 'receptor', 'define']</td>\n",
              "      <td>[ 0.7432729   0.17395918 -0.2440114  -0.012490...</td>\n",
              "      <td>[ 0.65137     0.6691633  -0.05296333  0.198797...</td>\n",
              "      <td>0.660131</td>\n",
              "    </tr>\n",
              "    <tr>\n",
              "      <th>4</th>\n",
              "      <td>2</td>\n",
              "      <td>4803916</td>\n",
              "      <td>Androgen receptor define</td>\n",
              "      <td>a device that measures the quantity of radiati...</td>\n",
              "      <td>0.0</td>\n",
              "      <td>['device', 'measures', 'quantity', 'radiation'...</td>\n",
              "      <td>['androgen', 'receptor', 'define']</td>\n",
              "      <td>[ 0.484962    0.23540024  0.50870895 -0.082667...</td>\n",
              "      <td>[ 0.65137     0.6691633  -0.05296333  0.198797...</td>\n",
              "      <td>0.642420</td>\n",
              "    </tr>\n",
              "  </tbody>\n",
              "</table>\n",
              "</div>\n",
              "      <button class=\"colab-df-convert\" onclick=\"convertToInteractive('df-bb707769-94e8-4b9b-b592-e7a8e7c1c09a')\"\n",
              "              title=\"Convert this dataframe to an interactive table.\"\n",
              "              style=\"display:none;\">\n",
              "        \n",
              "  <svg xmlns=\"http://www.w3.org/2000/svg\" height=\"24px\"viewBox=\"0 0 24 24\"\n",
              "       width=\"24px\">\n",
              "    <path d=\"M0 0h24v24H0V0z\" fill=\"none\"/>\n",
              "    <path d=\"M18.56 5.44l.94 2.06.94-2.06 2.06-.94-2.06-.94-.94-2.06-.94 2.06-2.06.94zm-11 1L8.5 8.5l.94-2.06 2.06-.94-2.06-.94L8.5 2.5l-.94 2.06-2.06.94zm10 10l.94 2.06.94-2.06 2.06-.94-2.06-.94-.94-2.06-.94 2.06-2.06.94z\"/><path d=\"M17.41 7.96l-1.37-1.37c-.4-.4-.92-.59-1.43-.59-.52 0-1.04.2-1.43.59L10.3 9.45l-7.72 7.72c-.78.78-.78 2.05 0 2.83L4 21.41c.39.39.9.59 1.41.59.51 0 1.02-.2 1.41-.59l7.78-7.78 2.81-2.81c.8-.78.8-2.07 0-2.86zM5.41 20L4 18.59l7.72-7.72 1.47 1.35L5.41 20z\"/>\n",
              "  </svg>\n",
              "      </button>\n",
              "      \n",
              "  <style>\n",
              "    .colab-df-container {\n",
              "      display:flex;\n",
              "      flex-wrap:wrap;\n",
              "      gap: 12px;\n",
              "    }\n",
              "\n",
              "    .colab-df-convert {\n",
              "      background-color: #E8F0FE;\n",
              "      border: none;\n",
              "      border-radius: 50%;\n",
              "      cursor: pointer;\n",
              "      display: none;\n",
              "      fill: #1967D2;\n",
              "      height: 32px;\n",
              "      padding: 0 0 0 0;\n",
              "      width: 32px;\n",
              "    }\n",
              "\n",
              "    .colab-df-convert:hover {\n",
              "      background-color: #E2EBFA;\n",
              "      box-shadow: 0px 1px 2px rgba(60, 64, 67, 0.3), 0px 1px 3px 1px rgba(60, 64, 67, 0.15);\n",
              "      fill: #174EA6;\n",
              "    }\n",
              "\n",
              "    [theme=dark] .colab-df-convert {\n",
              "      background-color: #3B4455;\n",
              "      fill: #D2E3FC;\n",
              "    }\n",
              "\n",
              "    [theme=dark] .colab-df-convert:hover {\n",
              "      background-color: #434B5C;\n",
              "      box-shadow: 0px 1px 3px 1px rgba(0, 0, 0, 0.15);\n",
              "      filter: drop-shadow(0px 1px 2px rgba(0, 0, 0, 0.3));\n",
              "      fill: #FFFFFF;\n",
              "    }\n",
              "  </style>\n",
              "\n",
              "      <script>\n",
              "        const buttonEl =\n",
              "          document.querySelector('#df-bb707769-94e8-4b9b-b592-e7a8e7c1c09a button.colab-df-convert');\n",
              "        buttonEl.style.display =\n",
              "          google.colab.kernel.accessAllowed ? 'block' : 'none';\n",
              "\n",
              "        async function convertToInteractive(key) {\n",
              "          const element = document.querySelector('#df-bb707769-94e8-4b9b-b592-e7a8e7c1c09a');\n",
              "          const dataTable =\n",
              "            await google.colab.kernel.invokeFunction('convertToInteractive',\n",
              "                                                     [key], {});\n",
              "          if (!dataTable) return;\n",
              "\n",
              "          const docLinkHtml = 'Like what you see? Visit the ' +\n",
              "            '<a target=\"_blank\" href=https://colab.research.google.com/notebooks/data_table.ipynb>data table notebook</a>'\n",
              "            + ' to learn more about interactive tables.';\n",
              "          element.innerHTML = '';\n",
              "          dataTable['output_type'] = 'display_data';\n",
              "          await google.colab.output.renderOutput(dataTable, element);\n",
              "          const docLink = document.createElement('div');\n",
              "          docLink.innerHTML = docLinkHtml;\n",
              "          element.appendChild(docLink);\n",
              "        }\n",
              "      </script>\n",
              "    </div>\n",
              "  </div>\n",
              "  "
            ]
          },
          "metadata": {},
          "execution_count": 37
        }
      ],
      "source": [
        "final_train.head()"
      ]
    },
    {
      "cell_type": "code",
      "execution_count": 38,
      "metadata": {
        "id": "XKMNupDnp5xd"
      },
      "outputs": [],
      "source": [
        "validation_data = pd.read_csv('/content/drive/MyDrive/IRDM Coursework 2/validation_data_cosine.csv',index_col=0)"
      ]
    },
    {
      "cell_type": "code",
      "execution_count": 39,
      "metadata": {
        "colab": {
          "base_uri": "https://localhost:8080/",
          "height": 597
        },
        "id": "C_eBXunLp_u-",
        "outputId": "8dfa15ef-f892-4b35-fcff-3cba368297fc"
      },
      "outputs": [
        {
          "output_type": "execute_result",
          "data": {
            "text/plain": [
              "       qid      pid                                            queries  \\\n",
              "0  1082792  1000084  what does the golgi apparatus do to the protei...   \n",
              "1   995825  1000492       where is the graphic card located in the cpu   \n",
              "2   995825  1000494       where is the graphic card located in the cpu   \n",
              "3  1091246  1000522                          property premises meaning   \n",
              "4  1047854  1000585                         what is printing mechanism   \n",
              "\n",
              "                                             passage  relevancy  \\\n",
              "0  Start studying Bonding, Carbs, Proteins, Lipid...        0.0   \n",
              "1  For example, a “PC Expansion Card” maybe the j...        0.0   \n",
              "2  The Common Cards & Buses. The most common type...        0.0   \n",
              "3  The occurrence of since tells us that the firs...        0.0   \n",
              "4  Windows desktop applications Develop Desktop t...        0.0   \n",
              "\n",
              "                                      passage_tokens  \\\n",
              "0  ['start', 'studying', 'bonding', 'carbs', 'pro...   \n",
              "1  ['example', 'pc', 'expansion', 'card', 'maybe'...   \n",
              "2  ['common', 'cards', 'buses', 'common', 'types'...   \n",
              "3  ['occurrence', 'since', 'tells', 'us', 'first'...   \n",
              "4  ['windows', 'desktop', 'applications', 'develo...   \n",
              "\n",
              "                                        query_tokens  \\\n",
              "0  ['golgi', 'apparatus', 'proteins', 'lipids', '...   \n",
              "1              ['graphic', 'card', 'located', 'cpu']   \n",
              "2              ['graphic', 'card', 'located', 'cpu']   \n",
              "3                ['property', 'premises', 'meaning']   \n",
              "4                          ['printing', 'mechanism']   \n",
              "\n",
              "                                   passage_embedding  \\\n",
              "0  [ 0.2690694   0.07032246 -0.22095296 -0.134478...   \n",
              "1  [ 1.18339844e-01  1.92679703e-01  4.75641042e-...   \n",
              "2  [ 0.02057143  0.11528355  0.52425003  0.421483...   \n",
              "3  [ 0.24477586  0.12094858 -0.1262933  -0.035436...   \n",
              "4  [ 0.21993366 -0.27575365  0.6672145   0.224379...   \n",
              "\n",
              "                                     query_embedding  cosine_similarity  \n",
              "0  [ 0.832084   -0.16500281  0.050816    0.16417 ...           0.617340  \n",
              "1  [-0.01731001  0.32846758  0.68064654  0.689135...           0.831845  \n",
              "2  [-0.01731001  0.32846758  0.68064654  0.689135...           0.847569  \n",
              "3  [ 0.5320867   0.13899668 -0.18879335 -0.206136...           0.751343  \n",
              "4  [ 0.17438498 -0.67538    -0.050255   -0.132791...           0.813332  "
            ],
            "text/html": [
              "\n",
              "  <div id=\"df-98f3be89-22cb-4a2e-a650-2d7b18ed74a1\">\n",
              "    <div class=\"colab-df-container\">\n",
              "      <div>\n",
              "<style scoped>\n",
              "    .dataframe tbody tr th:only-of-type {\n",
              "        vertical-align: middle;\n",
              "    }\n",
              "\n",
              "    .dataframe tbody tr th {\n",
              "        vertical-align: top;\n",
              "    }\n",
              "\n",
              "    .dataframe thead th {\n",
              "        text-align: right;\n",
              "    }\n",
              "</style>\n",
              "<table border=\"1\" class=\"dataframe\">\n",
              "  <thead>\n",
              "    <tr style=\"text-align: right;\">\n",
              "      <th></th>\n",
              "      <th>qid</th>\n",
              "      <th>pid</th>\n",
              "      <th>queries</th>\n",
              "      <th>passage</th>\n",
              "      <th>relevancy</th>\n",
              "      <th>passage_tokens</th>\n",
              "      <th>query_tokens</th>\n",
              "      <th>passage_embedding</th>\n",
              "      <th>query_embedding</th>\n",
              "      <th>cosine_similarity</th>\n",
              "    </tr>\n",
              "  </thead>\n",
              "  <tbody>\n",
              "    <tr>\n",
              "      <th>0</th>\n",
              "      <td>1082792</td>\n",
              "      <td>1000084</td>\n",
              "      <td>what does the golgi apparatus do to the protei...</td>\n",
              "      <td>Start studying Bonding, Carbs, Proteins, Lipid...</td>\n",
              "      <td>0.0</td>\n",
              "      <td>['start', 'studying', 'bonding', 'carbs', 'pro...</td>\n",
              "      <td>['golgi', 'apparatus', 'proteins', 'lipids', '...</td>\n",
              "      <td>[ 0.2690694   0.07032246 -0.22095296 -0.134478...</td>\n",
              "      <td>[ 0.832084   -0.16500281  0.050816    0.16417 ...</td>\n",
              "      <td>0.617340</td>\n",
              "    </tr>\n",
              "    <tr>\n",
              "      <th>1</th>\n",
              "      <td>995825</td>\n",
              "      <td>1000492</td>\n",
              "      <td>where is the graphic card located in the cpu</td>\n",
              "      <td>For example, a “PC Expansion Card” maybe the j...</td>\n",
              "      <td>0.0</td>\n",
              "      <td>['example', 'pc', 'expansion', 'card', 'maybe'...</td>\n",
              "      <td>['graphic', 'card', 'located', 'cpu']</td>\n",
              "      <td>[ 1.18339844e-01  1.92679703e-01  4.75641042e-...</td>\n",
              "      <td>[-0.01731001  0.32846758  0.68064654  0.689135...</td>\n",
              "      <td>0.831845</td>\n",
              "    </tr>\n",
              "    <tr>\n",
              "      <th>2</th>\n",
              "      <td>995825</td>\n",
              "      <td>1000494</td>\n",
              "      <td>where is the graphic card located in the cpu</td>\n",
              "      <td>The Common Cards &amp; Buses. The most common type...</td>\n",
              "      <td>0.0</td>\n",
              "      <td>['common', 'cards', 'buses', 'common', 'types'...</td>\n",
              "      <td>['graphic', 'card', 'located', 'cpu']</td>\n",
              "      <td>[ 0.02057143  0.11528355  0.52425003  0.421483...</td>\n",
              "      <td>[-0.01731001  0.32846758  0.68064654  0.689135...</td>\n",
              "      <td>0.847569</td>\n",
              "    </tr>\n",
              "    <tr>\n",
              "      <th>3</th>\n",
              "      <td>1091246</td>\n",
              "      <td>1000522</td>\n",
              "      <td>property premises meaning</td>\n",
              "      <td>The occurrence of since tells us that the firs...</td>\n",
              "      <td>0.0</td>\n",
              "      <td>['occurrence', 'since', 'tells', 'us', 'first'...</td>\n",
              "      <td>['property', 'premises', 'meaning']</td>\n",
              "      <td>[ 0.24477586  0.12094858 -0.1262933  -0.035436...</td>\n",
              "      <td>[ 0.5320867   0.13899668 -0.18879335 -0.206136...</td>\n",
              "      <td>0.751343</td>\n",
              "    </tr>\n",
              "    <tr>\n",
              "      <th>4</th>\n",
              "      <td>1047854</td>\n",
              "      <td>1000585</td>\n",
              "      <td>what is printing mechanism</td>\n",
              "      <td>Windows desktop applications Develop Desktop t...</td>\n",
              "      <td>0.0</td>\n",
              "      <td>['windows', 'desktop', 'applications', 'develo...</td>\n",
              "      <td>['printing', 'mechanism']</td>\n",
              "      <td>[ 0.21993366 -0.27575365  0.6672145   0.224379...</td>\n",
              "      <td>[ 0.17438498 -0.67538    -0.050255   -0.132791...</td>\n",
              "      <td>0.813332</td>\n",
              "    </tr>\n",
              "  </tbody>\n",
              "</table>\n",
              "</div>\n",
              "      <button class=\"colab-df-convert\" onclick=\"convertToInteractive('df-98f3be89-22cb-4a2e-a650-2d7b18ed74a1')\"\n",
              "              title=\"Convert this dataframe to an interactive table.\"\n",
              "              style=\"display:none;\">\n",
              "        \n",
              "  <svg xmlns=\"http://www.w3.org/2000/svg\" height=\"24px\"viewBox=\"0 0 24 24\"\n",
              "       width=\"24px\">\n",
              "    <path d=\"M0 0h24v24H0V0z\" fill=\"none\"/>\n",
              "    <path d=\"M18.56 5.44l.94 2.06.94-2.06 2.06-.94-2.06-.94-.94-2.06-.94 2.06-2.06.94zm-11 1L8.5 8.5l.94-2.06 2.06-.94-2.06-.94L8.5 2.5l-.94 2.06-2.06.94zm10 10l.94 2.06.94-2.06 2.06-.94-2.06-.94-.94-2.06-.94 2.06-2.06.94z\"/><path d=\"M17.41 7.96l-1.37-1.37c-.4-.4-.92-.59-1.43-.59-.52 0-1.04.2-1.43.59L10.3 9.45l-7.72 7.72c-.78.78-.78 2.05 0 2.83L4 21.41c.39.39.9.59 1.41.59.51 0 1.02-.2 1.41-.59l7.78-7.78 2.81-2.81c.8-.78.8-2.07 0-2.86zM5.41 20L4 18.59l7.72-7.72 1.47 1.35L5.41 20z\"/>\n",
              "  </svg>\n",
              "      </button>\n",
              "      \n",
              "  <style>\n",
              "    .colab-df-container {\n",
              "      display:flex;\n",
              "      flex-wrap:wrap;\n",
              "      gap: 12px;\n",
              "    }\n",
              "\n",
              "    .colab-df-convert {\n",
              "      background-color: #E8F0FE;\n",
              "      border: none;\n",
              "      border-radius: 50%;\n",
              "      cursor: pointer;\n",
              "      display: none;\n",
              "      fill: #1967D2;\n",
              "      height: 32px;\n",
              "      padding: 0 0 0 0;\n",
              "      width: 32px;\n",
              "    }\n",
              "\n",
              "    .colab-df-convert:hover {\n",
              "      background-color: #E2EBFA;\n",
              "      box-shadow: 0px 1px 2px rgba(60, 64, 67, 0.3), 0px 1px 3px 1px rgba(60, 64, 67, 0.15);\n",
              "      fill: #174EA6;\n",
              "    }\n",
              "\n",
              "    [theme=dark] .colab-df-convert {\n",
              "      background-color: #3B4455;\n",
              "      fill: #D2E3FC;\n",
              "    }\n",
              "\n",
              "    [theme=dark] .colab-df-convert:hover {\n",
              "      background-color: #434B5C;\n",
              "      box-shadow: 0px 1px 3px 1px rgba(0, 0, 0, 0.15);\n",
              "      filter: drop-shadow(0px 1px 2px rgba(0, 0, 0, 0.3));\n",
              "      fill: #FFFFFF;\n",
              "    }\n",
              "  </style>\n",
              "\n",
              "      <script>\n",
              "        const buttonEl =\n",
              "          document.querySelector('#df-98f3be89-22cb-4a2e-a650-2d7b18ed74a1 button.colab-df-convert');\n",
              "        buttonEl.style.display =\n",
              "          google.colab.kernel.accessAllowed ? 'block' : 'none';\n",
              "\n",
              "        async function convertToInteractive(key) {\n",
              "          const element = document.querySelector('#df-98f3be89-22cb-4a2e-a650-2d7b18ed74a1');\n",
              "          const dataTable =\n",
              "            await google.colab.kernel.invokeFunction('convertToInteractive',\n",
              "                                                     [key], {});\n",
              "          if (!dataTable) return;\n",
              "\n",
              "          const docLinkHtml = 'Like what you see? Visit the ' +\n",
              "            '<a target=\"_blank\" href=https://colab.research.google.com/notebooks/data_table.ipynb>data table notebook</a>'\n",
              "            + ' to learn more about interactive tables.';\n",
              "          element.innerHTML = '';\n",
              "          dataTable['output_type'] = 'display_data';\n",
              "          await google.colab.output.renderOutput(dataTable, element);\n",
              "          const docLink = document.createElement('div');\n",
              "          docLink.innerHTML = docLinkHtml;\n",
              "          element.appendChild(docLink);\n",
              "        }\n",
              "      </script>\n",
              "    </div>\n",
              "  </div>\n",
              "  "
            ]
          },
          "metadata": {},
          "execution_count": 39
        }
      ],
      "source": [
        "validation_data.head()"
      ]
    },
    {
      "cell_type": "code",
      "execution_count": 40,
      "metadata": {
        "id": "uVjqvJ73yFyc"
      },
      "outputs": [],
      "source": [
        "final_train['DocLen'] = 0\n",
        "final_train['queryLen'] = 0\n",
        "for i, row in final_train.iterrows():\n",
        "  final_train['DocLen'][i] = len(final_train['passage'][i])\n",
        "  final_train['queryLen'][i] = len(final_train['queries'][i])"
      ]
    },
    {
      "cell_type": "code",
      "execution_count": 41,
      "metadata": {
        "id": "PNKfBd14yOsS"
      },
      "outputs": [],
      "source": [
        "validation_data['DocLen'] = 0\n",
        "validation_data['queryLen'] = 0\n",
        "for i, row in validation_data.iterrows():\n",
        "  validation_data['DocLen'][i] = len(validation_data['passage'][i])\n",
        "  validation_data['queryLen'][i] = len(validation_data['queries'][i])"
      ]
    },
    {
      "cell_type": "code",
      "execution_count": 42,
      "metadata": {
        "id": "CokIvQvEyZTa"
      },
      "outputs": [],
      "source": [
        "xTr = final_train[['cosine_similarity','DocLen','queryLen']]\n",
        "# xTr = final_train[['cosine_similarity']]\n",
        "yTr = final_train['relevancy']\n",
        "xTe = validation_data[['cosine_similarity','DocLen','queryLen']]\n",
        "# xTe = validation_data[['cosine_similarity']]\n",
        "yTe = validation_data['relevancy']"
      ]
    },
    {
      "cell_type": "code",
      "execution_count": 43,
      "metadata": {
        "id": "owUeIfFuyfb1"
      },
      "outputs": [],
      "source": [
        "class LogisticReg:\n",
        "  def __init__(self,lr,n_iters):\n",
        "    self.lr = lr\n",
        "    self.n_iters = n_iters\n",
        "    self.weights = None\n",
        "    self.bias = None\n",
        "  \n",
        "  def fit(self,X,y):\n",
        "    n,d = X.shape\n",
        "    self.weights = np.ones(d)\n",
        "    self.bias = 0 #np.zeros(n)\n",
        "\n",
        "    #gradient descent \n",
        "    for _ in range(self.n_iters):\n",
        "      linear = np.dot(X,self.weights) + self.bias #xw+b\n",
        "      y_predicted = self.sigmoid(linear) #sigmoid\n",
        "      #caluclate  gradients for bias and weights\n",
        "      dw = (1/n) * np.dot(X.T,(y_predicted-y)) #2 is scaling\n",
        "      db = (1/n) * np.sum(y_predicted-y)\n",
        "      #update them\n",
        "      self.weights -= self.lr * dw\n",
        "      self.bias -= self.lr * db\n",
        "\n",
        "  def predict(self,X):\n",
        "    linear = np.dot(X,self.weights) + self.bias\n",
        "    y_predicted = self.sigmoid(linear)\n",
        "    class_pred = [1 if i>=0.5 else 0 for i in y_predicted]\n",
        "    return class_pred, y_predicted\n",
        "\n",
        "  def sigmoid(self,z):\n",
        "    return 1/(1+np.exp(-z))"
      ]
    },
    {
      "cell_type": "code",
      "execution_count": 44,
      "metadata": {
        "id": "XW-JIocOyiPd"
      },
      "outputs": [],
      "source": [
        "regressor = LogisticReg(lr = 0.1,n_iters = 1000)"
      ]
    },
    {
      "cell_type": "code",
      "execution_count": 45,
      "metadata": {
        "colab": {
          "base_uri": "https://localhost:8080/"
        },
        "id": "jO9eyX3Yymw5",
        "outputId": "33e4d20f-5021-4cba-c062-78ee1c61cfe4"
      },
      "outputs": [
        {
          "output_type": "stream",
          "name": "stderr",
          "text": [
            "/usr/local/lib/python3.7/dist-packages/ipykernel_launcher.py:31: RuntimeWarning: overflow encountered in exp\n"
          ]
        }
      ],
      "source": [
        "regressor.fit(xTr,yTr)"
      ]
    },
    {
      "cell_type": "code",
      "execution_count": 46,
      "metadata": {
        "colab": {
          "base_uri": "https://localhost:8080/"
        },
        "id": "6ugEid-jypuN",
        "outputId": "7884abc7-d5f4-4b85-9b27-5bfc42072811"
      },
      "outputs": [
        {
          "output_type": "stream",
          "name": "stderr",
          "text": [
            "/usr/local/lib/python3.7/dist-packages/ipykernel_launcher.py:31: RuntimeWarning: overflow encountered in exp\n"
          ]
        }
      ],
      "source": [
        "y_pred,prob = regressor.predict(xTe)"
      ]
    },
    {
      "cell_type": "code",
      "source": [
        "train_pred,prob2 = regressor.predict(xTr)"
      ],
      "metadata": {
        "colab": {
          "base_uri": "https://localhost:8080/"
        },
        "id": "ZpbawjcmWtlw",
        "outputId": "3b5934ea-b49c-4c97-f9fe-61eca892be14"
      },
      "execution_count": 47,
      "outputs": [
        {
          "output_type": "stream",
          "name": "stderr",
          "text": [
            "/usr/local/lib/python3.7/dist-packages/ipykernel_launcher.py:31: RuntimeWarning: overflow encountered in exp\n"
          ]
        }
      ]
    },
    {
      "cell_type": "code",
      "source": [
        "from sklearn.metrics import accuracy_score"
      ],
      "metadata": {
        "id": "_mxv_wdYD3eD"
      },
      "execution_count": 49,
      "outputs": []
    },
    {
      "cell_type": "code",
      "source": [
        "accuracy_score(yTr, train_pred)"
      ],
      "metadata": {
        "colab": {
          "base_uri": "https://localhost:8080/"
        },
        "id": "bGe52y_oabHe",
        "outputId": "6f08c3c9-d18f-4729-d0de-0b2426a78045"
      },
      "execution_count": 50,
      "outputs": [
        {
          "output_type": "execute_result",
          "data": {
            "text/plain": [
              "0.9088218350847221"
            ]
          },
          "metadata": {},
          "execution_count": 50
        }
      ]
    },
    {
      "cell_type": "code",
      "execution_count": 51,
      "metadata": {
        "colab": {
          "base_uri": "https://localhost:8080/"
        },
        "id": "b4QqF01dytMd",
        "outputId": "3c3b6a71-1f5c-4f46-a4ef-71bc977b1d4c"
      },
      "outputs": [
        {
          "output_type": "execute_result",
          "data": {
            "text/plain": [
              "array([  1.53959932, -23.7192423 ,  -1.28640197])"
            ]
          },
          "metadata": {},
          "execution_count": 51
        }
      ],
      "source": [
        "regressor.weights"
      ]
    },
    {
      "cell_type": "code",
      "execution_count": 52,
      "metadata": {
        "colab": {
          "base_uri": "https://localhost:8080/"
        },
        "id": "E4Mq-nF6ytna",
        "outputId": "2e889688-183f-47a7-88c7-7d0852e5c42d"
      },
      "outputs": [
        {
          "output_type": "execute_result",
          "data": {
            "text/plain": [
              "0.9989048437997206"
            ]
          },
          "metadata": {},
          "execution_count": 52
        }
      ],
      "source": [
        "from sklearn.metrics import accuracy_score\n",
        "accuracy_score(yTe, y_pred)"
      ]
    },
    {
      "cell_type": "code",
      "execution_count": 53,
      "metadata": {
        "id": "P8hhwDTp5e9K",
        "colab": {
          "base_uri": "https://localhost:8080/"
        },
        "outputId": "a683bc89-759b-42cd-e40a-c14e34cefae9"
      },
      "outputs": [
        {
          "output_type": "stream",
          "name": "stderr",
          "text": [
            "/usr/local/lib/python3.7/dist-packages/ipykernel_launcher.py:31: RuntimeWarning: overflow encountered in exp\n"
          ]
        },
        {
          "output_type": "execute_result",
          "data": {
            "text/plain": [
              "0.9963627759308601"
            ]
          },
          "metadata": {},
          "execution_count": 53
        }
      ],
      "source": [
        "regressor1 = LogisticReg(lr = 0.01,n_iters = 1000)\n",
        "regressor1.fit(xTr,yTr)\n",
        "y_pred1,prob1 = regressor1.predict(xTe)\n",
        "accuracy_score(yTe, y_pred1)"
      ]
    },
    {
      "cell_type": "code",
      "execution_count": 54,
      "metadata": {
        "id": "wzjZrCH95oCK",
        "colab": {
          "base_uri": "https://localhost:8080/"
        },
        "outputId": "6a53e4f3-50e7-4855-a860-f91bce5b0a29"
      },
      "outputs": [
        {
          "output_type": "execute_result",
          "data": {
            "text/plain": [
              "0.9977317211812093"
            ]
          },
          "metadata": {},
          "execution_count": 54
        }
      ],
      "source": [
        "regressor2 = LogisticReg(lr = 0.001,n_iters = 1000)\n",
        "regressor2.fit(xTr,yTr)\n",
        "y_pred2,prob2 = regressor2.predict(xTe)\n",
        "accuracy_score(yTe, y_pred2)"
      ]
    },
    {
      "cell_type": "code",
      "execution_count": 55,
      "metadata": {
        "id": "j32VwNeQ5tkO",
        "colab": {
          "base_uri": "https://localhost:8080/"
        },
        "outputId": "e5f5d9e1-d0da-4017-8b4a-f20f4b4784d7"
      },
      "outputs": [
        {
          "output_type": "execute_result",
          "data": {
            "text/plain": [
              "0.00109515620027941"
            ]
          },
          "metadata": {},
          "execution_count": 55
        }
      ],
      "source": [
        "regressor3 = LogisticReg(lr = 0,n_iters = 1000)\n",
        "regressor3.fit(xTr,yTr)\n",
        "y_pred3,prob3 = regressor3.predict(xTe)\n",
        "accuracy_score(yTe, y_pred3)"
      ]
    },
    {
      "cell_type": "code",
      "execution_count": 56,
      "metadata": {
        "id": "AZmP_VoX5tch",
        "colab": {
          "base_uri": "https://localhost:8080/"
        },
        "outputId": "945847c9-44e1-4abd-91f1-89b3755bea15"
      },
      "outputs": [
        {
          "output_type": "stream",
          "name": "stderr",
          "text": [
            "/usr/local/lib/python3.7/dist-packages/ipykernel_launcher.py:31: RuntimeWarning: overflow encountered in exp\n"
          ]
        },
        {
          "output_type": "execute_result",
          "data": {
            "text/plain": [
              "0.9989048437997206"
            ]
          },
          "metadata": {},
          "execution_count": 56
        }
      ],
      "source": [
        "regressor4 = LogisticReg(lr = 1,n_iters = 1000)\n",
        "regressor4.fit(xTr,yTr)\n",
        "y_pred4,prob4 = regressor4.predict(xTe)\n",
        "accuracy_score(yTe, y_pred4)"
      ]
    },
    {
      "cell_type": "code",
      "execution_count": 57,
      "metadata": {
        "id": "I2rE2c288QC-"
      },
      "outputs": [],
      "source": [
        "validation_data['LogitRegr_prob'] = prob2\n",
        "validation_data['LogitRegr_label'] = y_pred2"
      ]
    },
    {
      "cell_type": "code",
      "execution_count": 58,
      "metadata": {
        "id": "cjxVLSf7931O"
      },
      "outputs": [],
      "source": [
        "#For every qid rank results. So each rank comes almost 1148 times as its unique query length\n",
        "validation_data['Logit_rank'] = validation_data.groupby('qid')['LogitRegr_prob'].rank(method='first',ascending=False).astype('int')"
      ]
    },
    {
      "cell_type": "code",
      "execution_count": 59,
      "metadata": {
        "id": "AAzL_TE52gU6"
      },
      "outputs": [],
      "source": [
        "trial_data = validation_data[['qid','pid','Logit_rank','LogitRegr_prob']]"
      ]
    },
    {
      "cell_type": "code",
      "execution_count": 60,
      "metadata": {
        "id": "44tVzvFQ7xEW",
        "colab": {
          "base_uri": "https://localhost:8080/",
          "height": 206
        },
        "outputId": "bf79ae8b-fb68-4850-a089-4ec255a47ec8"
      },
      "outputs": [
        {
          "output_type": "execute_result",
          "data": {
            "text/plain": [
              "       qid      pid  Logit_rank  LogitRegr_prob\n",
              "0  1082792  1000084          18        0.370778\n",
              "1   995825  1000492         632        0.025170\n",
              "2   995825  1000494         642        0.023438\n",
              "3  1091246  1000522         482        0.028967\n",
              "4  1047854  1000585         997        0.000016"
            ],
            "text/html": [
              "\n",
              "  <div id=\"df-553571f3-d145-428d-b1ad-f2b6f9de6981\">\n",
              "    <div class=\"colab-df-container\">\n",
              "      <div>\n",
              "<style scoped>\n",
              "    .dataframe tbody tr th:only-of-type {\n",
              "        vertical-align: middle;\n",
              "    }\n",
              "\n",
              "    .dataframe tbody tr th {\n",
              "        vertical-align: top;\n",
              "    }\n",
              "\n",
              "    .dataframe thead th {\n",
              "        text-align: right;\n",
              "    }\n",
              "</style>\n",
              "<table border=\"1\" class=\"dataframe\">\n",
              "  <thead>\n",
              "    <tr style=\"text-align: right;\">\n",
              "      <th></th>\n",
              "      <th>qid</th>\n",
              "      <th>pid</th>\n",
              "      <th>Logit_rank</th>\n",
              "      <th>LogitRegr_prob</th>\n",
              "    </tr>\n",
              "  </thead>\n",
              "  <tbody>\n",
              "    <tr>\n",
              "      <th>0</th>\n",
              "      <td>1082792</td>\n",
              "      <td>1000084</td>\n",
              "      <td>18</td>\n",
              "      <td>0.370778</td>\n",
              "    </tr>\n",
              "    <tr>\n",
              "      <th>1</th>\n",
              "      <td>995825</td>\n",
              "      <td>1000492</td>\n",
              "      <td>632</td>\n",
              "      <td>0.025170</td>\n",
              "    </tr>\n",
              "    <tr>\n",
              "      <th>2</th>\n",
              "      <td>995825</td>\n",
              "      <td>1000494</td>\n",
              "      <td>642</td>\n",
              "      <td>0.023438</td>\n",
              "    </tr>\n",
              "    <tr>\n",
              "      <th>3</th>\n",
              "      <td>1091246</td>\n",
              "      <td>1000522</td>\n",
              "      <td>482</td>\n",
              "      <td>0.028967</td>\n",
              "    </tr>\n",
              "    <tr>\n",
              "      <th>4</th>\n",
              "      <td>1047854</td>\n",
              "      <td>1000585</td>\n",
              "      <td>997</td>\n",
              "      <td>0.000016</td>\n",
              "    </tr>\n",
              "  </tbody>\n",
              "</table>\n",
              "</div>\n",
              "      <button class=\"colab-df-convert\" onclick=\"convertToInteractive('df-553571f3-d145-428d-b1ad-f2b6f9de6981')\"\n",
              "              title=\"Convert this dataframe to an interactive table.\"\n",
              "              style=\"display:none;\">\n",
              "        \n",
              "  <svg xmlns=\"http://www.w3.org/2000/svg\" height=\"24px\"viewBox=\"0 0 24 24\"\n",
              "       width=\"24px\">\n",
              "    <path d=\"M0 0h24v24H0V0z\" fill=\"none\"/>\n",
              "    <path d=\"M18.56 5.44l.94 2.06.94-2.06 2.06-.94-2.06-.94-.94-2.06-.94 2.06-2.06.94zm-11 1L8.5 8.5l.94-2.06 2.06-.94-2.06-.94L8.5 2.5l-.94 2.06-2.06.94zm10 10l.94 2.06.94-2.06 2.06-.94-2.06-.94-.94-2.06-.94 2.06-2.06.94z\"/><path d=\"M17.41 7.96l-1.37-1.37c-.4-.4-.92-.59-1.43-.59-.52 0-1.04.2-1.43.59L10.3 9.45l-7.72 7.72c-.78.78-.78 2.05 0 2.83L4 21.41c.39.39.9.59 1.41.59.51 0 1.02-.2 1.41-.59l7.78-7.78 2.81-2.81c.8-.78.8-2.07 0-2.86zM5.41 20L4 18.59l7.72-7.72 1.47 1.35L5.41 20z\"/>\n",
              "  </svg>\n",
              "      </button>\n",
              "      \n",
              "  <style>\n",
              "    .colab-df-container {\n",
              "      display:flex;\n",
              "      flex-wrap:wrap;\n",
              "      gap: 12px;\n",
              "    }\n",
              "\n",
              "    .colab-df-convert {\n",
              "      background-color: #E8F0FE;\n",
              "      border: none;\n",
              "      border-radius: 50%;\n",
              "      cursor: pointer;\n",
              "      display: none;\n",
              "      fill: #1967D2;\n",
              "      height: 32px;\n",
              "      padding: 0 0 0 0;\n",
              "      width: 32px;\n",
              "    }\n",
              "\n",
              "    .colab-df-convert:hover {\n",
              "      background-color: #E2EBFA;\n",
              "      box-shadow: 0px 1px 2px rgba(60, 64, 67, 0.3), 0px 1px 3px 1px rgba(60, 64, 67, 0.15);\n",
              "      fill: #174EA6;\n",
              "    }\n",
              "\n",
              "    [theme=dark] .colab-df-convert {\n",
              "      background-color: #3B4455;\n",
              "      fill: #D2E3FC;\n",
              "    }\n",
              "\n",
              "    [theme=dark] .colab-df-convert:hover {\n",
              "      background-color: #434B5C;\n",
              "      box-shadow: 0px 1px 3px 1px rgba(0, 0, 0, 0.15);\n",
              "      filter: drop-shadow(0px 1px 2px rgba(0, 0, 0, 0.3));\n",
              "      fill: #FFFFFF;\n",
              "    }\n",
              "  </style>\n",
              "\n",
              "      <script>\n",
              "        const buttonEl =\n",
              "          document.querySelector('#df-553571f3-d145-428d-b1ad-f2b6f9de6981 button.colab-df-convert');\n",
              "        buttonEl.style.display =\n",
              "          google.colab.kernel.accessAllowed ? 'block' : 'none';\n",
              "\n",
              "        async function convertToInteractive(key) {\n",
              "          const element = document.querySelector('#df-553571f3-d145-428d-b1ad-f2b6f9de6981');\n",
              "          const dataTable =\n",
              "            await google.colab.kernel.invokeFunction('convertToInteractive',\n",
              "                                                     [key], {});\n",
              "          if (!dataTable) return;\n",
              "\n",
              "          const docLinkHtml = 'Like what you see? Visit the ' +\n",
              "            '<a target=\"_blank\" href=https://colab.research.google.com/notebooks/data_table.ipynb>data table notebook</a>'\n",
              "            + ' to learn more about interactive tables.';\n",
              "          element.innerHTML = '';\n",
              "          dataTable['output_type'] = 'display_data';\n",
              "          await google.colab.output.renderOutput(dataTable, element);\n",
              "          const docLink = document.createElement('div');\n",
              "          docLink.innerHTML = docLinkHtml;\n",
              "          element.appendChild(docLink);\n",
              "        }\n",
              "      </script>\n",
              "    </div>\n",
              "  </div>\n",
              "  "
            ]
          },
          "metadata": {},
          "execution_count": 60
        }
      ],
      "source": [
        "trial_data.head()"
      ]
    },
    {
      "cell_type": "code",
      "execution_count": 61,
      "metadata": {
        "id": "waNasX3k0Fow"
      },
      "outputs": [],
      "source": [
        "LR_dict = {}\n",
        "qid_list = trial_data['qid'].unique()\n",
        "for qid in qid_list:\n",
        "    top_ones = trial_data[trial_data['qid'] == qid]\n",
        "    top_ones = top_ones.reset_index(drop=True)\n",
        "    top_ones = top_ones.sort_values(by=['Logit_rank'])\n",
        "    LR_dict[qid] = top_ones[:100]\n",
        "    # top_100 = top_ones.sort_values(by=top_ones['Logit_rank'])\n",
        "    # LR_dict[qid] = top_100"
      ]
    },
    {
      "cell_type": "code",
      "execution_count": 62,
      "metadata": {
        "id": "WHKvZ_h63DWW"
      },
      "outputs": [],
      "source": [
        "f = open(\"LR.txt\", \"w\")\n",
        "for lr_df in LR_dict.values():\n",
        "    for i, data in lr_df.iterrows():\n",
        "        qid = str(data['qid'].astype(int))\n",
        "        pid = str(data['pid'].astype(int))\n",
        "        score = str(data['LogitRegr_prob'])\n",
        "        rank = str(data['Logit_rank'].astype(int))\n",
        "        f.write(qid + \",\" + \"A2\" + \",\" + pid + \",\" + rank + \",\" + score + \",\" + \"LR\" + \"\\n\")\n",
        "f.close()"
      ]
    },
    {
      "cell_type": "code",
      "execution_count": 63,
      "metadata": {
        "id": "N5O7aX2f-x8C"
      },
      "outputs": [],
      "source": [
        "def average_precision_calc(df,retrieved,score,rank):\n",
        "    average_precision = 0\n",
        "    qid_list = np.unique(np.asarray(df['qid']))\n",
        "    ranked_passages = df[df[rank] <= retrieved]\n",
        "\n",
        "    relevant_passage = ranked_passages[ranked_passages['relevancy'] != 0]\n",
        "    relevant_passage['rank'] = relevant_passage.groupby('qid')[score].rank(method = 'first',ascending=False)\n",
        "\n",
        "    for qid in qid_list:\n",
        "        temp = relevant_passage[relevant_passage['qid'] == qid]\n",
        "        temp['rank'] = temp['rank']/temp[rank]\n",
        "        if len(temp) == 0:\n",
        "            average_precision += 0\n",
        "        else:\n",
        "            average_precision += sum(temp['rank'])/len(temp)\n",
        "\n",
        "    average_precision = average_precision/len(qid_list)\n",
        "    return average_precision"
      ]
    },
    {
      "cell_type": "code",
      "execution_count": 64,
      "metadata": {
        "id": "7NGq1cCe-x4o"
      },
      "outputs": [],
      "source": [
        "average_precision_LR = average_precision_calc(validation_data,100,'LogitRegr_prob','Logit_rank')"
      ]
    },
    {
      "cell_type": "code",
      "execution_count": 65,
      "metadata": {
        "id": "5J3U9kUd-83_",
        "colab": {
          "base_uri": "https://localhost:8080/"
        },
        "outputId": "e4a7fa4d-a6a6-40a3-a529-3a4666ee86f4"
      },
      "outputs": [
        {
          "output_type": "execute_result",
          "data": {
            "text/plain": [
              "0.015994317626481853"
            ]
          },
          "metadata": {},
          "execution_count": 65
        }
      ],
      "source": [
        "average_precision_LR"
      ]
    },
    {
      "cell_type": "code",
      "execution_count": 66,
      "metadata": {
        "id": "zqdb2dtl-_dW"
      },
      "outputs": [],
      "source": [
        "def NDCG_calc(df,retrieved, rank):\n",
        "\n",
        "    all_DCG = 0\n",
        "    relevant_passage = df[df['relevancy'] != 0]\n",
        "    relevant_passage_retrived = relevant_passage[relevant_passage[rank] <= retrieved]\n",
        "\n",
        "    qid_list = np.unique(np.asarray(df['qid']))\n",
        "\n",
        "    for qid in qid_list:\n",
        "        temp = relevant_passage[relevant_passage['qid'] == qid]\n",
        "        DCG = sum(1/np.log2(np.asarray(temp[rank])+1))\n",
        "        optDCG = sum(1/np.log2(np.arange(1,len(temp)+1)+1))\n",
        "        all_DCG += DCG/optDCG\n",
        "    all_DCG = all_DCG/len(qid_list)\n",
        "\n",
        "    return all_DCG"
      ]
    },
    {
      "cell_type": "code",
      "execution_count": 67,
      "metadata": {
        "id": "pIcF1i9G_AV5"
      },
      "outputs": [],
      "source": [
        "NDCG_LR = NDCG_calc(validation_data,100,'Logit_rank')"
      ]
    },
    {
      "cell_type": "code",
      "execution_count": 68,
      "metadata": {
        "id": "QegPkr3N_EGT",
        "colab": {
          "base_uri": "https://localhost:8080/"
        },
        "outputId": "a0b0fab8-4748-4791-d670-046aec71d6f0"
      },
      "outputs": [
        {
          "output_type": "execute_result",
          "data": {
            "text/plain": [
              "0.13809445313492075"
            ]
          },
          "metadata": {},
          "execution_count": 68
        }
      ],
      "source": [
        "NDCG_LR"
      ]
    }
  ],
  "metadata": {
    "colab": {
      "collapsed_sections": [],
      "name": "IRDM_cw2-Part2_FInal.ipynb",
      "provenance": []
    },
    "kernelspec": {
      "display_name": "Python 3",
      "name": "python3"
    },
    "language_info": {
      "name": "python"
    }
  },
  "nbformat": 4,
  "nbformat_minor": 0
}